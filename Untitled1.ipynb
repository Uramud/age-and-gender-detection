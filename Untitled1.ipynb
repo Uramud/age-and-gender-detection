{
 "cells": [
  {
   "cell_type": "code",
   "execution_count": 3,
   "source": [
    "import numpy as np\r\n",
    "import pandas as pd\r\n",
    "from keras import Sequential\r\n",
    "from keras.layers import Dense,Conv2D,Flatten,Dropout,MaxPooling2D,Activation,BatchNormalization\r\n",
    "from keras.preprocessing.image import img_to_array\r\n",
    "from sklearn.model_selection import train_test_split\r\n",
    "import matplotlib.pyplot as plt\r\n",
    "import cv2\r\n"
   ],
   "outputs": [],
   "metadata": {}
  },
  {
   "cell_type": "code",
   "execution_count": 8,
   "source": [
    "# importing multiple csv file using pandas\r\n",
    "# data = pd.concat(map(pd.read_csv,['dataset/dataset1.csv','dataset/dataset2.csv']))\r\n",
    "# data.head()"
   ],
   "outputs": [],
   "metadata": {}
  },
  {
   "cell_type": "code",
   "execution_count": 5,
   "source": [
    "data=pd.read_csv(\"dataset/age_gender.csv\")\r\n",
    "data.head()"
   ],
   "outputs": [
    {
     "output_type": "execute_result",
     "data": {
      "text/html": [
       "<div>\n",
       "<style scoped>\n",
       "    .dataframe tbody tr th:only-of-type {\n",
       "        vertical-align: middle;\n",
       "    }\n",
       "\n",
       "    .dataframe tbody tr th {\n",
       "        vertical-align: top;\n",
       "    }\n",
       "\n",
       "    .dataframe thead th {\n",
       "        text-align: right;\n",
       "    }\n",
       "</style>\n",
       "<table border=\"1\" class=\"dataframe\">\n",
       "  <thead>\n",
       "    <tr style=\"text-align: right;\">\n",
       "      <th></th>\n",
       "      <th>age</th>\n",
       "      <th>gender</th>\n",
       "      <th>img_name</th>\n",
       "      <th>pixels</th>\n",
       "    </tr>\n",
       "  </thead>\n",
       "  <tbody>\n",
       "    <tr>\n",
       "      <th>0</th>\n",
       "      <td>1</td>\n",
       "      <td>0</td>\n",
       "      <td>20161219203650636.jpg.chip.jpg</td>\n",
       "      <td>129 128 128 126 127 130 133 135 139 142 145 14...</td>\n",
       "    </tr>\n",
       "    <tr>\n",
       "      <th>1</th>\n",
       "      <td>1</td>\n",
       "      <td>0</td>\n",
       "      <td>20161219222752047.jpg.chip.jpg</td>\n",
       "      <td>164 74 111 168 169 171 175 182 184 188 193 199...</td>\n",
       "    </tr>\n",
       "    <tr>\n",
       "      <th>2</th>\n",
       "      <td>1</td>\n",
       "      <td>0</td>\n",
       "      <td>20161219222832191.jpg.chip.jpg</td>\n",
       "      <td>67 70 71 70 69 67 70 79 90 103 116 132 145 155...</td>\n",
       "    </tr>\n",
       "    <tr>\n",
       "      <th>3</th>\n",
       "      <td>1</td>\n",
       "      <td>0</td>\n",
       "      <td>20161220144911423.jpg.chip.jpg</td>\n",
       "      <td>193 197 198 200 199 200 202 203 204 205 208 21...</td>\n",
       "    </tr>\n",
       "    <tr>\n",
       "      <th>4</th>\n",
       "      <td>1</td>\n",
       "      <td>0</td>\n",
       "      <td>20161220144914327.jpg.chip.jpg</td>\n",
       "      <td>202 205 209 210 209 209 210 211 212 214 218 21...</td>\n",
       "    </tr>\n",
       "  </tbody>\n",
       "</table>\n",
       "</div>"
      ],
      "text/plain": [
       "   age  gender                        img_name  \\\n",
       "0    1       0  20161219203650636.jpg.chip.jpg   \n",
       "1    1       0  20161219222752047.jpg.chip.jpg   \n",
       "2    1       0  20161219222832191.jpg.chip.jpg   \n",
       "3    1       0  20161220144911423.jpg.chip.jpg   \n",
       "4    1       0  20161220144914327.jpg.chip.jpg   \n",
       "\n",
       "                                              pixels  \n",
       "0  129 128 128 126 127 130 133 135 139 142 145 14...  \n",
       "1  164 74 111 168 169 171 175 182 184 188 193 199...  \n",
       "2  67 70 71 70 69 67 70 79 90 103 116 132 145 155...  \n",
       "3  193 197 198 200 199 200 202 203 204 205 208 21...  \n",
       "4  202 205 209 210 209 209 210 211 212 214 218 21...  "
      ]
     },
     "metadata": {},
     "execution_count": 5
    }
   ],
   "metadata": {}
  },
  {
   "cell_type": "code",
   "execution_count": 6,
   "source": [
    "#convert pixels into numpy array\r\n",
    "data['pixels']=data['pixels'].apply(lambda x:  np.array(x.split(), dtype=\"float32\"))\r\n",
    "data.head()"
   ],
   "outputs": [
    {
     "output_type": "execute_result",
     "data": {
      "text/html": [
       "<div>\n",
       "<style scoped>\n",
       "    .dataframe tbody tr th:only-of-type {\n",
       "        vertical-align: middle;\n",
       "    }\n",
       "\n",
       "    .dataframe tbody tr th {\n",
       "        vertical-align: top;\n",
       "    }\n",
       "\n",
       "    .dataframe thead th {\n",
       "        text-align: right;\n",
       "    }\n",
       "</style>\n",
       "<table border=\"1\" class=\"dataframe\">\n",
       "  <thead>\n",
       "    <tr style=\"text-align: right;\">\n",
       "      <th></th>\n",
       "      <th>age</th>\n",
       "      <th>gender</th>\n",
       "      <th>img_name</th>\n",
       "      <th>pixels</th>\n",
       "    </tr>\n",
       "  </thead>\n",
       "  <tbody>\n",
       "    <tr>\n",
       "      <th>0</th>\n",
       "      <td>1</td>\n",
       "      <td>0</td>\n",
       "      <td>20161219203650636.jpg.chip.jpg</td>\n",
       "      <td>[129.0, 128.0, 128.0, 126.0, 127.0, 130.0, 133...</td>\n",
       "    </tr>\n",
       "    <tr>\n",
       "      <th>1</th>\n",
       "      <td>1</td>\n",
       "      <td>0</td>\n",
       "      <td>20161219222752047.jpg.chip.jpg</td>\n",
       "      <td>[164.0, 74.0, 111.0, 168.0, 169.0, 171.0, 175....</td>\n",
       "    </tr>\n",
       "    <tr>\n",
       "      <th>2</th>\n",
       "      <td>1</td>\n",
       "      <td>0</td>\n",
       "      <td>20161219222832191.jpg.chip.jpg</td>\n",
       "      <td>[67.0, 70.0, 71.0, 70.0, 69.0, 67.0, 70.0, 79....</td>\n",
       "    </tr>\n",
       "    <tr>\n",
       "      <th>3</th>\n",
       "      <td>1</td>\n",
       "      <td>0</td>\n",
       "      <td>20161220144911423.jpg.chip.jpg</td>\n",
       "      <td>[193.0, 197.0, 198.0, 200.0, 199.0, 200.0, 202...</td>\n",
       "    </tr>\n",
       "    <tr>\n",
       "      <th>4</th>\n",
       "      <td>1</td>\n",
       "      <td>0</td>\n",
       "      <td>20161220144914327.jpg.chip.jpg</td>\n",
       "      <td>[202.0, 205.0, 209.0, 210.0, 209.0, 209.0, 210...</td>\n",
       "    </tr>\n",
       "  </tbody>\n",
       "</table>\n",
       "</div>"
      ],
      "text/plain": [
       "   age  gender                        img_name  \\\n",
       "0    1       0  20161219203650636.jpg.chip.jpg   \n",
       "1    1       0  20161219222752047.jpg.chip.jpg   \n",
       "2    1       0  20161219222832191.jpg.chip.jpg   \n",
       "3    1       0  20161220144911423.jpg.chip.jpg   \n",
       "4    1       0  20161220144914327.jpg.chip.jpg   \n",
       "\n",
       "                                              pixels  \n",
       "0  [129.0, 128.0, 128.0, 126.0, 127.0, 130.0, 133...  \n",
       "1  [164.0, 74.0, 111.0, 168.0, 169.0, 171.0, 175....  \n",
       "2  [67.0, 70.0, 71.0, 70.0, 69.0, 67.0, 70.0, 79....  \n",
       "3  [193.0, 197.0, 198.0, 200.0, 199.0, 200.0, 202...  \n",
       "4  [202.0, 205.0, 209.0, 210.0, 209.0, 209.0, 210...  "
      ]
     },
     "metadata": {},
     "execution_count": 6
    }
   ],
   "metadata": {}
  },
  {
   "cell_type": "code",
   "execution_count": 7,
   "source": [
    "print('Total rows: {}'.format(len(data)))\r\n",
    "print('Total columns: {}'.format(len(data.columns)))"
   ],
   "outputs": [
    {
     "output_type": "stream",
     "name": "stdout",
     "text": [
      "Total rows: 23705\n",
      "Total columns: 4\n"
     ]
    }
   ],
   "metadata": {}
  },
  {
   "cell_type": "code",
   "execution_count": 8,
   "source": [
    "# ## normalizing pixels data\r\n",
    "data['pixels'] = data['pixels'].apply(lambda x: x/255)\r\n",
    "data.head()"
   ],
   "outputs": [
    {
     "output_type": "execute_result",
     "data": {
      "text/html": [
       "<div>\n",
       "<style scoped>\n",
       "    .dataframe tbody tr th:only-of-type {\n",
       "        vertical-align: middle;\n",
       "    }\n",
       "\n",
       "    .dataframe tbody tr th {\n",
       "        vertical-align: top;\n",
       "    }\n",
       "\n",
       "    .dataframe thead th {\n",
       "        text-align: right;\n",
       "    }\n",
       "</style>\n",
       "<table border=\"1\" class=\"dataframe\">\n",
       "  <thead>\n",
       "    <tr style=\"text-align: right;\">\n",
       "      <th></th>\n",
       "      <th>age</th>\n",
       "      <th>gender</th>\n",
       "      <th>img_name</th>\n",
       "      <th>pixels</th>\n",
       "    </tr>\n",
       "  </thead>\n",
       "  <tbody>\n",
       "    <tr>\n",
       "      <th>0</th>\n",
       "      <td>1</td>\n",
       "      <td>0</td>\n",
       "      <td>20161219203650636.jpg.chip.jpg</td>\n",
       "      <td>[0.5058824, 0.5019608, 0.5019608, 0.49411765, ...</td>\n",
       "    </tr>\n",
       "    <tr>\n",
       "      <th>1</th>\n",
       "      <td>1</td>\n",
       "      <td>0</td>\n",
       "      <td>20161219222752047.jpg.chip.jpg</td>\n",
       "      <td>[0.6431373, 0.2901961, 0.43529412, 0.65882355,...</td>\n",
       "    </tr>\n",
       "    <tr>\n",
       "      <th>2</th>\n",
       "      <td>1</td>\n",
       "      <td>0</td>\n",
       "      <td>20161219222832191.jpg.chip.jpg</td>\n",
       "      <td>[0.2627451, 0.27450982, 0.2784314, 0.27450982,...</td>\n",
       "    </tr>\n",
       "    <tr>\n",
       "      <th>3</th>\n",
       "      <td>1</td>\n",
       "      <td>0</td>\n",
       "      <td>20161220144911423.jpg.chip.jpg</td>\n",
       "      <td>[0.75686276, 0.77254903, 0.7764706, 0.78431374...</td>\n",
       "    </tr>\n",
       "    <tr>\n",
       "      <th>4</th>\n",
       "      <td>1</td>\n",
       "      <td>0</td>\n",
       "      <td>20161220144914327.jpg.chip.jpg</td>\n",
       "      <td>[0.7921569, 0.8039216, 0.81960785, 0.8235294, ...</td>\n",
       "    </tr>\n",
       "  </tbody>\n",
       "</table>\n",
       "</div>"
      ],
      "text/plain": [
       "   age  gender                        img_name  \\\n",
       "0    1       0  20161219203650636.jpg.chip.jpg   \n",
       "1    1       0  20161219222752047.jpg.chip.jpg   \n",
       "2    1       0  20161219222832191.jpg.chip.jpg   \n",
       "3    1       0  20161220144911423.jpg.chip.jpg   \n",
       "4    1       0  20161220144914327.jpg.chip.jpg   \n",
       "\n",
       "                                              pixels  \n",
       "0  [0.5058824, 0.5019608, 0.5019608, 0.49411765, ...  \n",
       "1  [0.6431373, 0.2901961, 0.43529412, 0.65882355,...  \n",
       "2  [0.2627451, 0.27450982, 0.2784314, 0.27450982,...  \n",
       "3  [0.75686276, 0.77254903, 0.7764706, 0.78431374...  \n",
       "4  [0.7921569, 0.8039216, 0.81960785, 0.8235294, ...  "
      ]
     },
     "metadata": {},
     "execution_count": 8
    }
   ],
   "metadata": {}
  },
  {
   "cell_type": "code",
   "execution_count": 9,
   "source": [
    "X = np.array(data['pixels'].tolist())\r\n",
    "\r\n",
    "## Converting pixels from 1D to 2D\r\n",
    "X = X.reshape(X.shape[0],48,48,1)\r\n",
    "\r\n",
    "# show image\r\n",
    "plt.figure(figsize=(16,16))\r\n",
    "for i in range(1500,1505):\r\n",
    "    plt.subplot(5,5,(i%25)+1)\r\n",
    "    plt.grid(False)\r\n",
    "    plt.imshow(data['pixels'].iloc[i].reshape(48,48))\r\n",
    "    plt.xlabel(\r\n",
    "        \"Age:\"+str(data['age'].iloc[i])+\r\n",
    "        \"  Gender:\"+ str(data['gender'].iloc[i])\r\n",
    "    )\r\n",
    "plt.show()"
   ],
   "outputs": [
    {
     "output_type": "display_data",
     "data": {
      "image/png": "[encoded data removed]",
      "text/plain": [
       "<Figure size 1152x1152 with 5 Axes>"
      ]
     },
     "metadata": {
      "needs_background": "light"
     }
    }
   ],
   "metadata": {}
  },
  {
   "cell_type": "markdown",
   "source": [
    "# Model for Gender Prediction"
   ],
   "metadata": {}
  },
  {
   "cell_type": "code",
   "execution_count": 10,
   "source": [
    "print('shape:',X.shape[1:])"
   ],
   "outputs": [
    {
     "output_type": "stream",
     "name": "stdout",
     "text": [
      "shape: (48, 48, 1)\n"
     ]
    }
   ],
   "metadata": {}
  },
  {
   "cell_type": "code",
   "execution_count": 104,
   "source": [
    "#Split data into train/test\r\n",
    "y = data['gender']\r\n",
    "\r\n",
    "X_train, X_test, y_train, y_test = train_test_split ( X, y, test_size=0.1, random_state=22)"
   ],
   "outputs": [],
   "metadata": {}
  },
  {
   "cell_type": "code",
   "execution_count": 107,
   "source": [
    "model1 = Sequential()\r\n",
    "\r\n",
    "model1.add(Conv2D(64,(3,3),input_shape=(X.shape[1:]))) # 64 neurons with 3*3 filter\r\n",
    "# create convolutional neural network to extract feature from the images\r\n",
    "model1.add(Activation('relu'))\r\n",
    "model1.add(MaxPooling2D(pool_size=(2,2))) # to reduce size of image\r\n",
    "model1.add(Dropout(0.1)) # if our model learns a lot we need to remove some nodes.\r\n",
    "\r\n",
    "model1.add(Conv2D(128,(3,3),input_shape=(X.shape[1:]))) # 64 neurons with 3*3 filter\r\n",
    "# create convolutional neural network to extract feature from the images\r\n",
    "model1.add(Activation('relu'))\r\n",
    "model1.add(MaxPooling2D(pool_size=(2,2))) # to reduce size of image\r\n",
    "model1.add(Dropout(0.1))\r\n",
    "\r\n",
    "model1.add(Flatten()) # flat 2nd last layer to vertical\r\n",
    "model1.add(Dense(64)) # 64 neurons with 3*3 filter\r\n",
    "# no. of output modes in hiden layers\r\n",
    "model1.add(Activation('relu'))\r\n",
    "\r\n",
    "model1.add(Dense(1)) # output layer (1 neuron at last)\r\n",
    "model1.add(Activation('sigmoid')) # put output single node as sigmoid value(0 to 1 in decimal)\r\n",
    "# if you want output single node as 0 or 1 -> use softmax\r\n",
    "\r\n",
    "# model1.summary()\r\n",
    "model1.compile(optimizer='sgd',loss='binary_crossentropy',metrics=['accuracy'])"
   ],
   "outputs": [],
   "metadata": {}
  },
  {
   "cell_type": "markdown",
   "source": [
    "# Testing"
   ],
   "metadata": {}
  },
  {
   "cell_type": "code",
   "execution_count": 10,
   "source": [
    "# model1 = Sequential()\r\n",
    "\r\n",
    "# model1.add(Conv2D(32, (3,3),padding=\"same\",input_shape=(X.shape[1:])))\r\n",
    "# model1.add(Activation(\"relu\"))\r\n",
    "# # model1.add(BatchNormalization(axis=1))\r\n",
    "# model1.add(BatchNormalization(axis=1))\r\n",
    "# model1.add(MaxPooling2D(pool_size=(2,2)))\r\n",
    "# model1.add(Dropout(0.3))\r\n",
    "\r\n",
    "# model1.add(Conv2D(64, (3,3),padding=\"same\"))\r\n",
    "# model1.add(Activation(\"relu\"))\r\n",
    "# # model1.add(BatchNormalization(axis=1))\r\n",
    "\r\n",
    "# model1.add(Conv2D(64, (3,3),padding=\"same\"))\r\n",
    "# model1.add(Activation(\"relu\"))\r\n",
    "# # model1.add(BatchNormalization(axis=1))\r\n",
    "# model1.add(MaxPooling2D(pool_size=(2,2)))\r\n",
    "# model1.add(Dropout(0.3))\r\n",
    "\r\n",
    "# model1.add(Conv2D(128, (3,3),padding=\"same\"))\r\n",
    "# model1.add(Activation(\"relu\"))\r\n",
    "# # model1.add(BatchNormalization(axis=1))\r\n",
    "\r\n",
    "# model1.add(Flatten())\r\n",
    "# model1.add(Dense(64))\r\n",
    "# model1.add(Activation(\"relu\"))\r\n",
    "# # model1.add(BatchNormalization(axis=1))\r\n",
    "# model1.add(Dropout(0.3))\r\n",
    "\r\n",
    "# model1.add(Dense(1))\r\n",
    "# model1.add(Activation('sigmoid'))\r\n",
    "\r\n",
    "# # model1.summary()\r\n",
    "# model1.compile(optimizer='sgd',loss='binary_crossentropy'X.shape[1:],metrics=['accuracy'])\r\n",
    "\r\n",
    "# #optimizer \r\n",
    "# # adam,sgd, adaBound, AmsBound"
   ],
   "outputs": [],
   "metadata": {}
  },
  {
   "cell_type": "code",
   "execution_count": 101,
   "source": [
    "model2 = Sequential()\r\n",
    "    \r\n",
    "# model2.add(InputLayer(input_shape=(48,48,1)))\r\n",
    "model2.add(Conv2D(32, (3, 3), activation='relu', input_shape=(X.shape[1:])))\r\n",
    "model2.add(BatchNormalization())\r\n",
    "model2.add(MaxPooling2D((2, 2)))\r\n",
    "model2.add(Conv2D(64, (3, 3), activation='relu'))\r\n",
    "model2.add(MaxPooling2D((2, 2)))\r\n",
    "model2.add(Flatten())\r\n",
    "model2.add(Dense(64, activation='relu'))\r\n",
    "model2.add(Dropout(rate=0.5))\r\n",
    "model2.add(Dense(1, activation='sigmoid'))\r\n",
    "\r\n",
    "\r\n",
    "model2.compile(optimizer='sgd',\r\n",
    "              loss=\"binary_crossentropy\",\r\n",
    "              metrics=['accuracy'])\r\n",
    "\r\n",
    "\r\n",
    "# ## Stop training when validation loss reach 0.2700\r\n",
    "# class myCallback(tf.keras.callbacks.Callback):\r\n",
    "#     def on_epoch_end(self, epoch, logs={}):\r\n",
    "#         if(logs.get('val_loss')<0.2700):\r\n",
    "#             print(\"\\nReached 0.2700 val_loss so cancelling training!\")\r\n",
    "#             self.model.stop_training = True\r\n",
    "        \r\n",
    "# callback = myCallback()\r\n",
    "\r\n",
    "model2.summary()"
   ],
   "outputs": [],
   "metadata": {}
  },
  {
   "cell_type": "code",
   "execution_count": 108,
   "source": [
    "history = model1.fit(X_train, y_train, epochs=5,validation_data=(X_test,y_test), batch_size=288)\r\n",
    "# validation_split=0.2,validation_data=(X_test,y_test), "
   ],
   "outputs": [
    {
     "output_type": "stream",
     "name": "stdout",
     "text": [
      "Epoch 1/5\n",
      "75/75 [==============================] - 160s 2s/step - loss: 0.6887 - accuracy: 0.5588 - val_loss: 0.6847 - val_accuracy: 0.6550\n",
      "Epoch 2/5\n",
      "75/75 [==============================] - 166s 2s/step - loss: 0.6780 - accuracy: 0.6393 - val_loss: 0.6741 - val_accuracy: 0.6373\n",
      "Epoch 3/5\n",
      "75/75 [==============================] - 160s 2s/step - loss: 0.6628 - accuracy: 0.6542 - val_loss: 0.6586 - val_accuracy: 0.6592\n",
      "Epoch 4/5\n",
      "75/75 [==============================] - 167s 2s/step - loss: 0.6442 - accuracy: 0.6609 - val_loss: 0.6380 - val_accuracy: 0.6668\n",
      "Epoch 5/5\n",
      "75/75 [==============================] - 154s 2s/step - loss: 0.6254 - accuracy: 0.6665 - val_loss: 0.6194 - val_accuracy: 0.6811\n"
     ]
    }
   ],
   "metadata": {}
  },
  {
   "cell_type": "code",
   "execution_count": 109,
   "source": [
    "model1.evaluate(X_test,y_test)"
   ],
   "outputs": [
    {
     "output_type": "stream",
     "name": "stdout",
     "text": [
      "75/75 [==============================] - 4s 55ms/step - loss: 0.6194 - accuracy: 0.6811\n"
     ]
    },
    {
     "output_type": "execute_result",
     "data": {
      "text/plain": [
       "[0.6194036602973938, 0.6811472177505493]"
      ]
     },
     "metadata": {},
     "execution_count": 109
    }
   ],
   "metadata": {}
  },
  {
   "cell_type": "code",
   "execution_count": 14,
   "source": [
    "# save model\r\n",
    "model1.save('GenderModel/gender_sgd_val_52_ac_52.h5')"
   ],
   "outputs": [],
   "metadata": {}
  },
  {
   "cell_type": "code",
   "execution_count": 15,
   "source": [
    "# # Load model\r\n",
    "# from keras.preprocessing.image import img_to_array\r\n",
    "# import matplotlib.pyplot as plt\r\n",
    "# from tensorflow import keras\r\n",
    "# import numpy as np\r\n",
    "# import cv2\r\n",
    "# model1 = keras.models.load_model('untitled_gender.h5')"
   ],
   "outputs": [],
   "metadata": {}
  },
  {
   "cell_type": "markdown",
   "source": [
    "# Testing Gender Manually"
   ],
   "metadata": {}
  },
  {
   "cell_type": "code",
   "execution_count": 18,
   "source": [
    "# show image\r\n",
    "# ii male = 45,20,202\r\n",
    "# ii female = 22,21,25,47\r\n",
    "ii = 1647\r\n",
    "plt.imshow(X_test[ii])\r\n",
    "plt.xlabel(\"Gender:\"+ str(y_test.iloc[ii]))\r\n",
    "plt.show()\r\n",
    "# gender predict\r\n",
    "image_pixels = img_to_array(X_test[ii])\r\n",
    "image_pixels = np.expand_dims(image_pixels,axis=0)\r\n",
    "gend = model1.predict(image_pixels)\r\n",
    "print(gend)\r\n",
    "if gend[0][0] <=0.5:\r\n",
    "    print('male')\r\n",
    "else:\r\n",
    "    print('female')"
   ],
   "outputs": [
    {
     "output_type": "display_data",
     "data": {
      "image/png": "[encoded data removed]",
      "text/plain": [
       "<Figure size 432x288 with 1 Axes>"
      ]
     },
     "metadata": {
      "needs_background": "light"
     }
    },
    {
     "output_type": "stream",
     "name": "stdout",
     "text": [
      "[[0.5332126]]\n",
      "female\n"
     ]
    }
   ],
   "metadata": {}
  },
  {
   "cell_type": "code",
   "execution_count": 48,
   "source": [
    "sample_image = cv2.imread('opencv1.jpg')\r\n",
    "sample_image = cv2.cvtColor(sample_image,cv2.COLOR_BGR2GRAY)\r\n",
    "faces = cv2.CascadeClassifier('haarcascade_frontalface_default.xml').detectMultiScale(sample_image,1.2,4)\r\n",
    "\r\n",
    "for (x,y,w,h) in faces:\r\n",
    "    cv2.rectangle(sample_image,(x,y),(x+w,y+h),(0,0,255),2)\r\n",
    "    roi_gray = sample_image[y:y+w,x:x+h]\r\n",
    "    roi_gray = cv2.resize(roi_gray,(48,48))\r\n",
    "    image_pixels = img_to_array(roi_gray)\r\n",
    "    image_pixels = np.expand_dims(image_pixels,axis=0)\r\n",
    "    image_pixels /=255\r\n",
    "   \r\n",
    "    predictions = model1.predict(image_pixels)\r\n",
    "    print(predictions)\r\n",
    "    if predictions[0][0]<=0.5:\r\n",
    "        print('male')\r\n",
    "    else:\r\n",
    "        print('female')\r\n",
    "    plt.imshow(roi_gray)"
   ],
   "outputs": [
    {
     "output_type": "stream",
     "name": "stdout",
     "text": [
      "[[0.4420283]]\n",
      "male\n"
     ]
    },
    {
     "output_type": "display_data",
     "data": {
      "image/png": "[encoded data removed]",
      "text/plain": [
       "<Figure size 432x288 with 1 Axes>"
      ]
     },
     "metadata": {
      "needs_background": "light"
     }
    }
   ],
   "metadata": {}
  },
  {
   "cell_type": "code",
   "execution_count": null,
   "source": [],
   "outputs": [],
   "metadata": {}
  }
 ],
 "metadata": {
  "kernelspec": {
   "name": "python3",
   "display_name": "Python 3.9.7 64-bit"
  },
  "language_info": {
   "codemirror_mode": {
    "name": "ipython",
    "version": 3
   },
   "file_extension": ".py",
   "mimetype": "text/x-python",
   "name": "python",
   "nbconvert_exporter": "python",
   "pygments_lexer": "ipython3",
   "version": "3.9.7"
  },
  "interpreter": {
   "hash": "63fd5069d213b44bf678585dea6b12cceca9941eaf7f819626cde1f2670de90d"
  }
 },
 "nbformat": 4,
 "nbformat_minor": 5
}