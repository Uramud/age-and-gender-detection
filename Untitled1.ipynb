{
 "cells": [
  {
   "cell_type": "code",
   "execution_count": 2,
   "source": [
    "import numpy as np\r\n",
    "import pandas as pd\r\n",
    "from keras import Sequential\r\n",
    "from keras.layers import Dense,Conv2D,Flatten,Dropout,MaxPooling2D,Activation\r\n",
    "from keras.preprocessing.image import img_to_array\r\n",
    "from sklearn.model_selection import train_test_split\r\n",
    "import matplotlib.pyplot as plt\r\n",
    "import cv2\r\n"
   ],
   "outputs": [],
   "metadata": {}
  },
  {
   "cell_type": "code",
   "execution_count": 3,
   "source": [
    "data=pd.read_csv(\"dataset/age_gender.csv\")\r\n",
    "data.head()"
   ],
   "outputs": [
    {
     "output_type": "execute_result",
     "data": {
      "text/plain": [
       "   age  gender                        img_name  \\\n",
       "0    1       0  20161219203650636.jpg.chip.jpg   \n",
       "1    1       0  20161219222752047.jpg.chip.jpg   \n",
       "2    1       0  20161219222832191.jpg.chip.jpg   \n",
       "3    1       0  20161220144911423.jpg.chip.jpg   \n",
       "4    1       0  20161220144914327.jpg.chip.jpg   \n",
       "\n",
       "                                              pixels  \n",
       "0  129 128 128 126 127 130 133 135 139 142 145 14...  \n",
       "1  164 74 111 168 169 171 175 182 184 188 193 199...  \n",
       "2  67 70 71 70 69 67 70 79 90 103 116 132 145 155...  \n",
       "3  193 197 198 200 199 200 202 203 204 205 208 21...  \n",
       "4  202 205 209 210 209 209 210 211 212 214 218 21...  "
      ],
      "text/html": [
       "<div>\n",
       "<style scoped>\n",
       "    .dataframe tbody tr th:only-of-type {\n",
       "        vertical-align: middle;\n",
       "    }\n",
       "\n",
       "    .dataframe tbody tr th {\n",
       "        vertical-align: top;\n",
       "    }\n",
       "\n",
       "    .dataframe thead th {\n",
       "        text-align: right;\n",
       "    }\n",
       "</style>\n",
       "<table border=\"1\" class=\"dataframe\">\n",
       "  <thead>\n",
       "    <tr style=\"text-align: right;\">\n",
       "      <th></th>\n",
       "      <th>age</th>\n",
       "      <th>gender</th>\n",
       "      <th>img_name</th>\n",
       "      <th>pixels</th>\n",
       "    </tr>\n",
       "  </thead>\n",
       "  <tbody>\n",
       "    <tr>\n",
       "      <th>0</th>\n",
       "      <td>1</td>\n",
       "      <td>0</td>\n",
       "      <td>20161219203650636.jpg.chip.jpg</td>\n",
       "      <td>129 128 128 126 127 130 133 135 139 142 145 14...</td>\n",
       "    </tr>\n",
       "    <tr>\n",
       "      <th>1</th>\n",
       "      <td>1</td>\n",
       "      <td>0</td>\n",
       "      <td>20161219222752047.jpg.chip.jpg</td>\n",
       "      <td>164 74 111 168 169 171 175 182 184 188 193 199...</td>\n",
       "    </tr>\n",
       "    <tr>\n",
       "      <th>2</th>\n",
       "      <td>1</td>\n",
       "      <td>0</td>\n",
       "      <td>20161219222832191.jpg.chip.jpg</td>\n",
       "      <td>67 70 71 70 69 67 70 79 90 103 116 132 145 155...</td>\n",
       "    </tr>\n",
       "    <tr>\n",
       "      <th>3</th>\n",
       "      <td>1</td>\n",
       "      <td>0</td>\n",
       "      <td>20161220144911423.jpg.chip.jpg</td>\n",
       "      <td>193 197 198 200 199 200 202 203 204 205 208 21...</td>\n",
       "    </tr>\n",
       "    <tr>\n",
       "      <th>4</th>\n",
       "      <td>1</td>\n",
       "      <td>0</td>\n",
       "      <td>20161220144914327.jpg.chip.jpg</td>\n",
       "      <td>202 205 209 210 209 209 210 211 212 214 218 21...</td>\n",
       "    </tr>\n",
       "  </tbody>\n",
       "</table>\n",
       "</div>"
      ]
     },
     "metadata": {},
     "execution_count": 3
    }
   ],
   "metadata": {}
  },
  {
   "cell_type": "code",
   "execution_count": 4,
   "source": [
    "#convert pixels into numpy array\r\n",
    "data['pixels']=data['pixels'].apply(lambda x:  np.array(x.split(), dtype=\"float32\"))\r\n",
    "data.head()"
   ],
   "outputs": [
    {
     "output_type": "execute_result",
     "data": {
      "text/plain": [
       "   age  gender                        img_name  \\\n",
       "0    1       0  20161219203650636.jpg.chip.jpg   \n",
       "1    1       0  20161219222752047.jpg.chip.jpg   \n",
       "2    1       0  20161219222832191.jpg.chip.jpg   \n",
       "3    1       0  20161220144911423.jpg.chip.jpg   \n",
       "4    1       0  20161220144914327.jpg.chip.jpg   \n",
       "\n",
       "                                              pixels  \n",
       "0  [129.0, 128.0, 128.0, 126.0, 127.0, 130.0, 133...  \n",
       "1  [164.0, 74.0, 111.0, 168.0, 169.0, 171.0, 175....  \n",
       "2  [67.0, 70.0, 71.0, 70.0, 69.0, 67.0, 70.0, 79....  \n",
       "3  [193.0, 197.0, 198.0, 200.0, 199.0, 200.0, 202...  \n",
       "4  [202.0, 205.0, 209.0, 210.0, 209.0, 209.0, 210...  "
      ],
      "text/html": [
       "<div>\n",
       "<style scoped>\n",
       "    .dataframe tbody tr th:only-of-type {\n",
       "        vertical-align: middle;\n",
       "    }\n",
       "\n",
       "    .dataframe tbody tr th {\n",
       "        vertical-align: top;\n",
       "    }\n",
       "\n",
       "    .dataframe thead th {\n",
       "        text-align: right;\n",
       "    }\n",
       "</style>\n",
       "<table border=\"1\" class=\"dataframe\">\n",
       "  <thead>\n",
       "    <tr style=\"text-align: right;\">\n",
       "      <th></th>\n",
       "      <th>age</th>\n",
       "      <th>gender</th>\n",
       "      <th>img_name</th>\n",
       "      <th>pixels</th>\n",
       "    </tr>\n",
       "  </thead>\n",
       "  <tbody>\n",
       "    <tr>\n",
       "      <th>0</th>\n",
       "      <td>1</td>\n",
       "      <td>0</td>\n",
       "      <td>20161219203650636.jpg.chip.jpg</td>\n",
       "      <td>[129.0, 128.0, 128.0, 126.0, 127.0, 130.0, 133...</td>\n",
       "    </tr>\n",
       "    <tr>\n",
       "      <th>1</th>\n",
       "      <td>1</td>\n",
       "      <td>0</td>\n",
       "      <td>20161219222752047.jpg.chip.jpg</td>\n",
       "      <td>[164.0, 74.0, 111.0, 168.0, 169.0, 171.0, 175....</td>\n",
       "    </tr>\n",
       "    <tr>\n",
       "      <th>2</th>\n",
       "      <td>1</td>\n",
       "      <td>0</td>\n",
       "      <td>20161219222832191.jpg.chip.jpg</td>\n",
       "      <td>[67.0, 70.0, 71.0, 70.0, 69.0, 67.0, 70.0, 79....</td>\n",
       "    </tr>\n",
       "    <tr>\n",
       "      <th>3</th>\n",
       "      <td>1</td>\n",
       "      <td>0</td>\n",
       "      <td>20161220144911423.jpg.chip.jpg</td>\n",
       "      <td>[193.0, 197.0, 198.0, 200.0, 199.0, 200.0, 202...</td>\n",
       "    </tr>\n",
       "    <tr>\n",
       "      <th>4</th>\n",
       "      <td>1</td>\n",
       "      <td>0</td>\n",
       "      <td>20161220144914327.jpg.chip.jpg</td>\n",
       "      <td>[202.0, 205.0, 209.0, 210.0, 209.0, 209.0, 210...</td>\n",
       "    </tr>\n",
       "  </tbody>\n",
       "</table>\n",
       "</div>"
      ]
     },
     "metadata": {},
     "execution_count": 4
    }
   ],
   "metadata": {}
  },
  {
   "cell_type": "code",
   "execution_count": 5,
   "source": [
    "print('Total rows: {}'.format(len(data)))\r\n",
    "print('Total columns: {}'.format(len(data.columns)))"
   ],
   "outputs": [
    {
     "output_type": "stream",
     "name": "stdout",
     "text": [
      "Total rows: 23705\n",
      "Total columns: 4\n"
     ]
    }
   ],
   "metadata": {}
  },
  {
   "cell_type": "code",
   "execution_count": 6,
   "source": [
    "# ## normalizing pixels data\r\n",
    "data['pixels'] = data['pixels'].apply(lambda x: x/255)\r\n",
    "data.head()"
   ],
   "outputs": [
    {
     "output_type": "execute_result",
     "data": {
      "text/plain": [
       "   age  gender                        img_name  \\\n",
       "0    1       0  20161219203650636.jpg.chip.jpg   \n",
       "1    1       0  20161219222752047.jpg.chip.jpg   \n",
       "2    1       0  20161219222832191.jpg.chip.jpg   \n",
       "3    1       0  20161220144911423.jpg.chip.jpg   \n",
       "4    1       0  20161220144914327.jpg.chip.jpg   \n",
       "\n",
       "                                              pixels  \n",
       "0  [0.5058824, 0.5019608, 0.5019608, 0.49411765, ...  \n",
       "1  [0.6431373, 0.2901961, 0.43529412, 0.65882355,...  \n",
       "2  [0.2627451, 0.27450982, 0.2784314, 0.27450982,...  \n",
       "3  [0.75686276, 0.77254903, 0.7764706, 0.78431374...  \n",
       "4  [0.7921569, 0.8039216, 0.81960785, 0.8235294, ...  "
      ],
      "text/html": [
       "<div>\n",
       "<style scoped>\n",
       "    .dataframe tbody tr th:only-of-type {\n",
       "        vertical-align: middle;\n",
       "    }\n",
       "\n",
       "    .dataframe tbody tr th {\n",
       "        vertical-align: top;\n",
       "    }\n",
       "\n",
       "    .dataframe thead th {\n",
       "        text-align: right;\n",
       "    }\n",
       "</style>\n",
       "<table border=\"1\" class=\"dataframe\">\n",
       "  <thead>\n",
       "    <tr style=\"text-align: right;\">\n",
       "      <th></th>\n",
       "      <th>age</th>\n",
       "      <th>gender</th>\n",
       "      <th>img_name</th>\n",
       "      <th>pixels</th>\n",
       "    </tr>\n",
       "  </thead>\n",
       "  <tbody>\n",
       "    <tr>\n",
       "      <th>0</th>\n",
       "      <td>1</td>\n",
       "      <td>0</td>\n",
       "      <td>20161219203650636.jpg.chip.jpg</td>\n",
       "      <td>[0.5058824, 0.5019608, 0.5019608, 0.49411765, ...</td>\n",
       "    </tr>\n",
       "    <tr>\n",
       "      <th>1</th>\n",
       "      <td>1</td>\n",
       "      <td>0</td>\n",
       "      <td>20161219222752047.jpg.chip.jpg</td>\n",
       "      <td>[0.6431373, 0.2901961, 0.43529412, 0.65882355,...</td>\n",
       "    </tr>\n",
       "    <tr>\n",
       "      <th>2</th>\n",
       "      <td>1</td>\n",
       "      <td>0</td>\n",
       "      <td>20161219222832191.jpg.chip.jpg</td>\n",
       "      <td>[0.2627451, 0.27450982, 0.2784314, 0.27450982,...</td>\n",
       "    </tr>\n",
       "    <tr>\n",
       "      <th>3</th>\n",
       "      <td>1</td>\n",
       "      <td>0</td>\n",
       "      <td>20161220144911423.jpg.chip.jpg</td>\n",
       "      <td>[0.75686276, 0.77254903, 0.7764706, 0.78431374...</td>\n",
       "    </tr>\n",
       "    <tr>\n",
       "      <th>4</th>\n",
       "      <td>1</td>\n",
       "      <td>0</td>\n",
       "      <td>20161220144914327.jpg.chip.jpg</td>\n",
       "      <td>[0.7921569, 0.8039216, 0.81960785, 0.8235294, ...</td>\n",
       "    </tr>\n",
       "  </tbody>\n",
       "</table>\n",
       "</div>"
      ]
     },
     "metadata": {},
     "execution_count": 6
    }
   ],
   "metadata": {}
  },
  {
   "cell_type": "code",
   "execution_count": 7,
   "source": [
    "X = np.array(data['pixels'].tolist())\r\n",
    "\r\n",
    "## Converting pixels from 1D to 2D\r\n",
    "X = X.reshape(X.shape[0],48,48,1)\r\n",
    "\r\n",
    "# show image\r\n",
    "plt.figure(figsize=(16,16))\r\n",
    "for i in range(1500,1505):\r\n",
    "    plt.subplot(5,5,(i%25)+1)\r\n",
    "    plt.grid(False)\r\n",
    "    plt.imshow(data['pixels'].iloc[i].reshape(48,48))\r\n",
    "    plt.xlabel(\r\n",
    "        \"Age:\"+str(data['age'].iloc[i])+\r\n",
    "        \"  Gender:\"+ str(data['gender'].iloc[i])\r\n",
    "    )\r\n",
    "plt.show()"
   ],
   "outputs": [
    {
     "output_type": "display_data",
     "data": {
      "text/plain": [
       "<Figure size 1152x1152 with 5 Axes>"
      ],
      "image/png": "[encoded data removed]"
     },
     "metadata": {
      "needs_background": "light"
     }
    }
   ],
   "metadata": {}
  },
  {
   "cell_type": "markdown",
   "source": [
    "# Model for Gender Prediction"
   ],
   "metadata": {}
  },
  {
   "cell_type": "code",
   "execution_count": 11,
   "source": [
    "print('shape:',X.shape[1:])"
   ],
   "outputs": [
    {
     "output_type": "stream",
     "name": "stdout",
     "text": [
      "shape: (48, 48, 1)\n"
     ]
    }
   ],
   "metadata": {}
  },
  {
   "cell_type": "code",
   "execution_count": 9,
   "source": [
    "#Split data into train/test\r\n",
    "y = data['gender']\r\n",
    "\r\n",
    "X_train, X_test, y_train, y_test = train_test_split ( X, y, test_size=0.20, random_state=37)"
   ],
   "outputs": [],
   "metadata": {}
  },
  {
   "cell_type": "code",
   "execution_count": 12,
   "source": [
    "model1 = Sequential()\r\n",
    "model1.add(Conv2D(64,(3,3),input_shape=(X.shape[1:]))) # 64 neurons with 3*3 filter\r\n",
    "# create convolutional neural network to extract feature from the images\r\n",
    "\r\n",
    "model1.add(Activation('relu'))\r\n",
    "model1.add(MaxPooling2D(pool_size=(2,2))) # to reduce size of image\r\n",
    "model1.add(Dropout(0.2)) # if our model learns a lot we need to remove some nodes.\r\n",
    "\r\n",
    "model1.add(Flatten()) # flat 2nd last layer to vertical\r\n",
    "model1.add(Dense(64)) # 64 neurons with 3*3 filter\r\n",
    "# no. of output modes in hiden layers\r\n",
    "\r\n",
    "model1.add(Activation('relu'))\r\n",
    "model1.add(Dense(1)) # output layer (1 neuron at last)\r\n",
    "\r\n",
    "model1.add(Activation('sigmoid')) # put output single node as sigmoid value(0 to 1 in decimal)\r\n",
    "# if you want output single node as 0 or 1 -> use softmax\r\n",
    "\r\n",
    "# model1.summary()\r\n",
    "model1.compile(optimizer='sgd',loss='binary_crossentropy',metrics=['accuracy'])"
   ],
   "outputs": [],
   "metadata": {}
  },
  {
   "cell_type": "code",
   "execution_count": 13,
   "source": [
    "history = model1.fit(X_train, y_train, epochs=5, validation_split=0.1,validation_data=(X_test,y_test), batch_size=1024)"
   ],
   "outputs": [
    {
     "output_type": "stream",
     "name": "stdout",
     "text": [
      "Epoch 1/5\n",
      "17/17 [==============================] - 77s 4s/step - loss: 0.6881 - accuracy: 0.5689 - val_loss: 0.6830 - val_accuracy: 0.5598\n",
      "Epoch 2/5\n",
      "17/17 [==============================] - 56s 3s/step - loss: 0.6805 - accuracy: 0.6076 - val_loss: 0.6749 - val_accuracy: 0.6805\n",
      "Epoch 3/5\n",
      "17/17 [==============================] - 58s 3s/step - loss: 0.6721 - accuracy: 0.6555 - val_loss: 0.6657 - val_accuracy: 0.6726\n",
      "Epoch 4/5\n",
      "17/17 [==============================] - 56s 3s/step - loss: 0.6634 - accuracy: 0.6634 - val_loss: 0.6569 - val_accuracy: 0.6763\n",
      "Epoch 5/5\n",
      "17/17 [==============================] - 55s 3s/step - loss: 0.6548 - accuracy: 0.6626 - val_loss: 0.6483 - val_accuracy: 0.6726\n"
     ]
    }
   ],
   "metadata": {}
  },
  {
   "cell_type": "code",
   "execution_count": 14,
   "source": [
    "model1.evaluate(X_test,y_test)"
   ],
   "outputs": [
    {
     "output_type": "stream",
     "name": "stdout",
     "text": [
      "149/149 [==============================] - 4s 28ms/step - loss: 0.6477 - accuracy: 0.6743\n"
     ]
    },
    {
     "output_type": "execute_result",
     "data": {
      "text/plain": [
       "[0.6477231383323669, 0.6743302941322327]"
      ]
     },
     "metadata": {},
     "execution_count": 14
    }
   ],
   "metadata": {}
  },
  {
   "cell_type": "code",
   "execution_count": 15,
   "source": [
    "# save model\r\n",
    "model1.save('untitled_gender_67.h5')"
   ],
   "outputs": [],
   "metadata": {}
  },
  {
   "cell_type": "code",
   "execution_count": 25,
   "source": [
    "# # Load model\r\n",
    "# from keras.preprocessing.image import img_to_array\r\n",
    "# import matplotlib.pyplot as plt\r\n",
    "# from tensorflow import keras\r\n",
    "# import numpy as np\r\n",
    "# import cv2\r\n",
    "# model1 = keras.models.load_model('untitled_gender.h5')"
   ],
   "outputs": [],
   "metadata": {}
  },
  {
   "cell_type": "code",
   "execution_count": 27,
   "source": [
    "# show image\r\n",
    "# ii = 2,5\r\n",
    "# ii = 3,4\r\n",
    "ii = 12\r\n",
    "\r\n",
    "plt.imshow(X_test[ii])\r\n",
    "plt.xlabel(\"Gender:\"+ str(y_test.iloc[ii]))\r\n",
    "plt.show()\r\n",
    "# gender predict\r\n",
    "image_pixels = img_to_array(X_test[ii])\r\n",
    "image_pixels = np.expand_dims(image_pixels,axis=0)\r\n",
    "gend = model1.predict(image_pixels)\r\n",
    "print(gend)\r\n",
    "if gend[0][0] <=0.5:\r\n",
    "    print('male')\r\n",
    "else:\r\n",
    "    print('female')"
   ],
   "outputs": [
    {
     "output_type": "display_data",
     "data": {
      "text/plain": [
       "<Figure size 432x288 with 1 Axes>"
      ],
      "image/png": "[encoded data removed]"
     },
     "metadata": {
      "needs_background": "light"
     }
    },
    {
     "output_type": "stream",
     "name": "stdout",
     "text": [
      "[[0.5645925]]\n",
      "female\n"
     ]
    }
   ],
   "metadata": {}
  },
  {
   "cell_type": "code",
   "execution_count": 26,
   "source": [
    "sample_image = cv2.imread('sample_female.png')\r\n",
    "sample_image = cv2.cvtColor(sample_image,cv2.COLOR_BGR2GRAY)\r\n",
    "faces = cv2.CascadeClassifier('haarcascade_frontalface_default.xml').detectMultiScale(sample_image,1.2,4)\r\n",
    "\r\n",
    "for (x,y,w,h) in faces:\r\n",
    "    cv2.rectangle(sample_image,(x,y),(x+w,y+h),(0,0,255),2)\r\n",
    "    roi_gray = sample_image[y:y+w,x:x+h]\r\n",
    "    roi_gray = cv2.resize(roi_gray,(48,48))\r\n",
    "    image_pixels = img_to_array(roi_gray)\r\n",
    "    image_pixels = np.expand_dims(image_pixels,axis=0)\r\n",
    "    image_pixels /=255\r\n",
    "   \r\n",
    "    predictions = model1.predict(image_pixels)\r\n",
    "    print(predictions)\r\n",
    "    if predictions[0][0]<=0.5:\r\n",
    "        print('male')\r\n",
    "    else:\r\n",
    "        print('female')\r\n",
    "    plt.imshow(roi_gray)"
   ],
   "outputs": [
    {
     "output_type": "stream",
     "name": "stdout",
     "text": [
      "[[0.7146345]]\n",
      "female\n"
     ]
    },
    {
     "output_type": "display_data",
     "data": {
      "text/plain": [
       "<Figure size 432x288 with 1 Axes>"
      ],
      "image/png": "[encoded data removed]"
     },
     "metadata": {
      "needs_background": "light"
     }
    }
   ],
   "metadata": {}
  },
  {
   "cell_type": "code",
   "execution_count": null,
   "source": [],
   "outputs": [],
   "metadata": {}
  }
 ],
 "metadata": {
  "kernelspec": {
   "name": "python3",
   "display_name": "Python 3.9.6 64-bit ('venv': venv)"
  },
  "language_info": {
   "codemirror_mode": {
    "name": "ipython",
    "version": 3
   },
   "file_extension": ".py",
   "mimetype": "text/x-python",
   "name": "python",
   "nbconvert_exporter": "python",
   "pygments_lexer": "ipython3",
   "version": "3.9.6"
  },
  "interpreter": {
   "hash": "e1b6b8c141291576cb7354c5af7c9c3c9c2938071f8d0836af926d88a93cb7fe"
  }
 },
 "nbformat": 4,
 "nbformat_minor": 5
}