{
 "cells": [
  {
   "cell_type": "code",
   "execution_count": 1,
   "source": [
    "from tkinter import *\r\n",
    "from tkinter import ttk,filedialog\r\n",
    "from tkinter import scrolledtext\r\n",
    "from tkinter import messagebox\r\n",
    "import os\r\n",
    "from PIL import Image, ImageTk"
   ],
   "outputs": [],
   "metadata": {}
  },
  {
   "cell_type": "code",
   "execution_count": 3,
   "source": [
    "window = Tk()\r\n",
    "window.geometry(\"360x500\")\r\n",
    "window.resizable(0,0)\r\n",
    "# window.wm_iconbitmap('icon.ico')\r\n",
    "window.title('Age Prediction and Gender Detection')"
   ],
   "outputs": [
    {
     "output_type": "execute_result",
     "data": {
      "text/plain": [
       "''"
      ]
     },
     "metadata": {},
     "execution_count": 3
    }
   ],
   "metadata": {}
  },
  {
   "cell_type": "code",
   "execution_count": 4,
   "source": [
    "style = ttk.Style()\r\n",
    "style.theme_use('vista')\r\n",
    "# ('winnative', 'clam', 'alt', 'default', 'classic', 'vista', 'xpnative')"
   ],
   "outputs": [],
   "metadata": {}
  },
  {
   "cell_type": "code",
   "execution_count": 5,
   "source": [
    "# global variables\r\n",
    "is_recording = False\r\n",
    "\r\n",
    "# heading\r\n",
    "heading1 = Label(text='Age and Gender Classification',font=(\"Comic Sans MS\",10,\"normal\"),width=40)\r\n",
    "heading1.grid(column=0,row=0)\r\n",
    "\r\n",
    "#display photo\r\n",
    "dis_photo = PhotoImage(file='38260.png')\r\n",
    "dis_photos = Button(image=dis_photo,borderwidth=1,relief=RIDGE,width=280,height=280)\r\n",
    "dis_photos.grid(column=0,row=1)\r\n",
    "\r\n",
    "# display gender and age\r\n",
    "age_gender = ttk.Frame()\r\n",
    "age_gender.columnconfigure(0,weight=1)\r\n",
    "age_gender.grid(row=2,column=0)\r\n",
    "\r\n",
    "mic_button = Button(age_gender,text='Gender',font=(\"Comic Sans MS\",16,\"normal\"),fg=\"blue\",bg=\"black\",borderwidth=0,relief=RIDGE)\r\n",
    "mic_button.grid(column=0,row=0,pady=5,padx=20)\r\n",
    "mic_button = Button(age_gender,text='Age',padx=14,font=(\"Comic Sans MS\",16,\"normal\"),borderwidth=0,relief=RIDGE)\r\n",
    "mic_button.grid(column=1,row=0,pady=5,padx=20)\r\n",
    "\r\n",
    "# capture and folder button\r\n",
    "cap_fol = ttk.Frame()\r\n",
    "cap_fol.columnconfigure(0,weight=1)\r\n",
    "cap_fol.grid(row=3,column=0)\r\n",
    "\r\n",
    "def switch_clicked():\r\n",
    "    print('switch clicked')\r\n",
    "    global is_recording\r\n",
    "    if is_recording:\r\n",
    "        is_recording = False\r\n",
    "        folder_button.config(image=capture_icon)\r\n",
    "        \r\n",
    "    else:\r\n",
    "        is_recording = True\r\n",
    "        folder_button.config(image=folder_icon)\r\n",
    "        \r\n",
    "    \r\n",
    "capture_icon = PhotoImage(file='camera.png')\r\n",
    "switch_icon = PhotoImage(file='switch.png')\r\n",
    "mic_button = Button(cap_fol,image=switch_icon,command=switch_clicked,width=40,height=40)\r\n",
    "mic_button.grid(column=1,row=3)\r\n",
    "\r\n",
    "\r\n",
    "def folder_clicked():\r\n",
    "    files = filedialog.askopenfilenames(initialdir=os.getcwd(),title=\"Select Image File\")\r\n",
    "    # fil = files[0].split('/')[-1]\r\n",
    "    # print(fil)\r\n",
    "    # print('done')\r\n",
    "    # dis_photoss = PhotoImage(file='38261.png',width=280,height=280)\r\n",
    "    # dis_photos.config(image=dis_photoss)\r\n",
    "\r\n",
    "    img=Image.open(files)\r\n",
    "    img.thumbnail((350,350))\r\n",
    "    img=ImageTk.PhotoImage(img)\r\n",
    "    # dis_photos.configure(image=img)\r\n",
    "    lbl.configure(image=img)\r\n",
    "    lbl.image=img\r\n",
    "\r\n",
    "\r\n",
    "\r\n",
    "folder_icon = PhotoImage(file='folder.png')\r\n",
    "folder_button = Button(cap_fol,image=folder_icon,command=folder_clicked,width=40,height=40)\r\n",
    "folder_button.grid(column=0,row=3,padx=10,pady=10)\r\n",
    "\r\n",
    "frm=Frame(window)\r\n",
    "\r\n",
    "lbl=Label(window)\r\n",
    "\r\n",
    "\r\n",
    "window.mainloop()"
   ],
   "outputs": [
    {
     "output_type": "stream",
     "name": "stderr",
     "text": [
      "Exception in Tkinter callback\n",
      "Traceback (most recent call last):\n",
      "  File \"C:\\Python39\\lib\\site-packages\\PIL\\Image.py\", line 2972, in open\n",
      "    fp.seek(0)\n",
      "AttributeError: 'tuple' object has no attribute 'seek'\n",
      "\n",
      "During handling of the above exception, another exception occurred:\n",
      "\n",
      "Traceback (most recent call last):\n",
      "  File \"C:\\Python39\\lib\\tkinter\\__init__.py\", line 1892, in __call__\n",
      "    return self.func(*args)\n",
      "  File \"C:\\Users\\Rosan\\AppData\\Local\\Temp/ipykernel_11120/1369925155.py\", line 54, in folder_clicked\n",
      "    img=Image.open(files)\n",
      "  File \"C:\\Python39\\lib\\site-packages\\PIL\\Image.py\", line 2974, in open\n",
      "    fp = io.BytesIO(fp.read())\n",
      "AttributeError: 'tuple' object has no attribute 'read'\n"
     ]
    }
   ],
   "metadata": {}
  },
  {
   "cell_type": "code",
   "execution_count": null,
   "source": [],
   "outputs": [],
   "metadata": {}
  }
 ],
 "metadata": {
  "orig_nbformat": 4,
  "language_info": {
   "name": "python",
   "version": "3.9.7",
   "mimetype": "text/x-python",
   "codemirror_mode": {
    "name": "ipython",
    "version": 3
   },
   "pygments_lexer": "ipython3",
   "nbconvert_exporter": "python",
   "file_extension": ".py"
  },
  "kernelspec": {
   "name": "python3",
   "display_name": "Python 3.9.7 64-bit"
  },
  "interpreter": {
   "hash": "63fd5069d213b44bf678585dea6b12cceca9941eaf7f819626cde1f2670de90d"
  }
 },
 "nbformat": 4,
 "nbformat_minor": 2
}