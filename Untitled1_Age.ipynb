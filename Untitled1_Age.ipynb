{
 "cells": [
  {
   "cell_type": "code",
   "execution_count": 27,
   "source": [
    "import numpy as np\r\n",
    "import pandas as pd\r\n",
    "from keras import Sequential\r\n",
    "from keras.layers import Dense,Conv2D,Flatten,Dropout,MaxPooling2D,Activation,BatchNormalization\r\n",
    "from keras.preprocessing.image import img_to_array\r\n",
    "from sklearn.model_selection import train_test_split\r\n",
    "from keras.utils.np_utils import to_categorical\r\n",
    "import matplotlib.pyplot as plt\r\n",
    "import cv2"
   ],
   "outputs": [],
   "metadata": {}
  },
  {
   "cell_type": "code",
   "execution_count": 2,
   "source": [
    "# data=pd.read_csv(\"dataset/age_gender.csv\")\r\n",
    "data = pd.concat(map(pd.read_csv,['dataset/dataset2.csv','dataset/dataset3.csv']))\r\n",
    "data.head()"
   ],
   "outputs": [
    {
     "output_type": "execute_result",
     "data": {
      "text/html": [
       "<div>\n",
       "<style scoped>\n",
       "    .dataframe tbody tr th:only-of-type {\n",
       "        vertical-align: middle;\n",
       "    }\n",
       "\n",
       "    .dataframe tbody tr th {\n",
       "        vertical-align: top;\n",
       "    }\n",
       "\n",
       "    .dataframe thead th {\n",
       "        text-align: right;\n",
       "    }\n",
       "</style>\n",
       "<table border=\"1\" class=\"dataframe\">\n",
       "  <thead>\n",
       "    <tr style=\"text-align: right;\">\n",
       "      <th></th>\n",
       "      <th>age</th>\n",
       "      <th>gender</th>\n",
       "      <th>pixels</th>\n",
       "    </tr>\n",
       "  </thead>\n",
       "  <tbody>\n",
       "    <tr>\n",
       "      <th>0</th>\n",
       "      <td>100</td>\n",
       "      <td>0</td>\n",
       "      <td>96 96 99 100 112 139 142 130 144 146 147 142 1...</td>\n",
       "    </tr>\n",
       "    <tr>\n",
       "      <th>1</th>\n",
       "      <td>100</td>\n",
       "      <td>0</td>\n",
       "      <td>157 156 158 161 163 163 167 192 202 191 197 20...</td>\n",
       "    </tr>\n",
       "    <tr>\n",
       "      <th>2</th>\n",
       "      <td>100</td>\n",
       "      <td>1</td>\n",
       "      <td>230 194 40 28 37 28 12 66 129 107 123 122 127 ...</td>\n",
       "    </tr>\n",
       "    <tr>\n",
       "      <th>3</th>\n",
       "      <td>100</td>\n",
       "      <td>1</td>\n",
       "      <td>156 175 171 151 138 141 140 146 137 141 140 13...</td>\n",
       "    </tr>\n",
       "    <tr>\n",
       "      <th>4</th>\n",
       "      <td>100</td>\n",
       "      <td>1</td>\n",
       "      <td>212 177 172 162 172 182 173 162 160 164 153 12...</td>\n",
       "    </tr>\n",
       "  </tbody>\n",
       "</table>\n",
       "</div>"
      ],
      "text/plain": [
       "   age  gender                                             pixels\n",
       "0  100       0  96 96 99 100 112 139 142 130 144 146 147 142 1...\n",
       "1  100       0  157 156 158 161 163 163 167 192 202 191 197 20...\n",
       "2  100       1  230 194 40 28 37 28 12 66 129 107 123 122 127 ...\n",
       "3  100       1  156 175 171 151 138 141 140 146 137 141 140 13...\n",
       "4  100       1  212 177 172 162 172 182 173 162 160 164 153 12..."
      ]
     },
     "metadata": {},
     "execution_count": 2
    }
   ],
   "metadata": {}
  },
  {
   "cell_type": "code",
   "execution_count": 3,
   "source": [
    "#convert pixels into numpy array\r\n",
    "data['pixels']=data['pixels'].apply(lambda x:  np.array(x.split(), dtype=\"float32\"))\r\n",
    "data.head()"
   ],
   "outputs": [
    {
     "output_type": "execute_result",
     "data": {
      "text/html": [
       "<div>\n",
       "<style scoped>\n",
       "    .dataframe tbody tr th:only-of-type {\n",
       "        vertical-align: middle;\n",
       "    }\n",
       "\n",
       "    .dataframe tbody tr th {\n",
       "        vertical-align: top;\n",
       "    }\n",
       "\n",
       "    .dataframe thead th {\n",
       "        text-align: right;\n",
       "    }\n",
       "</style>\n",
       "<table border=\"1\" class=\"dataframe\">\n",
       "  <thead>\n",
       "    <tr style=\"text-align: right;\">\n",
       "      <th></th>\n",
       "      <th>age</th>\n",
       "      <th>gender</th>\n",
       "      <th>pixels</th>\n",
       "    </tr>\n",
       "  </thead>\n",
       "  <tbody>\n",
       "    <tr>\n",
       "      <th>0</th>\n",
       "      <td>100</td>\n",
       "      <td>0</td>\n",
       "      <td>[96.0, 96.0, 99.0, 100.0, 112.0, 139.0, 142.0,...</td>\n",
       "    </tr>\n",
       "    <tr>\n",
       "      <th>1</th>\n",
       "      <td>100</td>\n",
       "      <td>0</td>\n",
       "      <td>[157.0, 156.0, 158.0, 161.0, 163.0, 163.0, 167...</td>\n",
       "    </tr>\n",
       "    <tr>\n",
       "      <th>2</th>\n",
       "      <td>100</td>\n",
       "      <td>1</td>\n",
       "      <td>[230.0, 194.0, 40.0, 28.0, 37.0, 28.0, 12.0, 6...</td>\n",
       "    </tr>\n",
       "    <tr>\n",
       "      <th>3</th>\n",
       "      <td>100</td>\n",
       "      <td>1</td>\n",
       "      <td>[156.0, 175.0, 171.0, 151.0, 138.0, 141.0, 140...</td>\n",
       "    </tr>\n",
       "    <tr>\n",
       "      <th>4</th>\n",
       "      <td>100</td>\n",
       "      <td>1</td>\n",
       "      <td>[212.0, 177.0, 172.0, 162.0, 172.0, 182.0, 173...</td>\n",
       "    </tr>\n",
       "  </tbody>\n",
       "</table>\n",
       "</div>"
      ],
      "text/plain": [
       "   age  gender                                             pixels\n",
       "0  100       0  [96.0, 96.0, 99.0, 100.0, 112.0, 139.0, 142.0,...\n",
       "1  100       0  [157.0, 156.0, 158.0, 161.0, 163.0, 163.0, 167...\n",
       "2  100       1  [230.0, 194.0, 40.0, 28.0, 37.0, 28.0, 12.0, 6...\n",
       "3  100       1  [156.0, 175.0, 171.0, 151.0, 138.0, 141.0, 140...\n",
       "4  100       1  [212.0, 177.0, 172.0, 162.0, 172.0, 182.0, 173..."
      ]
     },
     "metadata": {},
     "execution_count": 3
    }
   ],
   "metadata": {}
  },
  {
   "cell_type": "code",
   "execution_count": 4,
   "source": [
    "print('Total rows: {}'.format(len(data)))\r\n",
    "print('Total columns: {}'.format(len(data.columns)))"
   ],
   "outputs": [
    {
     "output_type": "stream",
     "name": "stdout",
     "text": [
      "Total rows: 47396\n",
      "Total columns: 3\n"
     ]
    }
   ],
   "metadata": {}
  },
  {
   "cell_type": "code",
   "execution_count": 5,
   "source": [
    "# normalizing pixels data\r\n",
    "data['pixels'] = data['pixels'].apply(lambda x: x/255)\r\n",
    "data.head()"
   ],
   "outputs": [
    {
     "output_type": "execute_result",
     "data": {
      "text/html": [
       "<div>\n",
       "<style scoped>\n",
       "    .dataframe tbody tr th:only-of-type {\n",
       "        vertical-align: middle;\n",
       "    }\n",
       "\n",
       "    .dataframe tbody tr th {\n",
       "        vertical-align: top;\n",
       "    }\n",
       "\n",
       "    .dataframe thead th {\n",
       "        text-align: right;\n",
       "    }\n",
       "</style>\n",
       "<table border=\"1\" class=\"dataframe\">\n",
       "  <thead>\n",
       "    <tr style=\"text-align: right;\">\n",
       "      <th></th>\n",
       "      <th>age</th>\n",
       "      <th>gender</th>\n",
       "      <th>pixels</th>\n",
       "    </tr>\n",
       "  </thead>\n",
       "  <tbody>\n",
       "    <tr>\n",
       "      <th>0</th>\n",
       "      <td>100</td>\n",
       "      <td>0</td>\n",
       "      <td>[0.3764706, 0.3764706, 0.3882353, 0.39215687, ...</td>\n",
       "    </tr>\n",
       "    <tr>\n",
       "      <th>1</th>\n",
       "      <td>100</td>\n",
       "      <td>0</td>\n",
       "      <td>[0.6156863, 0.6117647, 0.61960787, 0.6313726, ...</td>\n",
       "    </tr>\n",
       "    <tr>\n",
       "      <th>2</th>\n",
       "      <td>100</td>\n",
       "      <td>1</td>\n",
       "      <td>[0.9019608, 0.7607843, 0.15686275, 0.10980392,...</td>\n",
       "    </tr>\n",
       "    <tr>\n",
       "      <th>3</th>\n",
       "      <td>100</td>\n",
       "      <td>1</td>\n",
       "      <td>[0.6117647, 0.6862745, 0.67058825, 0.5921569, ...</td>\n",
       "    </tr>\n",
       "    <tr>\n",
       "      <th>4</th>\n",
       "      <td>100</td>\n",
       "      <td>1</td>\n",
       "      <td>[0.83137256, 0.69411767, 0.6745098, 0.63529414...</td>\n",
       "    </tr>\n",
       "  </tbody>\n",
       "</table>\n",
       "</div>"
      ],
      "text/plain": [
       "   age  gender                                             pixels\n",
       "0  100       0  [0.3764706, 0.3764706, 0.3882353, 0.39215687, ...\n",
       "1  100       0  [0.6156863, 0.6117647, 0.61960787, 0.6313726, ...\n",
       "2  100       1  [0.9019608, 0.7607843, 0.15686275, 0.10980392,...\n",
       "3  100       1  [0.6117647, 0.6862745, 0.67058825, 0.5921569, ...\n",
       "4  100       1  [0.83137256, 0.69411767, 0.6745098, 0.63529414..."
      ]
     },
     "metadata": {},
     "execution_count": 5
    }
   ],
   "metadata": {}
  },
  {
   "cell_type": "code",
   "execution_count": 6,
   "source": [
    "def age_grouper(x):\r\n",
    "    if x>=0 and x < 12:\r\n",
    "        return 0\r\n",
    "    elif x>=12 and x < 24:\r\n",
    "        return 1\r\n",
    "    elif x>=24 and x < 36:\r\n",
    "        return 2\r\n",
    "    elif x>=36 and x < 48:\r\n",
    "        return 3\r\n",
    "    elif x>=48 and x < 60:\r\n",
    "        return 4\r\n",
    "    else:\r\n",
    "        return 5\r\n"
   ],
   "outputs": [],
   "metadata": {}
  },
  {
   "cell_type": "code",
   "execution_count": 7,
   "source": [
    "# convert age to group, (age can be any number)\r\n",
    "data['age_group'] = data['age'].apply(age_grouper)\r\n",
    "data.tail()"
   ],
   "outputs": [
    {
     "output_type": "execute_result",
     "data": {
      "text/html": [
       "<div>\n",
       "<style scoped>\n",
       "    .dataframe tbody tr th:only-of-type {\n",
       "        vertical-align: middle;\n",
       "    }\n",
       "\n",
       "    .dataframe tbody tr th {\n",
       "        vertical-align: top;\n",
       "    }\n",
       "\n",
       "    .dataframe thead th {\n",
       "        text-align: right;\n",
       "    }\n",
       "</style>\n",
       "<table border=\"1\" class=\"dataframe\">\n",
       "  <thead>\n",
       "    <tr style=\"text-align: right;\">\n",
       "      <th></th>\n",
       "      <th>age</th>\n",
       "      <th>gender</th>\n",
       "      <th>pixels</th>\n",
       "      <th>age_group</th>\n",
       "    </tr>\n",
       "  </thead>\n",
       "  <tbody>\n",
       "    <tr>\n",
       "      <th>23693</th>\n",
       "      <td>9</td>\n",
       "      <td>1</td>\n",
       "      <td>[1.0, 0.99607843, 0.99215686, 0.99215686, 0.98...</td>\n",
       "      <td>0</td>\n",
       "    </tr>\n",
       "    <tr>\n",
       "      <th>23694</th>\n",
       "      <td>9</td>\n",
       "      <td>1</td>\n",
       "      <td>[0.011764706, 0.007843138, 0.0, 0.003921569, 0...</td>\n",
       "      <td>0</td>\n",
       "    </tr>\n",
       "    <tr>\n",
       "      <th>23695</th>\n",
       "      <td>9</td>\n",
       "      <td>1</td>\n",
       "      <td>[0.8235294, 0.80784315, 0.80784315, 0.78431374...</td>\n",
       "      <td>0</td>\n",
       "    </tr>\n",
       "    <tr>\n",
       "      <th>23696</th>\n",
       "      <td>9</td>\n",
       "      <td>1</td>\n",
       "      <td>[0.03137255, 0.03137255, 0.03137255, 0.0392156...</td>\n",
       "      <td>0</td>\n",
       "    </tr>\n",
       "    <tr>\n",
       "      <th>23697</th>\n",
       "      <td>9</td>\n",
       "      <td>1</td>\n",
       "      <td>[0.75686276, 0.61960787, 0.47058824, 0.3490196...</td>\n",
       "      <td>0</td>\n",
       "    </tr>\n",
       "  </tbody>\n",
       "</table>\n",
       "</div>"
      ],
      "text/plain": [
       "       age  gender                                             pixels  \\\n",
       "23693    9       1  [1.0, 0.99607843, 0.99215686, 0.99215686, 0.98...   \n",
       "23694    9       1  [0.011764706, 0.007843138, 0.0, 0.003921569, 0...   \n",
       "23695    9       1  [0.8235294, 0.80784315, 0.80784315, 0.78431374...   \n",
       "23696    9       1  [0.03137255, 0.03137255, 0.03137255, 0.0392156...   \n",
       "23697    9       1  [0.75686276, 0.61960787, 0.47058824, 0.3490196...   \n",
       "\n",
       "       age_group  \n",
       "23693          0  \n",
       "23694          0  \n",
       "23695          0  \n",
       "23696          0  \n",
       "23697          0  "
      ]
     },
     "metadata": {},
     "execution_count": 7
    }
   ],
   "metadata": {}
  },
  {
   "cell_type": "code",
   "execution_count": 8,
   "source": [
    "data.age_group.unique()"
   ],
   "outputs": [
    {
     "output_type": "execute_result",
     "data": {
      "text/plain": [
       "array([5, 0, 1, 2, 3, 4], dtype=int64)"
      ]
     },
     "metadata": {},
     "execution_count": 8
    }
   ],
   "metadata": {}
  },
  {
   "cell_type": "code",
   "execution_count": 10,
   "source": [
    "X = np.array(data['pixels'].tolist())\r\n",
    "\r\n",
    "## Converting pixels from 1D to 2D\r\n",
    "X = X.reshape(X.shape[0],64,64,1)\r\n",
    "\r\n",
    "# show image\r\n",
    "plt.figure(figsize=(8,8))\r\n",
    "for i in range(1500,1505):\r\n",
    "    plt.subplot(5,5,(i%25)+1)\r\n",
    "    plt.grid(False)\r\n",
    "    plt.imshow(data['pixels'].iloc[i].reshape(64,64))\r\n",
    "    plt.xlabel(\r\n",
    "        \"Age:\"+str(data['age'].iloc[i])+\r\n",
    "        \"  Gender:\"+ str(data['gender'].iloc[i])\r\n",
    "    )\r\n",
    "plt.show()"
   ],
   "outputs": [
    {
     "output_type": "display_data",
     "data": {
      "image/png": "[encoded data removed]",
      "text/plain": [
       "<Figure size 576x576 with 5 Axes>"
      ]
     },
     "metadata": {
      "needs_background": "light"
     }
    }
   ],
   "metadata": {}
  },
  {
   "cell_type": "markdown",
   "source": [
    "# Model for Age Prediction"
   ],
   "metadata": {}
  },
  {
   "cell_type": "code",
   "execution_count": 11,
   "source": [
    "#Split data into train/test\r\n",
    "y = data['age_group']\r\n",
    "\r\n",
    "X_train, X_test, y_train, y_test = train_test_split ( X, y, test_size=0.20, stratify=y)\r\n",
    "# convert to category/classes of 10 ages\r\n",
    "# y_train.shape\r\n",
    "# X_train.shape\r\n",
    "# try with and without these lines.\r\n",
    "# y_train = to_categorical(y_train,num_classes=10)\r\n",
    "# y_test = to_categorical(y_test,num_classes=10)\r\n",
    "y_train.shape\r\n"
   ],
   "outputs": [
    {
     "output_type": "execute_result",
     "data": {
      "text/plain": [
       "(37916,)"
      ]
     },
     "metadata": {},
     "execution_count": 11
    }
   ],
   "metadata": {}
  },
  {
   "cell_type": "markdown",
   "source": [
    "# note"
   ],
   "metadata": {}
  },
  {
   "cell_type": "code",
   "execution_count": 12,
   "source": [
    "print(X.shape[0])\r\n",
    "print(X.shape[0:])\r\n",
    "print(X.shape[1:])\r\n",
    "print(X.shape[2:])\r\n",
    "print(X.shape[3:])"
   ],
   "outputs": [
    {
     "output_type": "stream",
     "name": "stdout",
     "text": [
      "47396\n",
      "(47396, 64, 64, 1)\n",
      "(64, 64, 1)\n",
      "(64, 1)\n",
      "(1,)\n"
     ]
    }
   ],
   "metadata": {}
  },
  {
   "cell_type": "code",
   "execution_count": 13,
   "source": [
    "# X_train.shape[0:]\r\n",
    "# y_test.shape"
   ],
   "outputs": [],
   "metadata": {}
  },
  {
   "cell_type": "code",
   "execution_count": 151,
   "source": [
    "# model1 = Sequential()\r\n",
    "\r\n",
    "# model1.add(Conv2D(64,(3,3),input_shape=(X.shape[1:]))) # 64 neurons with 3*3 filter\r\n",
    "# # create convolutional neural network to extract feature from the images\r\n",
    "# model1.add(Activation('relu'))\r\n",
    "# model1.add(MaxPooling2D(pool_size=(2,2))) # to reduce size of image\r\n",
    "# # model1.add(Dropout(0.1)) # if our model learns a lot we need to remove some nodes.\r\n",
    "\r\n",
    "# model1.add(Conv2D(64,(3,3),input_shape=(X.shape[1:]))) # 64 neurons with 3*3 filter\r\n",
    "# # create convolutional neural network to extract feature from the images\r\n",
    "# model1.add(Activation('relu'))\r\n",
    "# model1.add(MaxPooling2D(pool_size=(2,2))) # to reduce size of image\r\n",
    "# # model1.add(Dropout(0.1))\r\n",
    "\r\n",
    "# model1.add(Flatten()) # flat 2nd last layer to vertical\r\n",
    "# model1.add(Dense(64)) # 64 neurons with 3*3 filter\r\n",
    "# # no. of output modes in hiden layers\r\n",
    "# model1.add(Activation('relu'))\r\n",
    "\r\n",
    "# model1.add(Dense(6)) # output layer (1 neuron at last)\r\n",
    "# model1.add(Activation('sigmoid')) # put output single node as sigmoid value(0 to 1 in decimal)\r\n",
    "# # if you want output single node as 0 or 1 -> use softmax\r\n",
    "\r\n",
    "# # model1.summary()\r\n",
    "\r\n",
    "# model1.compile(optimizer=\"sgd\",loss='sparse_categorical_crossentropy',metrics=['accuracy'])\r\n",
    "\r\n",
    "# # model1.add(Dense(64)) # 64 neurons with 3*3 filter\r\n",
    "# # no. of output modes in hiden layers"
   ],
   "outputs": [],
   "metadata": {}
  },
  {
   "cell_type": "markdown",
   "source": [
    "# Own Model"
   ],
   "metadata": {}
  },
  {
   "cell_type": "code",
   "execution_count": 35,
   "source": [
    "model1 = Sequential()\r\n",
    "\r\n",
    "model1.add(Conv2D(64, (3,3),padding=\"same\",kernel_regularizer=l2(0.001),input_shape=(X.shape[1:])))\r\n",
    "model1.add(Activation(\"relu\"))\r\n",
    "# model1.add(BatchNormalization(axis=1))\r\n",
    "model1.add(BatchNormalization(axis=1))\r\n",
    "model1.add(MaxPooling2D(pool_size=(2,2)))\r\n",
    "model1.add(Dropout(0.2))\r\n",
    "\r\n",
    "model1.add(Conv2D(128, (3,3),padding=\"same\"))\r\n",
    "model1.add(Activation(\"relu\"))\r\n",
    "model1.add(MaxPooling2D(pool_size=(2,2)))\r\n",
    "\r\n",
    "model1.add(Conv2D(256, (3,3),padding=\"same\"))\r\n",
    "model1.add(Activation(\"relu\"))\r\n",
    "model1.add(MaxPooling2D(pool_size=(2,2)))\r\n",
    "\r\n",
    "\r\n",
    "model1.add(Flatten())\r\n",
    "model1.add(Dense(64))\r\n",
    "model1.add(Activation(\"relu\"))\r\n",
    "model1.add(Dropout(0.2))\r\n",
    "\r\n",
    "model1.add(Dense(6))\r\n",
    "model1.add(Activation('sigmoid'))\r\n",
    "\r\n",
    "\r\n",
    "model1.compile(optimizer='adam',loss='sparse_categorical_crossentropy',metrics=['accuracy'])"
   ],
   "outputs": [],
   "metadata": {}
  },
  {
   "cell_type": "code",
   "execution_count": 130,
   "source": [
    "# model1 = Sequential()\r\n",
    "\r\n",
    "# model1.add(Conv2D(32,kernel_size=(3,3),activation='relu',input_shape=(X.shape[1:])))\r\n",
    "# model1.add(BatchNormalization())\r\n",
    "# model1.add(MaxPooling2D(pool_size=(2,2),strides=(2,2)))\r\n",
    "# model1.add(Dropout(0.2))\r\n",
    "\r\n",
    "# model1.add(Conv2D(64,kernel_size=(3,3),activation='relu'))\r\n",
    "# model1.add(MaxPooling2D(pool_size=(2,2),strides=(2,2)))\r\n",
    "# # before fully connected neural network , we must flaten the image/data.\r\n",
    "\r\n",
    "# model1.add(Conv2D(32,kernel_size=(3,3),activation='relu'))\r\n",
    "# model1.add(MaxPooling2D(pool_size=(2,2),strides=(2,2)))\r\n",
    "\r\n",
    "# model1.add(Flatten())\r\n",
    "\r\n",
    "# # fully connected neural networks\r\n",
    "# # 1024 -> neurons\r\n",
    "# model1.add(Dense(64,activation='relu'))\r\n",
    "# model1.add(Dropout(0.2))\r\n",
    "# model1.add(Dense(32,activation='relu'))\r\n",
    "# model1.add(Dropout(0.1))\r\n",
    "\r\n",
    "# model1.add(Dense(6,activation='sigmoid'))\r\n",
    "\r\n",
    "# model1.compile(optimizer='sgd',loss='sparse_categorical_crossentropy',metrics=['accuracy'])\r\n",
    "# # mean_squared_error\r\n",
    "# # if you have 1D integer encoded target, you can use sparse_categorical_crossentropy as loss function\r\n",
    "# # if you have one-hot encoded your target in order to have 2D shape (n_samples, n_class), you can use categorical_crossentropy"
   ],
   "outputs": [],
   "metadata": {}
  },
  {
   "cell_type": "code",
   "execution_count": 155,
   "source": [
    "model2 = Sequential()\r\n",
    "\r\n",
    "model2.add(Conv2D(64,kernel_size=(3,3),activation='relu',input_shape=(X.shape[1:])))\r\n",
    "model2.add(BatchNormalization())\r\n",
    "# model2.add(MaxPooling2D(pool_size=(2,2)))\r\n",
    "model2.add(MaxPooling2D(pool_size=(2,2),strides=(2,2)))\r\n",
    "model2.add(Dropout(0.1))\r\n",
    "\r\n",
    "model2.add(Conv2D(128, (3, 3), activation='relu'))\r\n",
    "model2.add(MaxPooling2D((2, 2),strides=(2,2)))\r\n",
    "\r\n",
    "model2.add(Conv2D(256, (3, 3), activation='relu'))\r\n",
    "model2.add(MaxPooling2D((2, 2),strides=(2,2)))\r\n",
    "# model2.add(BatchNormalization())\r\n",
    "\r\n",
    "model2.add(Flatten())\r\n",
    "\r\n",
    "model2.add(Dense(64, activation='relu'))\r\n",
    "model2.add(Dropout(0.1))\r\n",
    "model2.add(Dense(6, activation='sigmoid'))\r\n",
    "\r\n",
    "model2.compile(optimizer='sgd',loss='sparse_categorical_crossentropy',metrics=['accuracy'])"
   ],
   "outputs": [],
   "metadata": {}
  },
  {
   "cell_type": "code",
   "execution_count": 37,
   "source": [
    "# model.compile(optimizer, loss)\r\n",
    "# ,validation_data=(X_test,y_test), batch_size=1024\r\n",
    "history = model1.fit(X_train, y_train, epochs=20, validation_data=(X_test,y_test), batch_size=288)\r\n",
    "# batch_size=1024"
   ],
   "outputs": [
    {
     "output_type": "stream",
     "name": "stdout",
     "text": [
      "Epoch 1/20\n",
      "132/132 [==============================] - 1306s 10s/step - loss: 1.1136 - accuracy: 0.5655 - val_loss: 1.2973 - val_accuracy: 0.5782\n",
      "Epoch 2/20\n",
      "132/132 [==============================] - 1294s 10s/step - loss: 1.0305 - accuracy: 0.5885 - val_loss: 1.0856 - val_accuracy: 0.5974\n",
      "Epoch 3/20\n",
      "132/132 [==============================] - 1303s 10s/step - loss: 0.9733 - accuracy: 0.6090 - val_loss: 0.9730 - val_accuracy: 0.6083\n",
      "Epoch 4/20\n",
      "132/132 [==============================] - 1297s 10s/step - loss: 0.9379 - accuracy: 0.6205 - val_loss: 0.9268 - val_accuracy: 0.6246\n",
      "Epoch 5/20\n",
      "132/132 [==============================] - 1292s 10s/step - loss: 0.8939 - accuracy: 0.6353 - val_loss: 0.9043 - val_accuracy: 0.6338\n",
      "Epoch 6/20\n",
      "132/132 [==============================] - 1294s 10s/step - loss: 0.8729 - accuracy: 0.6413 - val_loss: 0.9144 - val_accuracy: 0.6301\n",
      "Epoch 7/20\n",
      "132/132 [==============================] - 1301s 10s/step - loss: 0.8405 - accuracy: 0.6544 - val_loss: 0.9394 - val_accuracy: 0.6205\n",
      "Epoch 8/20\n",
      "132/132 [==============================] - 1298s 10s/step - loss: 0.8198 - accuracy: 0.6593 - val_loss: 0.8872 - val_accuracy: 0.6408\n",
      "Epoch 9/20\n",
      "132/132 [==============================] - 1285s 10s/step - loss: 0.7920 - accuracy: 0.6687 - val_loss: 0.8736 - val_accuracy: 0.6440\n",
      "Epoch 10/20\n",
      "132/132 [==============================] - 1213s 9s/step - loss: 0.7685 - accuracy: 0.6771 - val_loss: 0.9087 - val_accuracy: 0.6278\n",
      "Epoch 11/20\n",
      "132/132 [==============================] - 1216s 9s/step - loss: 0.7538 - accuracy: 0.6835 - val_loss: 0.8973 - val_accuracy: 0.6460\n",
      "Epoch 12/20\n",
      "132/132 [==============================] - 1162s 9s/step - loss: 0.7325 - accuracy: 0.6883 - val_loss: 0.8989 - val_accuracy: 0.6450\n",
      "Epoch 13/20\n",
      "132/132 [==============================] - 1175s 9s/step - loss: 0.7137 - accuracy: 0.6975 - val_loss: 0.9025 - val_accuracy: 0.6491\n",
      "Epoch 14/20\n",
      "132/132 [==============================] - 1162s 9s/step - loss: 0.6946 - accuracy: 0.7075 - val_loss: 0.9184 - val_accuracy: 0.6419\n",
      "Epoch 15/20\n",
      "132/132 [==============================] - 1161s 9s/step - loss: 0.6782 - accuracy: 0.7111 - val_loss: 0.9791 - val_accuracy: 0.6361\n",
      "Epoch 16/20\n",
      "132/132 [==============================] - 1162s 9s/step - loss: 0.6676 - accuracy: 0.7151 - val_loss: 0.9525 - val_accuracy: 0.6483\n",
      "Epoch 17/20\n",
      "132/132 [==============================] - 1162s 9s/step - loss: 0.6443 - accuracy: 0.7237 - val_loss: 0.9434 - val_accuracy: 0.6408\n",
      "Epoch 18/20\n",
      "132/132 [==============================] - 1166s 9s/step - loss: 0.6235 - accuracy: 0.7357 - val_loss: 0.9879 - val_accuracy: 0.6405\n",
      "Epoch 19/20\n",
      "132/132 [==============================] - 1171s 9s/step - loss: 0.6123 - accuracy: 0.7382 - val_loss: 0.9742 - val_accuracy: 0.6436\n",
      "Epoch 20/20\n",
      "132/132 [==============================] - 1168s 9s/step - loss: 0.5963 - accuracy: 0.7453 - val_loss: 0.9984 - val_accuracy: 0.6366\n"
     ]
    }
   ],
   "metadata": {}
  },
  {
   "cell_type": "code",
   "execution_count": 39,
   "source": [
    "model1.evaluate(X_test,y_test)"
   ],
   "outputs": [
    {
     "output_type": "stream",
     "name": "stdout",
     "text": [
      "297/297 [==============================] - 82s 274ms/step - loss: 0.9984 - accuracy: 0.6366\n"
     ]
    },
    {
     "output_type": "execute_result",
     "data": {
      "text/plain": [
       "[0.9984408020973206, 0.6366033554077148]"
      ]
     },
     "metadata": {},
     "execution_count": 39
    }
   ],
   "metadata": {}
  },
  {
   "cell_type": "code",
   "execution_count": 40,
   "source": [
    "# save model\r\n",
    "model1.save('AgeModel/age64_acc_74_val_acc_63.h5')"
   ],
   "outputs": [],
   "metadata": {}
  },
  {
   "cell_type": "code",
   "execution_count": 41,
   "source": [
    "history.history.keys()"
   ],
   "outputs": [
    {
     "output_type": "execute_result",
     "data": {
      "text/plain": [
       "dict_keys(['loss', 'accuracy', 'val_loss', 'val_accuracy'])"
      ]
     },
     "metadata": {},
     "execution_count": 41
    }
   ],
   "metadata": {}
  },
  {
   "cell_type": "code",
   "execution_count": 42,
   "source": [
    "plt.plot(history.history['accuracy'])\r\n",
    "plt.plot(history.history['val_accuracy'])\r\n",
    "plt.title('model accuracy')\r\n",
    "plt.ylabel('accuracy')\r\n",
    "plt.xlabel('epoch')\r\n",
    "plt.legend(['train','test'],loc='upper left')\r\n",
    "plt.show()"
   ],
   "outputs": [
    {
     "output_type": "display_data",
     "data": {
      "image/png": "[encoded data removed]",
      "text/plain": [
       "<Figure size 432x288 with 1 Axes>"
      ]
     },
     "metadata": {
      "needs_background": "light"
     }
    }
   ],
   "metadata": {}
  },
  {
   "cell_type": "code",
   "execution_count": 43,
   "source": [
    "plt.plot(history.history['loss'])\r\n",
    "plt.plot(history.history['val_loss'])\r\n",
    "plt.title('model loss')\r\n",
    "plt.ylabel('loss')\r\n",
    "plt.xlabel('epoch')\r\n",
    "plt.legend(['train','test'],loc='upper left')\r\n",
    "plt.show()"
   ],
   "outputs": [
    {
     "output_type": "display_data",
     "data": {
      "image/png": "[encoded data removed]",
      "text/plain": [
       "<Figure size 432x288 with 1 Axes>"
      ]
     },
     "metadata": {
      "needs_background": "light"
     }
    }
   ],
   "metadata": {}
  },
  {
   "cell_type": "code",
   "execution_count": 55,
   "source": [
    "# Load model\r\n",
    "from keras.preprocessing.image import img_to_array\r\n",
    "import matplotlib.pyplot as plt\r\n",
    "from tensorflow import keras\r\n",
    "import numpy as np\r\n",
    "import cv2\r\n",
    "model2 = keras.models.load_model('AgeModel/untitled_age_61.h5')"
   ],
   "outputs": [],
   "metadata": {}
  },
  {
   "cell_type": "code",
   "execution_count": 100,
   "source": [
    "ii = 8 # (  8 haleki 60 > aauxa)\r\n",
    "\r\n",
    "plt.imshow(X_test[ii])\r\n",
    "plt.xlabel(\"age group:\"+str(y_test.to_list()[ii]))\r\n",
    "plt.show()\r\n",
    "# gender predict\r\n",
    "image_pixels = img_to_array(X_test[ii])\r\n",
    "image_pixels = np.expand_dims(image_pixels,axis=0)\r\n",
    "aged = model1.predict(image_pixels)\r\n",
    "print(aged)\r\n",
    "aged = np.argmax(aged)\r\n",
    "print(aged,'-index')\r\n",
    "age_group = ['0-12','12-24','24-36','36-48','48-60','>60']\r\n",
    "# age_group = ['0-5','5-10','10-15','15-20','20-25','25-30','30-35','35-40','40-45','>60']\r\n",
    "print('age group: ',age_group[aged])\r\n",
    "\r\n"
   ],
   "outputs": [
    {
     "output_type": "display_data",
     "data": {
      "image/png": "[encoded data removed]",
      "text/plain": [
       "<Figure size 432x288 with 1 Axes>"
      ]
     },
     "metadata": {
      "needs_background": "light"
     }
    },
    {
     "output_type": "stream",
     "name": "stdout",
     "text": [
      "[[0.02365735 0.1165812  0.59555626 0.8059646  0.8869066  0.90404904]]\n",
      "5 -index\n",
      "age group:  >60\n"
     ]
    }
   ],
   "metadata": {}
  },
  {
   "cell_type": "code",
   "execution_count": null,
   "source": [
    "sample_image = cv2.imread('sample_male.png')\r\n",
    "sample_image = cv2.cvtColor(sample_image,cv2.COLOR_BGR2GRAY)\r\n",
    "faces = cv2.CascadeClassifier('haarcascade_frontalface_default.xml').detectMultiScale(sample_image,1.2,4)\r\n",
    "\r\n",
    "for (x,y,w,h) in faces:\r\n",
    "    cv2.rectangle(sample_image,(x,y),(x+w,y+h),(0,0,255),2)\r\n",
    "    roi_gray = sample_image[y:y+w,x:x+h]\r\n",
    "    roi_gray = cv2.resize(roi_gray,(48,48))\r\n",
    "    image_pixels = img_to_array(roi_gray)\r\n",
    "    image_pixels = np.expand_dims(image_pixels,axis=0)\r\n",
    "    image_pixels /=255\r\n",
    "   \r\n",
    "    predictions = model1.predict(image_pixels)\r\n",
    "    print(predictions)\r\n",
    "    predictions = np.argmax([predictions])\r\n",
    "    print(predictions,'-index')\r\n",
    "    # age_group = ['0-10','10-20','20-30','30-40','40-50','50-60','60-70','70-80','80-90','90-100','>110']\r\n",
    "    # age_group = ['0-5','5-10','10-15','15-20','20-25','25-30','30-35','35-40','40-45','>60']\r\n",
    "    age_group = ['0-12','12-24','24-36','36-48','48-60','>60']\r\n",
    "    print('age group: ',age_group[predictions])\r\n",
    "    plt.imshow(roi_gray)"
   ],
   "outputs": [
    {
     "output_type": "stream",
     "name": "stdout",
     "text": [
      "[[8.4583914e-01 6.9585443e-04 1.1770815e-02 2.8419256e-02 1.4650822e-04\n",
      "  3.9133430e-04 9.0840459e-03 2.3257136e-03 4.0155649e-04 1.2826025e-03]]\n",
      "0 -index\n",
      "age group:  0-10\n"
     ]
    },
    {
     "output_type": "display_data",
     "data": {
      "image/png": "[encoded data removed]",
      "text/plain": [
       "<Figure size 432x288 with 1 Axes>"
      ]
     },
     "metadata": {
      "needs_background": "light"
     }
    }
   ],
   "metadata": {}
  },
  {
   "cell_type": "code",
   "execution_count": null,
   "source": [],
   "outputs": [],
   "metadata": {}
  }
 ],
 "metadata": {
  "kernelspec": {
   "name": "python3",
   "display_name": "Python 3.9.7 64-bit"
  },
  "language_info": {
   "codemirror_mode": {
    "name": "ipython",
    "version": 3
   },
   "file_extension": ".py",
   "mimetype": "text/x-python",
   "name": "python",
   "nbconvert_exporter": "python",
   "pygments_lexer": "ipython3",
   "version": "3.9.7"
  },
  "interpreter": {
   "hash": "63fd5069d213b44bf678585dea6b12cceca9941eaf7f819626cde1f2670de90d"
  }
 },
 "nbformat": 4,
 "nbformat_minor": 5
}