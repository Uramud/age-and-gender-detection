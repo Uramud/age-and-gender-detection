{
 "cells": [
  {
   "cell_type": "code",
   "execution_count": 101,
   "source": [
    "import numpy as np\r\n",
    "import pandas as pd\r\n",
    "from keras import Sequential\r\n",
    "from keras.layers import Dense,Conv2D,Flatten,Dropout,MaxPooling2D,Activation,BatchNormalization\r\n",
    "from keras.preprocessing.image import img_to_array\r\n",
    "from sklearn.model_selection import train_test_split\r\n",
    "from keras.utils.np_utils import to_categorical\r\n",
    "import matplotlib.pyplot as plt\r\n",
    "import cv2"
   ],
   "outputs": [],
   "metadata": {}
  },
  {
   "cell_type": "code",
   "execution_count": 102,
   "source": [
    "data=pd.read_csv(\"dataset/age_gender.csv\")\r\n",
    "data.head()"
   ],
   "outputs": [
    {
     "output_type": "execute_result",
     "data": {
      "text/html": [
       "<div>\n",
       "<style scoped>\n",
       "    .dataframe tbody tr th:only-of-type {\n",
       "        vertical-align: middle;\n",
       "    }\n",
       "\n",
       "    .dataframe tbody tr th {\n",
       "        vertical-align: top;\n",
       "    }\n",
       "\n",
       "    .dataframe thead th {\n",
       "        text-align: right;\n",
       "    }\n",
       "</style>\n",
       "<table border=\"1\" class=\"dataframe\">\n",
       "  <thead>\n",
       "    <tr style=\"text-align: right;\">\n",
       "      <th></th>\n",
       "      <th>age</th>\n",
       "      <th>gender</th>\n",
       "      <th>img_name</th>\n",
       "      <th>pixels</th>\n",
       "    </tr>\n",
       "  </thead>\n",
       "  <tbody>\n",
       "    <tr>\n",
       "      <th>0</th>\n",
       "      <td>1</td>\n",
       "      <td>0</td>\n",
       "      <td>20161219203650636.jpg.chip.jpg</td>\n",
       "      <td>129 128 128 126 127 130 133 135 139 142 145 14...</td>\n",
       "    </tr>\n",
       "    <tr>\n",
       "      <th>1</th>\n",
       "      <td>1</td>\n",
       "      <td>0</td>\n",
       "      <td>20161219222752047.jpg.chip.jpg</td>\n",
       "      <td>164 74 111 168 169 171 175 182 184 188 193 199...</td>\n",
       "    </tr>\n",
       "    <tr>\n",
       "      <th>2</th>\n",
       "      <td>1</td>\n",
       "      <td>0</td>\n",
       "      <td>20161219222832191.jpg.chip.jpg</td>\n",
       "      <td>67 70 71 70 69 67 70 79 90 103 116 132 145 155...</td>\n",
       "    </tr>\n",
       "    <tr>\n",
       "      <th>3</th>\n",
       "      <td>1</td>\n",
       "      <td>0</td>\n",
       "      <td>20161220144911423.jpg.chip.jpg</td>\n",
       "      <td>193 197 198 200 199 200 202 203 204 205 208 21...</td>\n",
       "    </tr>\n",
       "    <tr>\n",
       "      <th>4</th>\n",
       "      <td>1</td>\n",
       "      <td>0</td>\n",
       "      <td>20161220144914327.jpg.chip.jpg</td>\n",
       "      <td>202 205 209 210 209 209 210 211 212 214 218 21...</td>\n",
       "    </tr>\n",
       "  </tbody>\n",
       "</table>\n",
       "</div>"
      ],
      "text/plain": [
       "   age  gender                        img_name  \\\n",
       "0    1       0  20161219203650636.jpg.chip.jpg   \n",
       "1    1       0  20161219222752047.jpg.chip.jpg   \n",
       "2    1       0  20161219222832191.jpg.chip.jpg   \n",
       "3    1       0  20161220144911423.jpg.chip.jpg   \n",
       "4    1       0  20161220144914327.jpg.chip.jpg   \n",
       "\n",
       "                                              pixels  \n",
       "0  129 128 128 126 127 130 133 135 139 142 145 14...  \n",
       "1  164 74 111 168 169 171 175 182 184 188 193 199...  \n",
       "2  67 70 71 70 69 67 70 79 90 103 116 132 145 155...  \n",
       "3  193 197 198 200 199 200 202 203 204 205 208 21...  \n",
       "4  202 205 209 210 209 209 210 211 212 214 218 21...  "
      ]
     },
     "metadata": {},
     "execution_count": 102
    }
   ],
   "metadata": {}
  },
  {
   "cell_type": "code",
   "execution_count": 103,
   "source": [
    "#convert pixels into numpy array\r\n",
    "data['pixels']=data['pixels'].apply(lambda x:  np.array(x.split(), dtype=\"float32\"))\r\n",
    "data.head()"
   ],
   "outputs": [
    {
     "output_type": "execute_result",
     "data": {
      "text/html": [
       "<div>\n",
       "<style scoped>\n",
       "    .dataframe tbody tr th:only-of-type {\n",
       "        vertical-align: middle;\n",
       "    }\n",
       "\n",
       "    .dataframe tbody tr th {\n",
       "        vertical-align: top;\n",
       "    }\n",
       "\n",
       "    .dataframe thead th {\n",
       "        text-align: right;\n",
       "    }\n",
       "</style>\n",
       "<table border=\"1\" class=\"dataframe\">\n",
       "  <thead>\n",
       "    <tr style=\"text-align: right;\">\n",
       "      <th></th>\n",
       "      <th>age</th>\n",
       "      <th>gender</th>\n",
       "      <th>img_name</th>\n",
       "      <th>pixels</th>\n",
       "    </tr>\n",
       "  </thead>\n",
       "  <tbody>\n",
       "    <tr>\n",
       "      <th>0</th>\n",
       "      <td>1</td>\n",
       "      <td>0</td>\n",
       "      <td>20161219203650636.jpg.chip.jpg</td>\n",
       "      <td>[129.0, 128.0, 128.0, 126.0, 127.0, 130.0, 133...</td>\n",
       "    </tr>\n",
       "    <tr>\n",
       "      <th>1</th>\n",
       "      <td>1</td>\n",
       "      <td>0</td>\n",
       "      <td>20161219222752047.jpg.chip.jpg</td>\n",
       "      <td>[164.0, 74.0, 111.0, 168.0, 169.0, 171.0, 175....</td>\n",
       "    </tr>\n",
       "    <tr>\n",
       "      <th>2</th>\n",
       "      <td>1</td>\n",
       "      <td>0</td>\n",
       "      <td>20161219222832191.jpg.chip.jpg</td>\n",
       "      <td>[67.0, 70.0, 71.0, 70.0, 69.0, 67.0, 70.0, 79....</td>\n",
       "    </tr>\n",
       "    <tr>\n",
       "      <th>3</th>\n",
       "      <td>1</td>\n",
       "      <td>0</td>\n",
       "      <td>20161220144911423.jpg.chip.jpg</td>\n",
       "      <td>[193.0, 197.0, 198.0, 200.0, 199.0, 200.0, 202...</td>\n",
       "    </tr>\n",
       "    <tr>\n",
       "      <th>4</th>\n",
       "      <td>1</td>\n",
       "      <td>0</td>\n",
       "      <td>20161220144914327.jpg.chip.jpg</td>\n",
       "      <td>[202.0, 205.0, 209.0, 210.0, 209.0, 209.0, 210...</td>\n",
       "    </tr>\n",
       "  </tbody>\n",
       "</table>\n",
       "</div>"
      ],
      "text/plain": [
       "   age  gender                        img_name  \\\n",
       "0    1       0  20161219203650636.jpg.chip.jpg   \n",
       "1    1       0  20161219222752047.jpg.chip.jpg   \n",
       "2    1       0  20161219222832191.jpg.chip.jpg   \n",
       "3    1       0  20161220144911423.jpg.chip.jpg   \n",
       "4    1       0  20161220144914327.jpg.chip.jpg   \n",
       "\n",
       "                                              pixels  \n",
       "0  [129.0, 128.0, 128.0, 126.0, 127.0, 130.0, 133...  \n",
       "1  [164.0, 74.0, 111.0, 168.0, 169.0, 171.0, 175....  \n",
       "2  [67.0, 70.0, 71.0, 70.0, 69.0, 67.0, 70.0, 79....  \n",
       "3  [193.0, 197.0, 198.0, 200.0, 199.0, 200.0, 202...  \n",
       "4  [202.0, 205.0, 209.0, 210.0, 209.0, 209.0, 210...  "
      ]
     },
     "metadata": {},
     "execution_count": 103
    }
   ],
   "metadata": {}
  },
  {
   "cell_type": "code",
   "execution_count": 104,
   "source": [
    "print('Total rows: {}'.format(len(data)))\r\n",
    "print('Total columns: {}'.format(len(data.columns)))"
   ],
   "outputs": [
    {
     "output_type": "stream",
     "name": "stdout",
     "text": [
      "Total rows: 23705\n",
      "Total columns: 4\n"
     ]
    }
   ],
   "metadata": {}
  },
  {
   "cell_type": "code",
   "execution_count": 5,
   "source": [
    "# normalizing pixels data\r\n",
    "data['pixels'] = data['pixels'].apply(lambda x: x/255)\r\n",
    "data.head()"
   ],
   "outputs": [
    {
     "output_type": "execute_result",
     "data": {
      "text/html": [
       "<div>\n",
       "<style scoped>\n",
       "    .dataframe tbody tr th:only-of-type {\n",
       "        vertical-align: middle;\n",
       "    }\n",
       "\n",
       "    .dataframe tbody tr th {\n",
       "        vertical-align: top;\n",
       "    }\n",
       "\n",
       "    .dataframe thead th {\n",
       "        text-align: right;\n",
       "    }\n",
       "</style>\n",
       "<table border=\"1\" class=\"dataframe\">\n",
       "  <thead>\n",
       "    <tr style=\"text-align: right;\">\n",
       "      <th></th>\n",
       "      <th>age</th>\n",
       "      <th>gender</th>\n",
       "      <th>img_name</th>\n",
       "      <th>pixels</th>\n",
       "    </tr>\n",
       "  </thead>\n",
       "  <tbody>\n",
       "    <tr>\n",
       "      <th>0</th>\n",
       "      <td>1</td>\n",
       "      <td>0</td>\n",
       "      <td>20161219203650636.jpg.chip.jpg</td>\n",
       "      <td>[0.5058824, 0.5019608, 0.5019608, 0.49411765, ...</td>\n",
       "    </tr>\n",
       "    <tr>\n",
       "      <th>1</th>\n",
       "      <td>1</td>\n",
       "      <td>0</td>\n",
       "      <td>20161219222752047.jpg.chip.jpg</td>\n",
       "      <td>[0.6431373, 0.2901961, 0.43529412, 0.65882355,...</td>\n",
       "    </tr>\n",
       "    <tr>\n",
       "      <th>2</th>\n",
       "      <td>1</td>\n",
       "      <td>0</td>\n",
       "      <td>20161219222832191.jpg.chip.jpg</td>\n",
       "      <td>[0.2627451, 0.27450982, 0.2784314, 0.27450982,...</td>\n",
       "    </tr>\n",
       "    <tr>\n",
       "      <th>3</th>\n",
       "      <td>1</td>\n",
       "      <td>0</td>\n",
       "      <td>20161220144911423.jpg.chip.jpg</td>\n",
       "      <td>[0.75686276, 0.77254903, 0.7764706, 0.78431374...</td>\n",
       "    </tr>\n",
       "    <tr>\n",
       "      <th>4</th>\n",
       "      <td>1</td>\n",
       "      <td>0</td>\n",
       "      <td>20161220144914327.jpg.chip.jpg</td>\n",
       "      <td>[0.7921569, 0.8039216, 0.81960785, 0.8235294, ...</td>\n",
       "    </tr>\n",
       "  </tbody>\n",
       "</table>\n",
       "</div>"
      ],
      "text/plain": [
       "   age  gender                        img_name  \\\n",
       "0    1       0  20161219203650636.jpg.chip.jpg   \n",
       "1    1       0  20161219222752047.jpg.chip.jpg   \n",
       "2    1       0  20161219222832191.jpg.chip.jpg   \n",
       "3    1       0  20161220144911423.jpg.chip.jpg   \n",
       "4    1       0  20161220144914327.jpg.chip.jpg   \n",
       "\n",
       "                                              pixels  \n",
       "0  [0.5058824, 0.5019608, 0.5019608, 0.49411765, ...  \n",
       "1  [0.6431373, 0.2901961, 0.43529412, 0.65882355,...  \n",
       "2  [0.2627451, 0.27450982, 0.2784314, 0.27450982,...  \n",
       "3  [0.75686276, 0.77254903, 0.7764706, 0.78431374...  \n",
       "4  [0.7921569, 0.8039216, 0.81960785, 0.8235294, ...  "
      ]
     },
     "metadata": {},
     "execution_count": 5
    }
   ],
   "metadata": {}
  },
  {
   "cell_type": "code",
   "execution_count": 121,
   "source": [
    "def age_grouper(x):\r\n",
    "    if x>=0 and x < 12:\r\n",
    "        return 0\r\n",
    "    elif x>=12 and x < 24:\r\n",
    "        return 1\r\n",
    "    elif x>=24 and x < 36:\r\n",
    "        return 2\r\n",
    "    elif x>=36 and x < 48:\r\n",
    "        return 3\r\n",
    "    elif x>=48 and x < 60:\r\n",
    "        return 4\r\n",
    "    else:\r\n",
    "        return 5\r\n"
   ],
   "outputs": [],
   "metadata": {}
  },
  {
   "cell_type": "code",
   "execution_count": 122,
   "source": [
    "# convert age to group, (age can be any number)\r\n",
    "data['age_group'] = data['age'].apply(age_grouper)\r\n",
    "data.tail()"
   ],
   "outputs": [
    {
     "output_type": "execute_result",
     "data": {
      "text/html": [
       "<div>\n",
       "<style scoped>\n",
       "    .dataframe tbody tr th:only-of-type {\n",
       "        vertical-align: middle;\n",
       "    }\n",
       "\n",
       "    .dataframe tbody tr th {\n",
       "        vertical-align: top;\n",
       "    }\n",
       "\n",
       "    .dataframe thead th {\n",
       "        text-align: right;\n",
       "    }\n",
       "</style>\n",
       "<table border=\"1\" class=\"dataframe\">\n",
       "  <thead>\n",
       "    <tr style=\"text-align: right;\">\n",
       "      <th></th>\n",
       "      <th>age</th>\n",
       "      <th>gender</th>\n",
       "      <th>img_name</th>\n",
       "      <th>pixels</th>\n",
       "      <th>age_group</th>\n",
       "    </tr>\n",
       "  </thead>\n",
       "  <tbody>\n",
       "    <tr>\n",
       "      <th>23700</th>\n",
       "      <td>99</td>\n",
       "      <td>1</td>\n",
       "      <td>20170120221920654.jpg.chip.jpg</td>\n",
       "      <td>[127.0, 100.0, 94.0, 81.0, 77.0, 77.0, 74.0, 9...</td>\n",
       "      <td>5</td>\n",
       "    </tr>\n",
       "    <tr>\n",
       "      <th>23701</th>\n",
       "      <td>99</td>\n",
       "      <td>1</td>\n",
       "      <td>20170120134639935.jpg.chip.jpg</td>\n",
       "      <td>[23.0, 28.0, 32.0, 35.0, 42.0, 47.0, 68.0, 85....</td>\n",
       "      <td>5</td>\n",
       "    </tr>\n",
       "    <tr>\n",
       "      <th>23702</th>\n",
       "      <td>99</td>\n",
       "      <td>1</td>\n",
       "      <td>20170110182418864.jpg.chip.jpg</td>\n",
       "      <td>[59.0, 50.0, 37.0, 40.0, 34.0, 19.0, 30.0, 101...</td>\n",
       "      <td>5</td>\n",
       "    </tr>\n",
       "    <tr>\n",
       "      <th>23703</th>\n",
       "      <td>99</td>\n",
       "      <td>1</td>\n",
       "      <td>20170117195405372.jpg.chip.jpg</td>\n",
       "      <td>[45.0, 108.0, 120.0, 156.0, 206.0, 197.0, 140....</td>\n",
       "      <td>5</td>\n",
       "    </tr>\n",
       "    <tr>\n",
       "      <th>23704</th>\n",
       "      <td>99</td>\n",
       "      <td>1</td>\n",
       "      <td>20170110182052119.jpg.chip.jpg</td>\n",
       "      <td>[156.0, 161.0, 160.0, 165.0, 170.0, 173.0, 166...</td>\n",
       "      <td>5</td>\n",
       "    </tr>\n",
       "  </tbody>\n",
       "</table>\n",
       "</div>"
      ],
      "text/plain": [
       "       age  gender                        img_name  \\\n",
       "23700   99       1  20170120221920654.jpg.chip.jpg   \n",
       "23701   99       1  20170120134639935.jpg.chip.jpg   \n",
       "23702   99       1  20170110182418864.jpg.chip.jpg   \n",
       "23703   99       1  20170117195405372.jpg.chip.jpg   \n",
       "23704   99       1  20170110182052119.jpg.chip.jpg   \n",
       "\n",
       "                                                  pixels  age_group  \n",
       "23700  [127.0, 100.0, 94.0, 81.0, 77.0, 77.0, 74.0, 9...          5  \n",
       "23701  [23.0, 28.0, 32.0, 35.0, 42.0, 47.0, 68.0, 85....          5  \n",
       "23702  [59.0, 50.0, 37.0, 40.0, 34.0, 19.0, 30.0, 101...          5  \n",
       "23703  [45.0, 108.0, 120.0, 156.0, 206.0, 197.0, 140....          5  \n",
       "23704  [156.0, 161.0, 160.0, 165.0, 170.0, 173.0, 166...          5  "
      ]
     },
     "metadata": {},
     "execution_count": 122
    }
   ],
   "metadata": {}
  },
  {
   "cell_type": "code",
   "execution_count": 123,
   "source": [
    "data.age_group.unique()"
   ],
   "outputs": [
    {
     "output_type": "execute_result",
     "data": {
      "text/plain": [
       "array([0, 5, 1, 2, 3, 4], dtype=int64)"
      ]
     },
     "metadata": {},
     "execution_count": 123
    }
   ],
   "metadata": {}
  },
  {
   "cell_type": "code",
   "execution_count": 124,
   "source": [
    "X = np.array(data['pixels'].tolist())\r\n",
    "\r\n",
    "## Converting pixels from 1D to 2D\r\n",
    "X = X.reshape(X.shape[0],48,48,1)\r\n",
    "\r\n",
    "# show image\r\n",
    "plt.figure(figsize=(8,8))\r\n",
    "for i in range(1500,1505):\r\n",
    "    plt.subplot(5,5,(i%25)+1)\r\n",
    "    plt.grid(False)\r\n",
    "    plt.imshow(data['pixels'].iloc[i].reshape(48,48))\r\n",
    "    plt.xlabel(\r\n",
    "        \"Age:\"+str(data['age'].iloc[i])+\r\n",
    "        \"  Gender:\"+ str(data['gender'].iloc[i])\r\n",
    "    )\r\n",
    "plt.show()"
   ],
   "outputs": [
    {
     "output_type": "display_data",
     "data": {
      "image/png": "[encoded data removed]",
      "text/plain": [
       "<Figure size 576x576 with 5 Axes>"
      ]
     },
     "metadata": {
      "needs_background": "light"
     }
    }
   ],
   "metadata": {}
  },
  {
   "cell_type": "markdown",
   "source": [
    "# Model for Age Prediction"
   ],
   "metadata": {}
  },
  {
   "cell_type": "code",
   "execution_count": 125,
   "source": [
    "#Split data into train/test\r\n",
    "y = data['age_group']\r\n",
    "\r\n",
    "X_train, X_test, y_train, y_test = train_test_split ( X, y, test_size=0.20, stratify=y)\r\n",
    "# convert to category/classes of 10 ages\r\n",
    "# y_train.shape\r\n",
    "# X_train.shape\r\n",
    "# try with and without these lines.\r\n",
    "# y_train = to_categorical(y_train,num_classes=10)\r\n",
    "# y_test = to_categorical(y_test,num_classes=10)\r\n",
    "y_train.shape\r\n"
   ],
   "outputs": [
    {
     "output_type": "execute_result",
     "data": {
      "text/plain": [
       "(18964,)"
      ]
     },
     "metadata": {},
     "execution_count": 125
    }
   ],
   "metadata": {}
  },
  {
   "cell_type": "markdown",
   "source": [
    "# note"
   ],
   "metadata": {}
  },
  {
   "cell_type": "code",
   "execution_count": 126,
   "source": [
    "print(X.shape[0])\r\n",
    "print(X.shape[0:])\r\n",
    "print(X.shape[1:])\r\n",
    "print(X.shape[2:])\r\n",
    "print(X.shape[3:])"
   ],
   "outputs": [
    {
     "output_type": "stream",
     "name": "stdout",
     "text": [
      "23705\n",
      "(23705, 48, 48, 1)\n",
      "(48, 48, 1)\n",
      "(48, 1)\n",
      "(1,)\n"
     ]
    }
   ],
   "metadata": {}
  },
  {
   "cell_type": "code",
   "execution_count": 127,
   "source": [
    "# X_train.shape[0:]\r\n",
    "# y_test.shape"
   ],
   "outputs": [],
   "metadata": {}
  },
  {
   "cell_type": "code",
   "execution_count": 151,
   "source": [
    "# model1 = Sequential()\r\n",
    "\r\n",
    "# model1.add(Conv2D(64,(3,3),input_shape=(X.shape[1:]))) # 64 neurons with 3*3 filter\r\n",
    "# # create convolutional neural network to extract feature from the images\r\n",
    "# model1.add(Activation('relu'))\r\n",
    "# model1.add(MaxPooling2D(pool_size=(2,2))) # to reduce size of image\r\n",
    "# # model1.add(Dropout(0.1)) # if our model learns a lot we need to remove some nodes.\r\n",
    "\r\n",
    "# model1.add(Conv2D(64,(3,3),input_shape=(X.shape[1:]))) # 64 neurons with 3*3 filter\r\n",
    "# # create convolutional neural network to extract feature from the images\r\n",
    "# model1.add(Activation('relu'))\r\n",
    "# model1.add(MaxPooling2D(pool_size=(2,2))) # to reduce size of image\r\n",
    "# # model1.add(Dropout(0.1))\r\n",
    "\r\n",
    "# model1.add(Flatten()) # flat 2nd last layer to vertical\r\n",
    "# model1.add(Dense(64)) # 64 neurons with 3*3 filter\r\n",
    "# # no. of output modes in hiden layers\r\n",
    "# model1.add(Activation('relu'))\r\n",
    "\r\n",
    "# model1.add(Dense(6)) # output layer (1 neuron at last)\r\n",
    "# model1.add(Activation('sigmoid')) # put output single node as sigmoid value(0 to 1 in decimal)\r\n",
    "# # if you want output single node as 0 or 1 -> use softmax\r\n",
    "\r\n",
    "# # model1.summary()\r\n",
    "\r\n",
    "# model1.compile(optimizer=\"sgd\",loss='sparse_categorical_crossentropy',metrics=['accuracy'])\r\n",
    "\r\n",
    "# # model1.add(Dense(64)) # 64 neurons with 3*3 filter\r\n",
    "# # no. of output modes in hiden layers"
   ],
   "outputs": [],
   "metadata": {}
  },
  {
   "cell_type": "markdown",
   "source": [
    "# Own Model"
   ],
   "metadata": {}
  },
  {
   "cell_type": "code",
   "execution_count": 164,
   "source": [
    "model1 = Sequential()\r\n",
    "\r\n",
    "model1.add(Conv2D(64, (3,3),padding=\"same\",input_shape=(X.shape[1:])))\r\n",
    "model1.add(Activation(\"relu\"))\r\n",
    "# model1.add(BatchNormalization(axis=1))\r\n",
    "model1.add(BatchNormalization(axis=1))\r\n",
    "model1.add(MaxPooling2D(pool_size=(2,2)))\r\n",
    "model1.add(Dropout(0.1))\r\n",
    "\r\n",
    "model1.add(Conv2D(64, (3,3),padding=\"same\"))\r\n",
    "model1.add(Activation(\"relu\"))\r\n",
    "# model1.add(BatchNormalization(axis=1))\r\n",
    "\r\n",
    "# model1.add(Conv2D(64, (3,3),padding=\"same\"))\r\n",
    "# model1.add(Activation(\"relu\"))\r\n",
    "# model1.add(BatchNormalization(axis=1))\r\n",
    "# model1.add(MaxPooling2D(pool_size=(2,2)))\r\n",
    "# model1.add(Dropout(0.3))\r\n",
    "\r\n",
    "model1.add(Conv2D(64, (3,3),padding=\"same\"))\r\n",
    "model1.add(Activation(\"relu\"))\r\n",
    "# model1.add(BatchNormalization(axis=1))\r\n",
    "\r\n",
    "model1.add(Flatten())\r\n",
    "model1.add(Dense(64))\r\n",
    "model1.add(Activation(\"relu\"))\r\n",
    "\r\n",
    "model1.add(Dropout(0.1))\r\n",
    "\r\n",
    "model1.add(Dense(6))\r\n",
    "model1.add(Activation('sigmoid'))\r\n",
    "\r\n",
    "# model1.summary()\r\n",
    "model1.compile(optimizer='sgd',loss='sparse_categorical_crossentropy',metrics=['accuracy'])"
   ],
   "outputs": [],
   "metadata": {}
  },
  {
   "cell_type": "code",
   "execution_count": 130,
   "source": [
    "# model1 = Sequential()\r\n",
    "\r\n",
    "# model1.add(Conv2D(32,kernel_size=(3,3),activation='relu',input_shape=(X.shape[1:])))\r\n",
    "# model1.add(BatchNormalization())\r\n",
    "# model1.add(MaxPooling2D(pool_size=(2,2),strides=(2,2)))\r\n",
    "# model1.add(Dropout(0.2))\r\n",
    "\r\n",
    "# model1.add(Conv2D(64,kernel_size=(3,3),activation='relu'))\r\n",
    "# model1.add(MaxPooling2D(pool_size=(2,2),strides=(2,2)))\r\n",
    "# # before fully connected neural network , we must flaten the image/data.\r\n",
    "\r\n",
    "# model1.add(Conv2D(32,kernel_size=(3,3),activation='relu'))\r\n",
    "# model1.add(MaxPooling2D(pool_size=(2,2),strides=(2,2)))\r\n",
    "\r\n",
    "# model1.add(Flatten())\r\n",
    "\r\n",
    "# # fully connected neural networks\r\n",
    "# # 1024 -> neurons\r\n",
    "# model1.add(Dense(64,activation='relu'))\r\n",
    "# model1.add(Dropout(0.2))\r\n",
    "# model1.add(Dense(32,activation='relu'))\r\n",
    "# model1.add(Dropout(0.1))\r\n",
    "\r\n",
    "# model1.add(Dense(6,activation='sigmoid'))\r\n",
    "\r\n",
    "# model1.compile(optimizer='sgd',loss='sparse_categorical_crossentropy',metrics=['accuracy'])\r\n",
    "# # mean_squared_error\r\n",
    "# # if you have 1D integer encoded target, you can use sparse_categorical_crossentropy as loss function\r\n",
    "# # if you have one-hot encoded your target in order to have 2D shape (n_samples, n_class), you can use categorical_crossentropy"
   ],
   "outputs": [],
   "metadata": {}
  },
  {
   "cell_type": "code",
   "execution_count": 155,
   "source": [
    "model2 = Sequential()\r\n",
    "\r\n",
    "model2.add(Conv2D(64,kernel_size=(3,3),activation='relu',input_shape=(X.shape[1:])))\r\n",
    "model2.add(BatchNormalization())\r\n",
    "# model2.add(MaxPooling2D(pool_size=(2,2)))\r\n",
    "model2.add(MaxPooling2D(pool_size=(2,2),strides=(2,2)))\r\n",
    "model2.add(Dropout(0.1))\r\n",
    "\r\n",
    "model2.add(Conv2D(128, (3, 3), activation='relu'))\r\n",
    "model2.add(MaxPooling2D((2, 2),strides=(2,2)))\r\n",
    "\r\n",
    "model2.add(Conv2D(256, (3, 3), activation='relu'))\r\n",
    "model2.add(MaxPooling2D((2, 2),strides=(2,2)))\r\n",
    "# model2.add(BatchNormalization())\r\n",
    "\r\n",
    "model2.add(Flatten())\r\n",
    "\r\n",
    "model2.add(Dense(64, activation='relu'))\r\n",
    "model2.add(Dropout(0.1))\r\n",
    "model2.add(Dense(6, activation='sigmoid'))\r\n",
    "\r\n",
    "model2.compile(optimizer='sgd',loss='sparse_categorical_crossentropy',metrics=['accuracy'])"
   ],
   "outputs": [],
   "metadata": {}
  },
  {
   "cell_type": "code",
   "execution_count": 165,
   "source": [
    "# model.compile(optimizer, loss)\r\n",
    "# ,validation_data=(X_test,y_test), batch_size=1024\r\n",
    "history = model1.fit(X_train, y_train, epochs=200, validation_data=(X_test,y_test), batch_size=288)\r\n",
    "# batch_size=1024"
   ],
   "outputs": [
    {
     "output_type": "stream",
     "name": "stdout",
     "text": [
      "Epoch 1/200\n",
      "66/66 [==============================] - 304s 5s/step - loss: 1.6850 - accuracy: 0.3751 - val_loss: 1.6060 - val_accuracy: 0.3689\n",
      "Epoch 2/200\n",
      "66/66 [==============================] - 298s 5s/step - loss: 1.4940 - accuracy: 0.4305 - val_loss: 1.3944 - val_accuracy: 0.4763\n",
      "Epoch 3/200\n",
      "66/66 [==============================] - 297s 5s/step - loss: 1.3787 - accuracy: 0.4777 - val_loss: 1.2822 - val_accuracy: 0.5210\n",
      "Epoch 4/200\n",
      "66/66 [==============================] - 297s 5s/step - loss: 1.3149 - accuracy: 0.4996 - val_loss: 1.2522 - val_accuracy: 0.5233\n",
      "Epoch 5/200\n",
      "66/66 [==============================] - 296s 4s/step - loss: 1.2566 - accuracy: 0.5187 - val_loss: 1.1912 - val_accuracy: 0.5417\n",
      "Epoch 6/200\n",
      "66/66 [==============================] - 296s 4s/step - loss: 1.2181 - accuracy: 0.5295 - val_loss: 1.1860 - val_accuracy: 0.5425\n",
      "Epoch 7/200\n",
      "66/66 [==============================] - 297s 4s/step - loss: 1.1763 - accuracy: 0.5413 - val_loss: 1.1652 - val_accuracy: 0.5564\n",
      "Epoch 8/200\n",
      "66/66 [==============================] - 295s 4s/step - loss: 1.1433 - accuracy: 0.5553 - val_loss: 1.1855 - val_accuracy: 0.5408\n",
      "Epoch 9/200\n",
      "66/66 [==============================] - 295s 4s/step - loss: 1.1219 - accuracy: 0.5658 - val_loss: 1.2096 - val_accuracy: 0.5549\n",
      "Epoch 10/200\n",
      "66/66 [==============================] - 294s 4s/step - loss: 1.0835 - accuracy: 0.5742 - val_loss: 1.1197 - val_accuracy: 0.5659\n",
      "Epoch 11/200\n",
      "66/66 [==============================] - 295s 4s/step - loss: 1.0594 - accuracy: 0.5821 - val_loss: 1.0450 - val_accuracy: 0.5927\n",
      "Epoch 12/200\n",
      "66/66 [==============================] - 295s 4s/step - loss: 1.0429 - accuracy: 0.5885 - val_loss: 1.1256 - val_accuracy: 0.5573\n",
      "Epoch 13/200\n",
      "66/66 [==============================] - 298s 5s/step - loss: 1.0176 - accuracy: 0.5961 - val_loss: 1.0285 - val_accuracy: 0.5895\n",
      "Epoch 14/200\n",
      "66/66 [==============================] - 296s 4s/step - loss: 0.9765 - accuracy: 0.6123 - val_loss: 0.9930 - val_accuracy: 0.6068\n",
      "Epoch 15/200\n",
      "66/66 [==============================] - 280s 4s/step - loss: 0.9650 - accuracy: 0.6185 - val_loss: 1.0434 - val_accuracy: 0.5957\n",
      "Epoch 16/200\n",
      "66/66 [==============================] - 285s 4s/step - loss: 0.9468 - accuracy: 0.6222 - val_loss: 0.9693 - val_accuracy: 0.6136\n",
      "Epoch 17/200\n",
      "66/66 [==============================] - 280s 4s/step - loss: 0.9298 - accuracy: 0.6301 - val_loss: 0.9776 - val_accuracy: 0.5982\n",
      "Epoch 18/200\n",
      "66/66 [==============================] - 283s 4s/step - loss: 0.9048 - accuracy: 0.6384 - val_loss: 1.0274 - val_accuracy: 0.5855\n",
      "Epoch 19/200\n",
      "66/66 [==============================] - 279s 4s/step - loss: 0.8920 - accuracy: 0.6473 - val_loss: 0.9593 - val_accuracy: 0.6191\n",
      "Epoch 20/200\n",
      "66/66 [==============================] - 280s 4s/step - loss: 0.8673 - accuracy: 0.6542 - val_loss: 0.9826 - val_accuracy: 0.6115\n",
      "Epoch 21/200\n",
      "66/66 [==============================] - 279s 4s/step - loss: 0.8580 - accuracy: 0.6609 - val_loss: 0.9590 - val_accuracy: 0.6197\n",
      "Epoch 22/200\n",
      "66/66 [==============================] - 279s 4s/step - loss: 0.8342 - accuracy: 0.6683 - val_loss: 0.9815 - val_accuracy: 0.6007\n",
      "Epoch 23/200\n",
      "66/66 [==============================] - 279s 4s/step - loss: 0.8581 - accuracy: 0.6565 - val_loss: 0.9641 - val_accuracy: 0.5986\n",
      "Epoch 24/200\n",
      "66/66 [==============================] - 279s 4s/step - loss: 0.7872 - accuracy: 0.6867 - val_loss: 0.9537 - val_accuracy: 0.6254\n",
      "Epoch 25/200\n",
      "66/66 [==============================] - 285s 4s/step - loss: 0.7836 - accuracy: 0.6832 - val_loss: 0.9483 - val_accuracy: 0.6212\n",
      "Epoch 26/200\n",
      "66/66 [==============================] - 280s 4s/step - loss: 0.7698 - accuracy: 0.6962 - val_loss: 0.9595 - val_accuracy: 0.6237\n",
      "Epoch 27/200\n",
      "66/66 [==============================] - 279s 4s/step - loss: 0.7469 - accuracy: 0.7043 - val_loss: 0.9782 - val_accuracy: 0.6281\n",
      "Epoch 28/200\n",
      "66/66 [==============================] - 278s 4s/step - loss: 0.7184 - accuracy: 0.7147 - val_loss: 0.9945 - val_accuracy: 0.6250\n",
      "Epoch 29/200\n",
      "66/66 [==============================] - 279s 4s/step - loss: 0.7093 - accuracy: 0.7171 - val_loss: 0.9501 - val_accuracy: 0.6283\n",
      "Epoch 30/200\n",
      "66/66 [==============================] - 279s 4s/step - loss: 0.7112 - accuracy: 0.7197 - val_loss: 0.9848 - val_accuracy: 0.6167\n",
      "Epoch 31/200\n",
      "66/66 [==============================] - 279s 4s/step - loss: 0.6815 - accuracy: 0.7304 - val_loss: 1.0007 - val_accuracy: 0.6241\n",
      "Epoch 32/200\n",
      "66/66 [==============================] - 279s 4s/step - loss: 0.6460 - accuracy: 0.7441 - val_loss: 1.0226 - val_accuracy: 0.5853\n",
      "Epoch 33/200\n",
      "66/66 [==============================] - 279s 4s/step - loss: 0.6429 - accuracy: 0.7476 - val_loss: 0.9702 - val_accuracy: 0.6153\n",
      "Epoch 34/200\n",
      "66/66 [==============================] - 278s 4s/step - loss: 0.6005 - accuracy: 0.7630 - val_loss: 1.0381 - val_accuracy: 0.6283\n",
      "Epoch 35/200\n",
      "66/66 [==============================] - 279s 4s/step - loss: 0.5926 - accuracy: 0.7669 - val_loss: 1.0298 - val_accuracy: 0.5891\n",
      "Epoch 36/200\n",
      "66/66 [==============================] - 279s 4s/step - loss: 0.5937 - accuracy: 0.7695 - val_loss: 1.0136 - val_accuracy: 0.6254\n",
      "Epoch 37/200\n",
      "66/66 [==============================] - 279s 4s/step - loss: 0.5527 - accuracy: 0.7875 - val_loss: 1.1244 - val_accuracy: 0.5735\n",
      "Epoch 38/200\n",
      "66/66 [==============================] - 278s 4s/step - loss: 0.5383 - accuracy: 0.7933 - val_loss: 1.0219 - val_accuracy: 0.6142\n",
      "Epoch 39/200\n",
      "66/66 [==============================] - 279s 4s/step - loss: 0.5137 - accuracy: 0.7994 - val_loss: 1.1209 - val_accuracy: 0.6146\n",
      "Epoch 40/200\n",
      "66/66 [==============================] - 278s 4s/step - loss: 0.5074 - accuracy: 0.8054 - val_loss: 1.1240 - val_accuracy: 0.6153\n",
      "Epoch 41/200\n",
      "66/66 [==============================] - 279s 4s/step - loss: 0.4765 - accuracy: 0.8208 - val_loss: 1.0732 - val_accuracy: 0.5897\n",
      "Epoch 42/200\n",
      "66/66 [==============================] - 280s 4s/step - loss: 0.4727 - accuracy: 0.8197 - val_loss: 1.1154 - val_accuracy: 0.6197\n",
      "Epoch 43/200\n",
      "66/66 [==============================] - 279s 4s/step - loss: 0.4361 - accuracy: 0.8335 - val_loss: 1.0828 - val_accuracy: 0.6220\n",
      "Epoch 44/200\n",
      "66/66 [==============================] - 282s 4s/step - loss: 0.4243 - accuracy: 0.8401 - val_loss: 1.1698 - val_accuracy: 0.5729\n",
      "Epoch 45/200\n",
      "66/66 [==============================] - 279s 4s/step - loss: 0.3988 - accuracy: 0.8522 - val_loss: 1.1938 - val_accuracy: 0.5676\n",
      "Epoch 46/200\n",
      "66/66 [==============================] - 280s 4s/step - loss: 0.3873 - accuracy: 0.8564 - val_loss: 1.1001 - val_accuracy: 0.6296\n",
      "Epoch 47/200\n",
      "66/66 [==============================] - 279s 4s/step - loss: 0.3458 - accuracy: 0.8736 - val_loss: 1.2094 - val_accuracy: 0.6094\n",
      "Epoch 48/200\n",
      "66/66 [==============================] - 278s 4s/step - loss: 0.3316 - accuracy: 0.8833 - val_loss: 1.2444 - val_accuracy: 0.6189\n",
      "Epoch 49/200\n",
      "66/66 [==============================] - 280s 4s/step - loss: 0.4240 - accuracy: 0.8434 - val_loss: 1.2796 - val_accuracy: 0.5982\n",
      "Epoch 50/200\n",
      "66/66 [==============================] - 279s 4s/step - loss: 0.3159 - accuracy: 0.8892 - val_loss: 1.2136 - val_accuracy: 0.6193\n",
      "Epoch 51/200\n",
      "66/66 [==============================] - 279s 4s/step - loss: 0.2757 - accuracy: 0.9045 - val_loss: 1.3134 - val_accuracy: 0.5668\n",
      "Epoch 52/200\n",
      "66/66 [==============================] - 279s 4s/step - loss: 0.2768 - accuracy: 0.9028 - val_loss: 1.2523 - val_accuracy: 0.6068\n",
      "Epoch 53/200\n",
      "66/66 [==============================] - 279s 4s/step - loss: 0.3174 - accuracy: 0.8846 - val_loss: 1.2368 - val_accuracy: 0.6127\n",
      "Epoch 54/200\n",
      "66/66 [==============================] - 278s 4s/step - loss: 0.2792 - accuracy: 0.9042 - val_loss: 1.4156 - val_accuracy: 0.6224\n",
      "Epoch 55/200\n",
      "66/66 [==============================] - 279s 4s/step - loss: 0.2212 - accuracy: 0.9268 - val_loss: 1.3861 - val_accuracy: 0.6191\n",
      "Epoch 56/200\n",
      "66/66 [==============================] - 279s 4s/step - loss: 0.2136 - accuracy: 0.9290 - val_loss: 1.4832 - val_accuracy: 0.6117\n",
      "Epoch 57/200\n",
      "66/66 [==============================] - 278s 4s/step - loss: 0.2001 - accuracy: 0.9340 - val_loss: 1.4052 - val_accuracy: 0.5602\n",
      "Epoch 58/200\n",
      "66/66 [==============================] - 279s 4s/step - loss: 0.2183 - accuracy: 0.9255 - val_loss: 1.4869 - val_accuracy: 0.6146\n",
      "Epoch 59/200\n",
      "66/66 [==============================] - 279s 4s/step - loss: 0.1727 - accuracy: 0.9443 - val_loss: 1.4531 - val_accuracy: 0.6020\n",
      "Epoch 60/200\n",
      "66/66 [==============================] - 279s 4s/step - loss: 0.1588 - accuracy: 0.9508 - val_loss: 1.4578 - val_accuracy: 0.6018\n",
      "Epoch 61/200\n",
      "66/66 [==============================] - 279s 4s/step - loss: 0.1541 - accuracy: 0.9519 - val_loss: 1.5294 - val_accuracy: 0.6170\n",
      "Epoch 62/200\n",
      "66/66 [==============================] - 279s 4s/step - loss: 0.1506 - accuracy: 0.9537 - val_loss: 1.5083 - val_accuracy: 0.6075\n",
      "Epoch 63/200\n",
      "66/66 [==============================] - 279s 4s/step - loss: 0.1415 - accuracy: 0.9555 - val_loss: 1.5288 - val_accuracy: 0.5748\n",
      "Epoch 64/200\n",
      "66/66 [==============================] - 279s 4s/step - loss: 0.1499 - accuracy: 0.9521 - val_loss: 1.5516 - val_accuracy: 0.6051\n",
      "Epoch 65/200\n",
      "66/66 [==============================] - 280s 4s/step - loss: 0.1178 - accuracy: 0.9648 - val_loss: 1.6068 - val_accuracy: 0.6138\n",
      "Epoch 66/200\n",
      "66/66 [==============================] - 279s 4s/step - loss: 0.1160 - accuracy: 0.9632 - val_loss: 1.6486 - val_accuracy: 0.5938\n",
      "Epoch 67/200\n",
      "66/66 [==============================] - 279s 4s/step - loss: 0.1342 - accuracy: 0.9555 - val_loss: 1.6114 - val_accuracy: 0.6108\n",
      "Epoch 68/200\n",
      "66/66 [==============================] - 279s 4s/step - loss: 0.1053 - accuracy: 0.9685 - val_loss: 1.6095 - val_accuracy: 0.6081\n",
      "Epoch 69/200\n",
      "66/66 [==============================] - 278s 4s/step - loss: 0.1007 - accuracy: 0.9711 - val_loss: 1.6660 - val_accuracy: 0.6039\n",
      "Epoch 70/200\n",
      "66/66 [==============================] - 281s 4s/step - loss: 0.0996 - accuracy: 0.9694 - val_loss: 1.6418 - val_accuracy: 0.6119\n",
      "Epoch 71/200\n",
      "66/66 [==============================] - 279s 4s/step - loss: 0.0935 - accuracy: 0.9719 - val_loss: 1.7164 - val_accuracy: 0.6176\n",
      "Epoch 72/200\n",
      "66/66 [==============================] - 279s 4s/step - loss: 0.1392 - accuracy: 0.9538 - val_loss: 1.6460 - val_accuracy: 0.5990\n",
      "Epoch 73/200\n",
      "66/66 [==============================] - 279s 4s/step - loss: 0.0881 - accuracy: 0.9750 - val_loss: 1.6773 - val_accuracy: 0.5995\n",
      "Epoch 74/200\n",
      "66/66 [==============================] - 279s 4s/step - loss: 0.0863 - accuracy: 0.9741 - val_loss: 1.6943 - val_accuracy: 0.6094\n",
      "Epoch 75/200\n",
      "66/66 [==============================] - 279s 4s/step - loss: 0.0794 - accuracy: 0.9772 - val_loss: 1.7294 - val_accuracy: 0.6161\n",
      "Epoch 76/200\n",
      "66/66 [==============================] - 279s 4s/step - loss: 0.0769 - accuracy: 0.9770 - val_loss: 1.7186 - val_accuracy: 0.6001\n",
      "Epoch 77/200\n",
      "66/66 [==============================] - 279s 4s/step - loss: 0.0745 - accuracy: 0.9776 - val_loss: 1.7517 - val_accuracy: 0.5944\n",
      "Epoch 78/200\n",
      "66/66 [==============================] - 279s 4s/step - loss: 0.0751 - accuracy: 0.9779 - val_loss: 1.8462 - val_accuracy: 0.6127\n",
      "Epoch 79/200\n",
      "66/66 [==============================] - 279s 4s/step - loss: 0.0789 - accuracy: 0.9758 - val_loss: 1.7925 - val_accuracy: 0.6024\n",
      "Epoch 80/200\n",
      "66/66 [==============================] - 279s 4s/step - loss: 0.0720 - accuracy: 0.9779 - val_loss: 1.7884 - val_accuracy: 0.6117\n",
      "Epoch 81/200\n",
      "66/66 [==============================] - 279s 4s/step - loss: 0.0709 - accuracy: 0.9799 - val_loss: 1.8348 - val_accuracy: 0.6092\n",
      "Epoch 82/200\n",
      "66/66 [==============================] - 279s 4s/step - loss: 0.0656 - accuracy: 0.9802 - val_loss: 1.8963 - val_accuracy: 0.6104\n",
      "Epoch 83/200\n",
      "66/66 [==============================] - 280s 4s/step - loss: 0.0659 - accuracy: 0.9797 - val_loss: 1.8513 - val_accuracy: 0.5965\n",
      "Epoch 84/200\n",
      "66/66 [==============================] - 279s 4s/step - loss: 0.0610 - accuracy: 0.9811 - val_loss: 1.8691 - val_accuracy: 0.6032\n",
      "Epoch 85/200\n",
      "66/66 [==============================] - 279s 4s/step - loss: 0.0631 - accuracy: 0.9815 - val_loss: 1.8355 - val_accuracy: 0.5997\n",
      "Epoch 86/200\n",
      "66/66 [==============================] - 279s 4s/step - loss: 0.0563 - accuracy: 0.9839 - val_loss: 1.9414 - val_accuracy: 0.6077\n",
      "Epoch 87/200\n",
      "66/66 [==============================] - 279s 4s/step - loss: 0.0617 - accuracy: 0.9805 - val_loss: 1.9347 - val_accuracy: 0.5931\n",
      "Epoch 88/200\n",
      "66/66 [==============================] - 279s 4s/step - loss: 0.0563 - accuracy: 0.9826 - val_loss: 1.9348 - val_accuracy: 0.5874\n",
      "Epoch 89/200\n",
      "66/66 [==============================] - 279s 4s/step - loss: 0.0606 - accuracy: 0.9809 - val_loss: 1.9116 - val_accuracy: 0.5986\n",
      "Epoch 90/200\n",
      "66/66 [==============================] - 279s 4s/step - loss: 0.0565 - accuracy: 0.9822 - val_loss: 1.8588 - val_accuracy: 0.6049\n",
      "Epoch 91/200\n",
      "66/66 [==============================] - 279s 4s/step - loss: 0.0516 - accuracy: 0.9830 - val_loss: 2.0082 - val_accuracy: 0.6117\n",
      "Epoch 92/200\n",
      "66/66 [==============================] - 278s 4s/step - loss: 0.0555 - accuracy: 0.9828 - val_loss: 2.0162 - val_accuracy: 0.6064\n",
      "Epoch 93/200\n",
      "66/66 [==============================] - 279s 4s/step - loss: 0.0512 - accuracy: 0.9849 - val_loss: 1.9597 - val_accuracy: 0.6018\n",
      "Epoch 94/200\n",
      "66/66 [==============================] - 280s 4s/step - loss: 0.0516 - accuracy: 0.9844 - val_loss: 1.9516 - val_accuracy: 0.6121\n",
      "Epoch 95/200\n",
      "66/66 [==============================] - 280s 4s/step - loss: 0.0480 - accuracy: 0.9859 - val_loss: 1.9769 - val_accuracy: 0.5965\n",
      "Epoch 96/200\n",
      "66/66 [==============================] - 279s 4s/step - loss: 0.0480 - accuracy: 0.9853 - val_loss: 1.9692 - val_accuracy: 0.5908\n",
      "Epoch 97/200\n",
      "66/66 [==============================] - 279s 4s/step - loss: 0.0454 - accuracy: 0.9863 - val_loss: 2.0536 - val_accuracy: 0.5999\n",
      "Epoch 98/200\n",
      "66/66 [==============================] - 279s 4s/step - loss: 0.0479 - accuracy: 0.9845 - val_loss: 2.0320 - val_accuracy: 0.6060\n",
      "Epoch 99/200\n",
      "66/66 [==============================] - 279s 4s/step - loss: 0.0459 - accuracy: 0.9858 - val_loss: 2.0274 - val_accuracy: 0.6102\n",
      "Epoch 100/200\n",
      "66/66 [==============================] - 279s 4s/step - loss: 0.0458 - accuracy: 0.9855 - val_loss: 2.0630 - val_accuracy: 0.6138\n",
      "Epoch 101/200\n",
      "66/66 [==============================] - 279s 4s/step - loss: 0.0430 - accuracy: 0.9868 - val_loss: 2.0676 - val_accuracy: 0.5969\n",
      "Epoch 102/200\n",
      "66/66 [==============================] - 279s 4s/step - loss: 0.0412 - accuracy: 0.9869 - val_loss: 2.0981 - val_accuracy: 0.6075\n",
      "Epoch 103/200\n",
      "66/66 [==============================] - 279s 4s/step - loss: 0.0403 - accuracy: 0.9874 - val_loss: 2.1067 - val_accuracy: 0.6089\n",
      "Epoch 104/200\n",
      "66/66 [==============================] - 279s 4s/step - loss: 0.0433 - accuracy: 0.9861 - val_loss: 2.0558 - val_accuracy: 0.6030\n",
      "Epoch 105/200\n",
      "66/66 [==============================] - 279s 4s/step - loss: 0.0406 - accuracy: 0.9871 - val_loss: 2.0743 - val_accuracy: 0.6003\n",
      "Epoch 106/200\n",
      "66/66 [==============================] - 280s 4s/step - loss: 0.0416 - accuracy: 0.9866 - val_loss: 2.1037 - val_accuracy: 0.6024\n",
      "Epoch 107/200\n",
      "66/66 [==============================] - 279s 4s/step - loss: 0.0408 - accuracy: 0.9869 - val_loss: 2.1154 - val_accuracy: 0.6018\n",
      "Epoch 108/200\n",
      "66/66 [==============================] - 279s 4s/step - loss: 0.0435 - accuracy: 0.9850 - val_loss: 2.0997 - val_accuracy: 0.5908\n",
      "Epoch 109/200\n",
      "66/66 [==============================] - 279s 4s/step - loss: 0.0383 - accuracy: 0.9880 - val_loss: 2.1245 - val_accuracy: 0.5872\n",
      "Epoch 110/200\n",
      "66/66 [==============================] - 278s 4s/step - loss: 0.0409 - accuracy: 0.9874 - val_loss: 2.0826 - val_accuracy: 0.5933\n",
      "Epoch 111/200\n",
      "66/66 [==============================] - 279s 4s/step - loss: 0.0385 - accuracy: 0.9877 - val_loss: 2.1275 - val_accuracy: 0.6070\n",
      "Epoch 112/200\n",
      "66/66 [==============================] - 279s 4s/step - loss: 0.0383 - accuracy: 0.9867 - val_loss: 2.1048 - val_accuracy: 0.6045\n",
      "Epoch 113/200\n",
      "66/66 [==============================] - 285s 4s/step - loss: 0.0361 - accuracy: 0.9886 - val_loss: 2.1399 - val_accuracy: 0.5929\n",
      "Epoch 114/200\n"
     ]
    },
    {
     "output_type": "error",
     "ename": "KeyboardInterrupt",
     "evalue": "",
     "traceback": [
      "\u001b[1;31m---------------------------------------------------------------------------\u001b[0m",
      "\u001b[1;31mKeyboardInterrupt\u001b[0m                         Traceback (most recent call last)",
      "\u001b[1;32m~\\AppData\\Local\\Temp/ipykernel_12396/3847106775.py\u001b[0m in \u001b[0;36m<module>\u001b[1;34m\u001b[0m\n\u001b[0;32m      1\u001b[0m \u001b[1;31m# model.compile(optimizer, loss)\u001b[0m\u001b[1;33m\u001b[0m\u001b[1;33m\u001b[0m\u001b[0m\n\u001b[0;32m      2\u001b[0m \u001b[1;31m# ,validation_data=(X_test,y_test), batch_size=1024\u001b[0m\u001b[1;33m\u001b[0m\u001b[1;33m\u001b[0m\u001b[0m\n\u001b[1;32m----> 3\u001b[1;33m \u001b[0mhistory\u001b[0m \u001b[1;33m=\u001b[0m \u001b[0mmodel1\u001b[0m\u001b[1;33m.\u001b[0m\u001b[0mfit\u001b[0m\u001b[1;33m(\u001b[0m\u001b[0mX_train\u001b[0m\u001b[1;33m,\u001b[0m \u001b[0my_train\u001b[0m\u001b[1;33m,\u001b[0m \u001b[0mepochs\u001b[0m\u001b[1;33m=\u001b[0m\u001b[1;36m200\u001b[0m\u001b[1;33m,\u001b[0m \u001b[0mvalidation_data\u001b[0m\u001b[1;33m=\u001b[0m\u001b[1;33m(\u001b[0m\u001b[0mX_test\u001b[0m\u001b[1;33m,\u001b[0m\u001b[0my_test\u001b[0m\u001b[1;33m)\u001b[0m\u001b[1;33m,\u001b[0m \u001b[0mbatch_size\u001b[0m\u001b[1;33m=\u001b[0m\u001b[1;36m288\u001b[0m\u001b[1;33m)\u001b[0m\u001b[1;33m\u001b[0m\u001b[1;33m\u001b[0m\u001b[0m\n\u001b[0m\u001b[0;32m      4\u001b[0m \u001b[1;31m# batch_size=1024\u001b[0m\u001b[1;33m\u001b[0m\u001b[1;33m\u001b[0m\u001b[0m\n",
      "\u001b[1;32mC:\\Python39\\lib\\site-packages\\keras\\engine\\training.py\u001b[0m in \u001b[0;36mfit\u001b[1;34m(self, x, y, batch_size, epochs, verbose, callbacks, validation_split, validation_data, shuffle, class_weight, sample_weight, initial_epoch, steps_per_epoch, validation_steps, validation_batch_size, validation_freq, max_queue_size, workers, use_multiprocessing)\u001b[0m\n\u001b[0;32m   1182\u001b[0m                 _r=1):\n\u001b[0;32m   1183\u001b[0m               \u001b[0mcallbacks\u001b[0m\u001b[1;33m.\u001b[0m\u001b[0mon_train_batch_begin\u001b[0m\u001b[1;33m(\u001b[0m\u001b[0mstep\u001b[0m\u001b[1;33m)\u001b[0m\u001b[1;33m\u001b[0m\u001b[1;33m\u001b[0m\u001b[0m\n\u001b[1;32m-> 1184\u001b[1;33m               \u001b[0mtmp_logs\u001b[0m \u001b[1;33m=\u001b[0m \u001b[0mself\u001b[0m\u001b[1;33m.\u001b[0m\u001b[0mtrain_function\u001b[0m\u001b[1;33m(\u001b[0m\u001b[0miterator\u001b[0m\u001b[1;33m)\u001b[0m\u001b[1;33m\u001b[0m\u001b[1;33m\u001b[0m\u001b[0m\n\u001b[0m\u001b[0;32m   1185\u001b[0m               \u001b[1;32mif\u001b[0m \u001b[0mdata_handler\u001b[0m\u001b[1;33m.\u001b[0m\u001b[0mshould_sync\u001b[0m\u001b[1;33m:\u001b[0m\u001b[1;33m\u001b[0m\u001b[1;33m\u001b[0m\u001b[0m\n\u001b[0;32m   1186\u001b[0m                 \u001b[0mcontext\u001b[0m\u001b[1;33m.\u001b[0m\u001b[0masync_wait\u001b[0m\u001b[1;33m(\u001b[0m\u001b[1;33m)\u001b[0m\u001b[1;33m\u001b[0m\u001b[1;33m\u001b[0m\u001b[0m\n",
      "\u001b[1;32mC:\\Python39\\lib\\site-packages\\tensorflow\\python\\eager\\def_function.py\u001b[0m in \u001b[0;36m__call__\u001b[1;34m(self, *args, **kwds)\u001b[0m\n\u001b[0;32m    883\u001b[0m \u001b[1;33m\u001b[0m\u001b[0m\n\u001b[0;32m    884\u001b[0m       \u001b[1;32mwith\u001b[0m \u001b[0mOptionalXlaContext\u001b[0m\u001b[1;33m(\u001b[0m\u001b[0mself\u001b[0m\u001b[1;33m.\u001b[0m\u001b[0m_jit_compile\u001b[0m\u001b[1;33m)\u001b[0m\u001b[1;33m:\u001b[0m\u001b[1;33m\u001b[0m\u001b[1;33m\u001b[0m\u001b[0m\n\u001b[1;32m--> 885\u001b[1;33m         \u001b[0mresult\u001b[0m \u001b[1;33m=\u001b[0m \u001b[0mself\u001b[0m\u001b[1;33m.\u001b[0m\u001b[0m_call\u001b[0m\u001b[1;33m(\u001b[0m\u001b[1;33m*\u001b[0m\u001b[0margs\u001b[0m\u001b[1;33m,\u001b[0m \u001b[1;33m**\u001b[0m\u001b[0mkwds\u001b[0m\u001b[1;33m)\u001b[0m\u001b[1;33m\u001b[0m\u001b[1;33m\u001b[0m\u001b[0m\n\u001b[0m\u001b[0;32m    886\u001b[0m \u001b[1;33m\u001b[0m\u001b[0m\n\u001b[0;32m    887\u001b[0m       \u001b[0mnew_tracing_count\u001b[0m \u001b[1;33m=\u001b[0m \u001b[0mself\u001b[0m\u001b[1;33m.\u001b[0m\u001b[0mexperimental_get_tracing_count\u001b[0m\u001b[1;33m(\u001b[0m\u001b[1;33m)\u001b[0m\u001b[1;33m\u001b[0m\u001b[1;33m\u001b[0m\u001b[0m\n",
      "\u001b[1;32mC:\\Python39\\lib\\site-packages\\tensorflow\\python\\eager\\def_function.py\u001b[0m in \u001b[0;36m_call\u001b[1;34m(self, *args, **kwds)\u001b[0m\n\u001b[0;32m    915\u001b[0m       \u001b[1;31m# In this case we have created variables on the first call, so we run the\u001b[0m\u001b[1;33m\u001b[0m\u001b[1;33m\u001b[0m\u001b[0m\n\u001b[0;32m    916\u001b[0m       \u001b[1;31m# defunned version which is guaranteed to never create variables.\u001b[0m\u001b[1;33m\u001b[0m\u001b[1;33m\u001b[0m\u001b[0m\n\u001b[1;32m--> 917\u001b[1;33m       \u001b[1;32mreturn\u001b[0m \u001b[0mself\u001b[0m\u001b[1;33m.\u001b[0m\u001b[0m_stateless_fn\u001b[0m\u001b[1;33m(\u001b[0m\u001b[1;33m*\u001b[0m\u001b[0margs\u001b[0m\u001b[1;33m,\u001b[0m \u001b[1;33m**\u001b[0m\u001b[0mkwds\u001b[0m\u001b[1;33m)\u001b[0m  \u001b[1;31m# pylint: disable=not-callable\u001b[0m\u001b[1;33m\u001b[0m\u001b[1;33m\u001b[0m\u001b[0m\n\u001b[0m\u001b[0;32m    918\u001b[0m     \u001b[1;32melif\u001b[0m \u001b[0mself\u001b[0m\u001b[1;33m.\u001b[0m\u001b[0m_stateful_fn\u001b[0m \u001b[1;32mis\u001b[0m \u001b[1;32mnot\u001b[0m \u001b[1;32mNone\u001b[0m\u001b[1;33m:\u001b[0m\u001b[1;33m\u001b[0m\u001b[1;33m\u001b[0m\u001b[0m\n\u001b[0;32m    919\u001b[0m       \u001b[1;31m# Release the lock early so that multiple threads can perform the call\u001b[0m\u001b[1;33m\u001b[0m\u001b[1;33m\u001b[0m\u001b[0m\n",
      "\u001b[1;32mC:\\Python39\\lib\\site-packages\\tensorflow\\python\\eager\\function.py\u001b[0m in \u001b[0;36m__call__\u001b[1;34m(self, *args, **kwargs)\u001b[0m\n\u001b[0;32m   3037\u001b[0m       (graph_function,\n\u001b[0;32m   3038\u001b[0m        filtered_flat_args) = self._maybe_define_function(args, kwargs)\n\u001b[1;32m-> 3039\u001b[1;33m     return graph_function._call_flat(\n\u001b[0m\u001b[0;32m   3040\u001b[0m         filtered_flat_args, captured_inputs=graph_function.captured_inputs)  # pylint: disable=protected-access\n\u001b[0;32m   3041\u001b[0m \u001b[1;33m\u001b[0m\u001b[0m\n",
      "\u001b[1;32mC:\\Python39\\lib\\site-packages\\tensorflow\\python\\eager\\function.py\u001b[0m in \u001b[0;36m_call_flat\u001b[1;34m(self, args, captured_inputs, cancellation_manager)\u001b[0m\n\u001b[0;32m   1961\u001b[0m         and executing_eagerly):\n\u001b[0;32m   1962\u001b[0m       \u001b[1;31m# No tape is watching; skip to running the function.\u001b[0m\u001b[1;33m\u001b[0m\u001b[1;33m\u001b[0m\u001b[0m\n\u001b[1;32m-> 1963\u001b[1;33m       return self._build_call_outputs(self._inference_function.call(\n\u001b[0m\u001b[0;32m   1964\u001b[0m           ctx, args, cancellation_manager=cancellation_manager))\n\u001b[0;32m   1965\u001b[0m     forward_backward = self._select_forward_and_backward_functions(\n",
      "\u001b[1;32mC:\\Python39\\lib\\site-packages\\tensorflow\\python\\eager\\function.py\u001b[0m in \u001b[0;36mcall\u001b[1;34m(self, ctx, args, cancellation_manager)\u001b[0m\n\u001b[0;32m    589\u001b[0m       \u001b[1;32mwith\u001b[0m \u001b[0m_InterpolateFunctionError\u001b[0m\u001b[1;33m(\u001b[0m\u001b[0mself\u001b[0m\u001b[1;33m)\u001b[0m\u001b[1;33m:\u001b[0m\u001b[1;33m\u001b[0m\u001b[1;33m\u001b[0m\u001b[0m\n\u001b[0;32m    590\u001b[0m         \u001b[1;32mif\u001b[0m \u001b[0mcancellation_manager\u001b[0m \u001b[1;32mis\u001b[0m \u001b[1;32mNone\u001b[0m\u001b[1;33m:\u001b[0m\u001b[1;33m\u001b[0m\u001b[1;33m\u001b[0m\u001b[0m\n\u001b[1;32m--> 591\u001b[1;33m           outputs = execute.execute(\n\u001b[0m\u001b[0;32m    592\u001b[0m               \u001b[0mstr\u001b[0m\u001b[1;33m(\u001b[0m\u001b[0mself\u001b[0m\u001b[1;33m.\u001b[0m\u001b[0msignature\u001b[0m\u001b[1;33m.\u001b[0m\u001b[0mname\u001b[0m\u001b[1;33m)\u001b[0m\u001b[1;33m,\u001b[0m\u001b[1;33m\u001b[0m\u001b[1;33m\u001b[0m\u001b[0m\n\u001b[0;32m    593\u001b[0m               \u001b[0mnum_outputs\u001b[0m\u001b[1;33m=\u001b[0m\u001b[0mself\u001b[0m\u001b[1;33m.\u001b[0m\u001b[0m_num_outputs\u001b[0m\u001b[1;33m,\u001b[0m\u001b[1;33m\u001b[0m\u001b[1;33m\u001b[0m\u001b[0m\n",
      "\u001b[1;32mC:\\Python39\\lib\\site-packages\\tensorflow\\python\\eager\\execute.py\u001b[0m in \u001b[0;36mquick_execute\u001b[1;34m(op_name, num_outputs, inputs, attrs, ctx, name)\u001b[0m\n\u001b[0;32m     57\u001b[0m   \u001b[1;32mtry\u001b[0m\u001b[1;33m:\u001b[0m\u001b[1;33m\u001b[0m\u001b[1;33m\u001b[0m\u001b[0m\n\u001b[0;32m     58\u001b[0m     \u001b[0mctx\u001b[0m\u001b[1;33m.\u001b[0m\u001b[0mensure_initialized\u001b[0m\u001b[1;33m(\u001b[0m\u001b[1;33m)\u001b[0m\u001b[1;33m\u001b[0m\u001b[1;33m\u001b[0m\u001b[0m\n\u001b[1;32m---> 59\u001b[1;33m     tensors = pywrap_tfe.TFE_Py_Execute(ctx._handle, device_name, op_name,\n\u001b[0m\u001b[0;32m     60\u001b[0m                                         inputs, attrs, num_outputs)\n\u001b[0;32m     61\u001b[0m   \u001b[1;32mexcept\u001b[0m \u001b[0mcore\u001b[0m\u001b[1;33m.\u001b[0m\u001b[0m_NotOkStatusException\u001b[0m \u001b[1;32mas\u001b[0m \u001b[0me\u001b[0m\u001b[1;33m:\u001b[0m\u001b[1;33m\u001b[0m\u001b[1;33m\u001b[0m\u001b[0m\n",
      "\u001b[1;31mKeyboardInterrupt\u001b[0m: "
     ]
    }
   ],
   "metadata": {}
  },
  {
   "cell_type": "code",
   "execution_count": 161,
   "source": [
    "model2.evaluate(X_test,y_test)"
   ],
   "outputs": [
    {
     "output_type": "stream",
     "name": "stdout",
     "text": [
      "149/149 [==============================] - 12s 81ms/step - loss: 6.3049 - accuracy: 0.0000e+00\n"
     ]
    },
    {
     "output_type": "execute_result",
     "data": {
      "text/plain": [
       "[6.304924011230469, 0.0]"
      ]
     },
     "metadata": {},
     "execution_count": 161
    }
   ],
   "metadata": {}
  },
  {
   "cell_type": "code",
   "execution_count": 162,
   "source": [
    "# save model\r\n",
    "model2.save('AgeModel/age_val_56.h5')"
   ],
   "outputs": [],
   "metadata": {}
  },
  {
   "cell_type": "code",
   "execution_count": 55,
   "source": [
    "# Load model\r\n",
    "from keras.preprocessing.image import img_to_array\r\n",
    "import matplotlib.pyplot as plt\r\n",
    "from tensorflow import keras\r\n",
    "import numpy as np\r\n",
    "import cv2\r\n",
    "model2 = keras.models.load_model('AgeModel/untitled_age_61.h5')"
   ],
   "outputs": [],
   "metadata": {}
  },
  {
   "cell_type": "code",
   "execution_count": 100,
   "source": [
    "ii = 8 # (  8 haleki 60 > aauxa)\r\n",
    "\r\n",
    "plt.imshow(X_test[ii])\r\n",
    "plt.xlabel(\"age group:\"+str(y_test.to_list()[ii]))\r\n",
    "plt.show()\r\n",
    "# gender predict\r\n",
    "image_pixels = img_to_array(X_test[ii])\r\n",
    "image_pixels = np.expand_dims(image_pixels,axis=0)\r\n",
    "aged = model1.predict(image_pixels)\r\n",
    "print(aged)\r\n",
    "aged = np.argmax(aged)\r\n",
    "print(aged,'-index')\r\n",
    "age_group = ['0-12','12-24','24-36','36-48','48-60','>60']\r\n",
    "# age_group = ['0-5','5-10','10-15','15-20','20-25','25-30','30-35','35-40','40-45','>60']\r\n",
    "print('age group: ',age_group[aged])\r\n",
    "\r\n"
   ],
   "outputs": [
    {
     "output_type": "display_data",
     "data": {
      "image/png": "[encoded data removed]",
      "text/plain": [
       "<Figure size 432x288 with 1 Axes>"
      ]
     },
     "metadata": {
      "needs_background": "light"
     }
    },
    {
     "output_type": "stream",
     "name": "stdout",
     "text": [
      "[[0.02365735 0.1165812  0.59555626 0.8059646  0.8869066  0.90404904]]\n",
      "5 -index\n",
      "age group:  >60\n"
     ]
    }
   ],
   "metadata": {}
  },
  {
   "cell_type": "code",
   "execution_count": null,
   "source": [
    "sample_image = cv2.imread('sample_male.png')\r\n",
    "sample_image = cv2.cvtColor(sample_image,cv2.COLOR_BGR2GRAY)\r\n",
    "faces = cv2.CascadeClassifier('haarcascade_frontalface_default.xml').detectMultiScale(sample_image,1.2,4)\r\n",
    "\r\n",
    "for (x,y,w,h) in faces:\r\n",
    "    cv2.rectangle(sample_image,(x,y),(x+w,y+h),(0,0,255),2)\r\n",
    "    roi_gray = sample_image[y:y+w,x:x+h]\r\n",
    "    roi_gray = cv2.resize(roi_gray,(48,48))\r\n",
    "    image_pixels = img_to_array(roi_gray)\r\n",
    "    image_pixels = np.expand_dims(image_pixels,axis=0)\r\n",
    "    image_pixels /=255\r\n",
    "   \r\n",
    "    predictions = model1.predict(image_pixels)\r\n",
    "    print(predictions)\r\n",
    "    predictions = np.argmax([predictions])\r\n",
    "    print(predictions,'-index')\r\n",
    "    # age_group = ['0-10','10-20','20-30','30-40','40-50','50-60','60-70','70-80','80-90','90-100','>110']\r\n",
    "    # age_group = ['0-5','5-10','10-15','15-20','20-25','25-30','30-35','35-40','40-45','>60']\r\n",
    "    age_group = ['0-12','12-24','24-36','36-48','48-60','>60']\r\n",
    "    print('age group: ',age_group[predictions])\r\n",
    "    plt.imshow(roi_gray)"
   ],
   "outputs": [
    {
     "output_type": "stream",
     "name": "stdout",
     "text": [
      "[[8.4583914e-01 6.9585443e-04 1.1770815e-02 2.8419256e-02 1.4650822e-04\n",
      "  3.9133430e-04 9.0840459e-03 2.3257136e-03 4.0155649e-04 1.2826025e-03]]\n",
      "0 -index\n",
      "age group:  0-10\n"
     ]
    },
    {
     "output_type": "display_data",
     "data": {
      "image/png": "[encoded data removed]",
      "text/plain": [
       "<Figure size 432x288 with 1 Axes>"
      ]
     },
     "metadata": {
      "needs_background": "light"
     }
    }
   ],
   "metadata": {}
  },
  {
   "cell_type": "code",
   "execution_count": null,
   "source": [],
   "outputs": [],
   "metadata": {}
  }
 ],
 "metadata": {
  "kernelspec": {
   "name": "python3",
   "display_name": "Python 3.9.7 64-bit"
  },
  "language_info": {
   "codemirror_mode": {
    "name": "ipython",
    "version": 3
   },
   "file_extension": ".py",
   "mimetype": "text/x-python",
   "name": "python",
   "nbconvert_exporter": "python",
   "pygments_lexer": "ipython3",
   "version": "3.9.7"
  },
  "interpreter": {
   "hash": "63fd5069d213b44bf678585dea6b12cceca9941eaf7f819626cde1f2670de90d"
  }
 },
 "nbformat": 4,
 "nbformat_minor": 5
}