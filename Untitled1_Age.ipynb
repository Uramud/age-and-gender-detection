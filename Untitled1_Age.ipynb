{
 "cells": [
  {
   "cell_type": "code",
   "execution_count": 47,
   "source": [
    "import numpy as np\r\n",
    "import pandas as pd\r\n",
    "from keras import Sequential\r\n",
    "from keras.layers import Dense,Conv2D,Flatten,Dropout,MaxPooling2D,Activation,BatchNormalization\r\n",
    "from keras.preprocessing.image import img_to_array\r\n",
    "from sklearn.model_selection import train_test_split\r\n",
    "from keras.utils.np_utils import to_categorical\r\n",
    "import matplotlib.pyplot as plt\r\n",
    "import cv2"
   ],
   "outputs": [],
   "metadata": {}
  },
  {
   "cell_type": "code",
   "execution_count": 48,
   "source": [
    "data=pd.read_csv(\"dataset/age_gender.csv\")\r\n",
    "data.head()"
   ],
   "outputs": [
    {
     "output_type": "execute_result",
     "data": {
      "text/plain": [
       "   age  gender                        img_name  \\\n",
       "0    1       0  20161219203650636.jpg.chip.jpg   \n",
       "1    1       0  20161219222752047.jpg.chip.jpg   \n",
       "2    1       0  20161219222832191.jpg.chip.jpg   \n",
       "3    1       0  20161220144911423.jpg.chip.jpg   \n",
       "4    1       0  20161220144914327.jpg.chip.jpg   \n",
       "\n",
       "                                              pixels  \n",
       "0  129 128 128 126 127 130 133 135 139 142 145 14...  \n",
       "1  164 74 111 168 169 171 175 182 184 188 193 199...  \n",
       "2  67 70 71 70 69 67 70 79 90 103 116 132 145 155...  \n",
       "3  193 197 198 200 199 200 202 203 204 205 208 21...  \n",
       "4  202 205 209 210 209 209 210 211 212 214 218 21...  "
      ],
      "text/html": [
       "<div>\n",
       "<style scoped>\n",
       "    .dataframe tbody tr th:only-of-type {\n",
       "        vertical-align: middle;\n",
       "    }\n",
       "\n",
       "    .dataframe tbody tr th {\n",
       "        vertical-align: top;\n",
       "    }\n",
       "\n",
       "    .dataframe thead th {\n",
       "        text-align: right;\n",
       "    }\n",
       "</style>\n",
       "<table border=\"1\" class=\"dataframe\">\n",
       "  <thead>\n",
       "    <tr style=\"text-align: right;\">\n",
       "      <th></th>\n",
       "      <th>age</th>\n",
       "      <th>gender</th>\n",
       "      <th>img_name</th>\n",
       "      <th>pixels</th>\n",
       "    </tr>\n",
       "  </thead>\n",
       "  <tbody>\n",
       "    <tr>\n",
       "      <th>0</th>\n",
       "      <td>1</td>\n",
       "      <td>0</td>\n",
       "      <td>20161219203650636.jpg.chip.jpg</td>\n",
       "      <td>129 128 128 126 127 130 133 135 139 142 145 14...</td>\n",
       "    </tr>\n",
       "    <tr>\n",
       "      <th>1</th>\n",
       "      <td>1</td>\n",
       "      <td>0</td>\n",
       "      <td>20161219222752047.jpg.chip.jpg</td>\n",
       "      <td>164 74 111 168 169 171 175 182 184 188 193 199...</td>\n",
       "    </tr>\n",
       "    <tr>\n",
       "      <th>2</th>\n",
       "      <td>1</td>\n",
       "      <td>0</td>\n",
       "      <td>20161219222832191.jpg.chip.jpg</td>\n",
       "      <td>67 70 71 70 69 67 70 79 90 103 116 132 145 155...</td>\n",
       "    </tr>\n",
       "    <tr>\n",
       "      <th>3</th>\n",
       "      <td>1</td>\n",
       "      <td>0</td>\n",
       "      <td>20161220144911423.jpg.chip.jpg</td>\n",
       "      <td>193 197 198 200 199 200 202 203 204 205 208 21...</td>\n",
       "    </tr>\n",
       "    <tr>\n",
       "      <th>4</th>\n",
       "      <td>1</td>\n",
       "      <td>0</td>\n",
       "      <td>20161220144914327.jpg.chip.jpg</td>\n",
       "      <td>202 205 209 210 209 209 210 211 212 214 218 21...</td>\n",
       "    </tr>\n",
       "  </tbody>\n",
       "</table>\n",
       "</div>"
      ]
     },
     "metadata": {},
     "execution_count": 48
    }
   ],
   "metadata": {}
  },
  {
   "cell_type": "code",
   "execution_count": 49,
   "source": [
    "#convert pixels into numpy array\r\n",
    "data['pixels']=data['pixels'].apply(lambda x:  np.array(x.split(), dtype=\"float32\"))\r\n",
    "data.head()"
   ],
   "outputs": [
    {
     "output_type": "execute_result",
     "data": {
      "text/plain": [
       "   age  gender                        img_name  \\\n",
       "0    1       0  20161219203650636.jpg.chip.jpg   \n",
       "1    1       0  20161219222752047.jpg.chip.jpg   \n",
       "2    1       0  20161219222832191.jpg.chip.jpg   \n",
       "3    1       0  20161220144911423.jpg.chip.jpg   \n",
       "4    1       0  20161220144914327.jpg.chip.jpg   \n",
       "\n",
       "                                              pixels  \n",
       "0  [129.0, 128.0, 128.0, 126.0, 127.0, 130.0, 133...  \n",
       "1  [164.0, 74.0, 111.0, 168.0, 169.0, 171.0, 175....  \n",
       "2  [67.0, 70.0, 71.0, 70.0, 69.0, 67.0, 70.0, 79....  \n",
       "3  [193.0, 197.0, 198.0, 200.0, 199.0, 200.0, 202...  \n",
       "4  [202.0, 205.0, 209.0, 210.0, 209.0, 209.0, 210...  "
      ],
      "text/html": [
       "<div>\n",
       "<style scoped>\n",
       "    .dataframe tbody tr th:only-of-type {\n",
       "        vertical-align: middle;\n",
       "    }\n",
       "\n",
       "    .dataframe tbody tr th {\n",
       "        vertical-align: top;\n",
       "    }\n",
       "\n",
       "    .dataframe thead th {\n",
       "        text-align: right;\n",
       "    }\n",
       "</style>\n",
       "<table border=\"1\" class=\"dataframe\">\n",
       "  <thead>\n",
       "    <tr style=\"text-align: right;\">\n",
       "      <th></th>\n",
       "      <th>age</th>\n",
       "      <th>gender</th>\n",
       "      <th>img_name</th>\n",
       "      <th>pixels</th>\n",
       "    </tr>\n",
       "  </thead>\n",
       "  <tbody>\n",
       "    <tr>\n",
       "      <th>0</th>\n",
       "      <td>1</td>\n",
       "      <td>0</td>\n",
       "      <td>20161219203650636.jpg.chip.jpg</td>\n",
       "      <td>[129.0, 128.0, 128.0, 126.0, 127.0, 130.0, 133...</td>\n",
       "    </tr>\n",
       "    <tr>\n",
       "      <th>1</th>\n",
       "      <td>1</td>\n",
       "      <td>0</td>\n",
       "      <td>20161219222752047.jpg.chip.jpg</td>\n",
       "      <td>[164.0, 74.0, 111.0, 168.0, 169.0, 171.0, 175....</td>\n",
       "    </tr>\n",
       "    <tr>\n",
       "      <th>2</th>\n",
       "      <td>1</td>\n",
       "      <td>0</td>\n",
       "      <td>20161219222832191.jpg.chip.jpg</td>\n",
       "      <td>[67.0, 70.0, 71.0, 70.0, 69.0, 67.0, 70.0, 79....</td>\n",
       "    </tr>\n",
       "    <tr>\n",
       "      <th>3</th>\n",
       "      <td>1</td>\n",
       "      <td>0</td>\n",
       "      <td>20161220144911423.jpg.chip.jpg</td>\n",
       "      <td>[193.0, 197.0, 198.0, 200.0, 199.0, 200.0, 202...</td>\n",
       "    </tr>\n",
       "    <tr>\n",
       "      <th>4</th>\n",
       "      <td>1</td>\n",
       "      <td>0</td>\n",
       "      <td>20161220144914327.jpg.chip.jpg</td>\n",
       "      <td>[202.0, 205.0, 209.0, 210.0, 209.0, 209.0, 210...</td>\n",
       "    </tr>\n",
       "  </tbody>\n",
       "</table>\n",
       "</div>"
      ]
     },
     "metadata": {},
     "execution_count": 49
    }
   ],
   "metadata": {}
  },
  {
   "cell_type": "code",
   "execution_count": 50,
   "source": [
    "print('Total rows: {}'.format(len(data)))\r\n",
    "print('Total columns: {}'.format(len(data.columns)))"
   ],
   "outputs": [
    {
     "output_type": "stream",
     "name": "stdout",
     "text": [
      "Total rows: 23705\n",
      "Total columns: 4\n"
     ]
    }
   ],
   "metadata": {}
  },
  {
   "cell_type": "code",
   "execution_count": 51,
   "source": [
    "# ## normalizing pixels data\r\n",
    "data['pixels'] = data['pixels'].apply(lambda x: x/255)\r\n",
    "data.head()"
   ],
   "outputs": [
    {
     "output_type": "execute_result",
     "data": {
      "text/plain": [
       "   age  gender                        img_name  \\\n",
       "0    1       0  20161219203650636.jpg.chip.jpg   \n",
       "1    1       0  20161219222752047.jpg.chip.jpg   \n",
       "2    1       0  20161219222832191.jpg.chip.jpg   \n",
       "3    1       0  20161220144911423.jpg.chip.jpg   \n",
       "4    1       0  20161220144914327.jpg.chip.jpg   \n",
       "\n",
       "                                              pixels  \n",
       "0  [0.5058824, 0.5019608, 0.5019608, 0.49411765, ...  \n",
       "1  [0.6431373, 0.2901961, 0.43529412, 0.65882355,...  \n",
       "2  [0.2627451, 0.27450982, 0.2784314, 0.27450982,...  \n",
       "3  [0.75686276, 0.77254903, 0.7764706, 0.78431374...  \n",
       "4  [0.7921569, 0.8039216, 0.81960785, 0.8235294, ...  "
      ],
      "text/html": [
       "<div>\n",
       "<style scoped>\n",
       "    .dataframe tbody tr th:only-of-type {\n",
       "        vertical-align: middle;\n",
       "    }\n",
       "\n",
       "    .dataframe tbody tr th {\n",
       "        vertical-align: top;\n",
       "    }\n",
       "\n",
       "    .dataframe thead th {\n",
       "        text-align: right;\n",
       "    }\n",
       "</style>\n",
       "<table border=\"1\" class=\"dataframe\">\n",
       "  <thead>\n",
       "    <tr style=\"text-align: right;\">\n",
       "      <th></th>\n",
       "      <th>age</th>\n",
       "      <th>gender</th>\n",
       "      <th>img_name</th>\n",
       "      <th>pixels</th>\n",
       "    </tr>\n",
       "  </thead>\n",
       "  <tbody>\n",
       "    <tr>\n",
       "      <th>0</th>\n",
       "      <td>1</td>\n",
       "      <td>0</td>\n",
       "      <td>20161219203650636.jpg.chip.jpg</td>\n",
       "      <td>[0.5058824, 0.5019608, 0.5019608, 0.49411765, ...</td>\n",
       "    </tr>\n",
       "    <tr>\n",
       "      <th>1</th>\n",
       "      <td>1</td>\n",
       "      <td>0</td>\n",
       "      <td>20161219222752047.jpg.chip.jpg</td>\n",
       "      <td>[0.6431373, 0.2901961, 0.43529412, 0.65882355,...</td>\n",
       "    </tr>\n",
       "    <tr>\n",
       "      <th>2</th>\n",
       "      <td>1</td>\n",
       "      <td>0</td>\n",
       "      <td>20161219222832191.jpg.chip.jpg</td>\n",
       "      <td>[0.2627451, 0.27450982, 0.2784314, 0.27450982,...</td>\n",
       "    </tr>\n",
       "    <tr>\n",
       "      <th>3</th>\n",
       "      <td>1</td>\n",
       "      <td>0</td>\n",
       "      <td>20161220144911423.jpg.chip.jpg</td>\n",
       "      <td>[0.75686276, 0.77254903, 0.7764706, 0.78431374...</td>\n",
       "    </tr>\n",
       "    <tr>\n",
       "      <th>4</th>\n",
       "      <td>1</td>\n",
       "      <td>0</td>\n",
       "      <td>20161220144914327.jpg.chip.jpg</td>\n",
       "      <td>[0.7921569, 0.8039216, 0.81960785, 0.8235294, ...</td>\n",
       "    </tr>\n",
       "  </tbody>\n",
       "</table>\n",
       "</div>"
      ]
     },
     "metadata": {},
     "execution_count": 51
    }
   ],
   "metadata": {}
  },
  {
   "cell_type": "code",
   "execution_count": 52,
   "source": [
    "def age_grouper(x):\r\n",
    "    if x>=0 and x < 10:\r\n",
    "        return 0\r\n",
    "    elif x>=10 and x < 20:\r\n",
    "        return 1\r\n",
    "    elif x>=20 and x < 30:\r\n",
    "        return 2\r\n",
    "    elif x>=30 and x < 40:\r\n",
    "        return 3\r\n",
    "    elif x>=40 and x < 50:\r\n",
    "        return 4\r\n",
    "    elif x>=50 and x < 60:\r\n",
    "        return 5\r\n",
    "    elif x>=60 and x < 70:\r\n",
    "        return 6\r\n",
    "    elif x>=70 and x < 80:\r\n",
    "        return 7\r\n",
    "    elif x>=80 and x < 90:\r\n",
    "        return 8\r\n",
    "    else:\r\n",
    "        return 9\r\n"
   ],
   "outputs": [],
   "metadata": {}
  },
  {
   "cell_type": "code",
   "execution_count": 53,
   "source": [
    "# convert age to group, (age can be any number)\r\n",
    "data['age_group'] = data['age'].apply(age_grouper)\r\n",
    "data.tail()"
   ],
   "outputs": [
    {
     "output_type": "execute_result",
     "data": {
      "text/plain": [
       "       age  gender                        img_name  \\\n",
       "23700   99       1  20170120221920654.jpg.chip.jpg   \n",
       "23701   99       1  20170120134639935.jpg.chip.jpg   \n",
       "23702   99       1  20170110182418864.jpg.chip.jpg   \n",
       "23703   99       1  20170117195405372.jpg.chip.jpg   \n",
       "23704   99       1  20170110182052119.jpg.chip.jpg   \n",
       "\n",
       "                                                  pixels  age_group  \n",
       "23700  [0.49803922, 0.39215687, 0.36862746, 0.3176470...          9  \n",
       "23701  [0.09019608, 0.10980392, 0.1254902, 0.13725491...          9  \n",
       "23702  [0.23137255, 0.19607843, 0.14509805, 0.1568627...          9  \n",
       "23703  [0.1764706, 0.42352942, 0.47058824, 0.6117647,...          9  \n",
       "23704  [0.6117647, 0.6313726, 0.627451, 0.64705884, 0...          9  "
      ],
      "text/html": [
       "<div>\n",
       "<style scoped>\n",
       "    .dataframe tbody tr th:only-of-type {\n",
       "        vertical-align: middle;\n",
       "    }\n",
       "\n",
       "    .dataframe tbody tr th {\n",
       "        vertical-align: top;\n",
       "    }\n",
       "\n",
       "    .dataframe thead th {\n",
       "        text-align: right;\n",
       "    }\n",
       "</style>\n",
       "<table border=\"1\" class=\"dataframe\">\n",
       "  <thead>\n",
       "    <tr style=\"text-align: right;\">\n",
       "      <th></th>\n",
       "      <th>age</th>\n",
       "      <th>gender</th>\n",
       "      <th>img_name</th>\n",
       "      <th>pixels</th>\n",
       "      <th>age_group</th>\n",
       "    </tr>\n",
       "  </thead>\n",
       "  <tbody>\n",
       "    <tr>\n",
       "      <th>23700</th>\n",
       "      <td>99</td>\n",
       "      <td>1</td>\n",
       "      <td>20170120221920654.jpg.chip.jpg</td>\n",
       "      <td>[0.49803922, 0.39215687, 0.36862746, 0.3176470...</td>\n",
       "      <td>9</td>\n",
       "    </tr>\n",
       "    <tr>\n",
       "      <th>23701</th>\n",
       "      <td>99</td>\n",
       "      <td>1</td>\n",
       "      <td>20170120134639935.jpg.chip.jpg</td>\n",
       "      <td>[0.09019608, 0.10980392, 0.1254902, 0.13725491...</td>\n",
       "      <td>9</td>\n",
       "    </tr>\n",
       "    <tr>\n",
       "      <th>23702</th>\n",
       "      <td>99</td>\n",
       "      <td>1</td>\n",
       "      <td>20170110182418864.jpg.chip.jpg</td>\n",
       "      <td>[0.23137255, 0.19607843, 0.14509805, 0.1568627...</td>\n",
       "      <td>9</td>\n",
       "    </tr>\n",
       "    <tr>\n",
       "      <th>23703</th>\n",
       "      <td>99</td>\n",
       "      <td>1</td>\n",
       "      <td>20170117195405372.jpg.chip.jpg</td>\n",
       "      <td>[0.1764706, 0.42352942, 0.47058824, 0.6117647,...</td>\n",
       "      <td>9</td>\n",
       "    </tr>\n",
       "    <tr>\n",
       "      <th>23704</th>\n",
       "      <td>99</td>\n",
       "      <td>1</td>\n",
       "      <td>20170110182052119.jpg.chip.jpg</td>\n",
       "      <td>[0.6117647, 0.6313726, 0.627451, 0.64705884, 0...</td>\n",
       "      <td>9</td>\n",
       "    </tr>\n",
       "  </tbody>\n",
       "</table>\n",
       "</div>"
      ]
     },
     "metadata": {},
     "execution_count": 53
    }
   ],
   "metadata": {}
  },
  {
   "cell_type": "code",
   "execution_count": 54,
   "source": [
    "data.age_group.unique()"
   ],
   "outputs": [
    {
     "output_type": "execute_result",
     "data": {
      "text/plain": [
       "array([0, 1, 9, 2, 3, 4, 5, 6, 7, 8], dtype=int64)"
      ]
     },
     "metadata": {},
     "execution_count": 54
    }
   ],
   "metadata": {}
  },
  {
   "cell_type": "code",
   "execution_count": 55,
   "source": [
    "X = np.array(data['pixels'].tolist())\r\n",
    "\r\n",
    "## Converting pixels from 1D to 2D\r\n",
    "X = X.reshape(X.shape[0],48,48,1)\r\n",
    "\r\n",
    "# show image\r\n",
    "plt.figure(figsize=(16,16))\r\n",
    "for i in range(1500,1505):\r\n",
    "    plt.subplot(5,5,(i%25)+1)\r\n",
    "    plt.grid(False)\r\n",
    "    plt.imshow(data['pixels'].iloc[i].reshape(48,48))\r\n",
    "    plt.xlabel(\r\n",
    "        \"Age:\"+str(data['age'].iloc[i])+\r\n",
    "        \"  Gender:\"+ str(data['gender'].iloc[i])\r\n",
    "    )\r\n",
    "plt.show()"
   ],
   "outputs": [
    {
     "output_type": "display_data",
     "data": {
      "text/plain": [
       "<Figure size 1152x1152 with 5 Axes>"
      ],
      "image/png": "[encoded data removed]"
     },
     "metadata": {
      "needs_background": "light"
     }
    }
   ],
   "metadata": {}
  },
  {
   "cell_type": "markdown",
   "source": [
    "# Model for Age Prediction"
   ],
   "metadata": {}
  },
  {
   "cell_type": "code",
   "execution_count": 56,
   "source": [
    "#Split data into train/test\r\n",
    "y = data['age_group']\r\n",
    "\r\n",
    "X_train, X_test, y_train, y_test = train_test_split ( X, y, test_size=0.20, random_state=37)\r\n",
    "# convert to category/classes of 10 ages\r\n",
    "\r\n",
    "# try with and without these lines.\r\n",
    "y_train = to_categorical(y_train,num_classes=10)\r\n",
    "y_test = to_categorical(y_test,num_classes=10)\r\n"
   ],
   "outputs": [],
   "metadata": {}
  },
  {
   "cell_type": "code",
   "execution_count": 57,
   "source": [
    "# model1 = Sequential()\r\n",
    "# model1.add(Conv2D(64,(3,3),input_shape=(X.shape[1:]))) # 64 neurons with 3*3 filter\r\n",
    "# # create convolutional neural network to extract feature from the images\r\n",
    "\r\n",
    "# model1.add(Activation('relu'))\r\n",
    "# model1.add(MaxPooling2D(pool_size=(2,2))) # to reduce size of image\r\n",
    "# model1.add(Dropout(0.2)) # if our model learns a lot we need to remove some nodes.\r\n",
    "\r\n",
    "# model1.add(Flatten()) # flat 2nd last layer to vertical\r\n",
    "# model1.add(Dense(64)) # 64 neurons with 3*3 filter\r\n",
    "# # no. of output modes in hiden layers\r\n",
    "\r\n",
    "# model1.add(Activation('relu'))\r\n",
    "# model1.add(Dense(10)) # output layer (10 neuron at last)\r\n",
    "\r\n",
    "# model1.add(Activation('softmax')) # put output single node as sigmoid value(0 or 1)\r\n",
    "\r\n",
    "\r\n",
    "# # model1.summary()\r\n",
    "# model1.compile(optimizer='sgd',loss='binary_crossentropy',metrics=['accuracy'])"
   ],
   "outputs": [],
   "metadata": {}
  },
  {
   "cell_type": "code",
   "execution_count": 72,
   "source": [
    "model1 = Sequential()\r\n",
    "\r\n",
    "model1.add(Conv2D(32,kernel_size=(3,3),activation='relu',input_shape=(X.shape[1:])))\r\n",
    "model1.add(BatchNormalization())\r\n",
    "model1.add(MaxPooling2D(pool_size=(2,2),strides=(2,2)))\r\n",
    "# model1.add(Dropout(0.4))\r\n",
    "\r\n",
    "model1.add(Conv2D(64,kernel_size=(3,3),activation='relu'))\r\n",
    "model1.add(MaxPooling2D(pool_size=(2,2),strides=(2,2)))\r\n",
    "# before fully connected neural network , we must flaten the image/data.\r\n",
    "\r\n",
    "model1.add(Conv2D(32,kernel_size=(3,3),activation='relu'))\r\n",
    "model1.add(MaxPooling2D(pool_size=(2,2),strides=(2,2)))\r\n",
    "\r\n",
    "model1.add(Flatten())\r\n",
    "\r\n",
    "# fully connected neural networks\r\n",
    "# 1024 -> neurons\r\n",
    "model1.add(Dense(64,activation='relu'))\r\n",
    "model1.add(Dropout(0.5))\r\n",
    "\r\n",
    "model1.add(Dense(10,activation='sigmoid'))\r\n",
    "\r\n",
    "model1.compile(optimizer='adam',loss='mean_squared_error',metrics=['acc'])"
   ],
   "outputs": [],
   "metadata": {}
  },
  {
   "cell_type": "code",
   "execution_count": 73,
   "source": [
    "history = model1.fit(X_train, y_train, epochs=4,validation_data=(X_test,y_test), batch_size=1024)"
   ],
   "outputs": [
    {
     "output_type": "stream",
     "name": "stdout",
     "text": [
      "Epoch 1/4\n",
      "19/19 [==============================] - 77s 4s/step - loss: 0.1357 - acc: 0.1605 - val_loss: 0.1026 - val_acc: 0.3179\n",
      "Epoch 2/4\n",
      "19/19 [==============================] - 75s 4s/step - loss: 0.0994 - acc: 0.2460 - val_loss: 0.1376 - val_acc: 0.3179\n",
      "Epoch 3/4\n",
      "19/19 [==============================] - 76s 4s/step - loss: 0.0925 - acc: 0.2813 - val_loss: 0.1844 - val_acc: 0.3179\n",
      "Epoch 4/4\n",
      "19/19 [==============================] - 77s 4s/step - loss: 0.0891 - acc: 0.2971 - val_loss: 0.1854 - val_acc: 0.3217\n"
     ]
    }
   ],
   "metadata": {}
  },
  {
   "cell_type": "code",
   "execution_count": 74,
   "source": [
    "model1.evaluate(X_test,y_test)"
   ],
   "outputs": [
    {
     "output_type": "stream",
     "name": "stdout",
     "text": [
      "149/149 [==============================] - 5s 36ms/step - loss: 0.1854 - acc: 0.3217\n"
     ]
    },
    {
     "output_type": "execute_result",
     "data": {
      "text/plain": [
       "[0.1853839010000229, 0.3216620981693268]"
      ]
     },
     "metadata": {},
     "execution_count": 74
    }
   ],
   "metadata": {}
  },
  {
   "cell_type": "code",
   "execution_count": 75,
   "source": [
    "# save model\r\n",
    "model1.save('untitled_age_32.h5')"
   ],
   "outputs": [],
   "metadata": {}
  },
  {
   "cell_type": "code",
   "execution_count": 62,
   "source": [
    "# Load model\r\n",
    "from keras.preprocessing.image import img_to_array\r\n",
    "import matplotlib.pyplot as plt\r\n",
    "from tensorflow import keras\r\n",
    "import numpy as np\r\n",
    "import cv2\r\n",
    "model1 = keras.models.load_model('untitled_age_25.h5')"
   ],
   "outputs": [],
   "metadata": {}
  },
  {
   "cell_type": "code",
   "execution_count": 89,
   "source": [
    "ii = 10\r\n",
    "plt.imshow(X_test[ii])\r\n",
    "plt.xlabel(\"age group:\"+ str(y_test[ii]))\r\n",
    "plt.show()\r\n",
    "# gender predict\r\n",
    "image_pixels = img_to_array(X_test[ii])\r\n",
    "image_pixels = np.expand_dims(image_pixels,axis=0)\r\n",
    "aged = model1.predict(image_pixels)\r\n",
    "print(aged)\r\n",
    "aged = np.argmax(aged)\r\n",
    "print(aged,'-index')\r\n",
    "age_group = ['0-10','10-20','20-30','30-40','40-50','50-60','60-70','70-80','80-90','90-100','>110']\r\n",
    "print('age group: ',age_group[aged])\r\n"
   ],
   "outputs": [
    {
     "output_type": "display_data",
     "data": {
      "text/plain": [
       "<Figure size 432x288 with 1 Axes>"
      ],
      "image/png": "[encoded data removed]"
     },
     "metadata": {
      "needs_background": "light"
     }
    },
    {
     "output_type": "stream",
     "name": "stdout",
     "text": [
      "[[0.44445413 0.40431347 0.45363763 0.4167229  0.41099924 0.41685224\n",
      "  0.40750325 0.3952155  0.40828907 0.3971805 ]]\n",
      "2 -index\n",
      "age group:  20-30\n"
     ]
    }
   ],
   "metadata": {}
  },
  {
   "cell_type": "code",
   "execution_count": 64,
   "source": [
    "sample_image = cv2.imread('sample_male.png')\r\n",
    "sample_image = cv2.cvtColor(sample_image,cv2.COLOR_BGR2GRAY)\r\n",
    "faces = cv2.CascadeClassifier('haarcascade_frontalface_default.xml').detectMultiScale(sample_image,1.2,4)\r\n",
    "\r\n",
    "for (x,y,w,h) in faces:\r\n",
    "    cv2.rectangle(sample_image,(x,y),(x+w,y+h),(0,0,255),2)\r\n",
    "    roi_gray = sample_image[y:y+w,x:x+h]\r\n",
    "    roi_gray = cv2.resize(roi_gray,(48,48))\r\n",
    "    image_pixels = img_to_array(roi_gray)\r\n",
    "    image_pixels = np.expand_dims(image_pixels,axis=0)\r\n",
    "    image_pixels /=255\r\n",
    "   \r\n",
    "    predictions = model1.predict(image_pixels)\r\n",
    "    print(predictions)\r\n",
    "    predictions = np.argmax([predictions])\r\n",
    "    print(predictions,'-index')\r\n",
    "    age_group = ['0-10','10-20','20-30','30-40','40-50','50-60','60-70','70-80','80-90','90-100','>110']\r\n",
    "    print('age group: ',age_group[predictions])\r\n",
    "    plt.imshow(roi_gray)"
   ],
   "outputs": [
    {
     "output_type": "stream",
     "name": "stdout",
     "text": [
      "[[0.11195062 0.09950089 0.1267784  0.086027   0.12729277 0.13008806\n",
      "  0.06483771 0.06155593 0.10720929 0.08475934]]\n",
      "5 -index\n",
      "age group:  50-60\n"
     ]
    },
    {
     "output_type": "display_data",
     "data": {
      "text/plain": [
       "<Figure size 432x288 with 1 Axes>"
      ],
      "image/png": "[encoded data removed]"
     },
     "metadata": {
      "needs_background": "light"
     }
    }
   ],
   "metadata": {}
  },
  {
   "cell_type": "code",
   "execution_count": null,
   "source": [],
   "outputs": [],
   "metadata": {}
  }
 ],
 "metadata": {
  "kernelspec": {
   "name": "python3",
   "display_name": "Python 3.9.6 64-bit ('venv': venv)"
  },
  "language_info": {
   "codemirror_mode": {
    "name": "ipython",
    "version": 3
   },
   "file_extension": ".py",
   "mimetype": "text/x-python",
   "name": "python",
   "nbconvert_exporter": "python",
   "pygments_lexer": "ipython3",
   "version": "3.9.6"
  },
  "interpreter": {
   "hash": "e1b6b8c141291576cb7354c5af7c9c3c9c2938071f8d0836af926d88a93cb7fe"
  }
 },
 "nbformat": 4,
 "nbformat_minor": 5
}