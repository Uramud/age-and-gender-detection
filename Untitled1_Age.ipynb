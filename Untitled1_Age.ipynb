{
 "cells": [
  {
   "cell_type": "code",
   "execution_count": 1,
   "metadata": {},
   "outputs": [],
   "source": [
    "import numpy as np\n",
    "import pandas as pd\n",
    "from keras import Sequential\n",
    "from keras.layers import Dense,Conv2D,Flatten,Dropout,MaxPooling2D,Activation,BatchNormalization\n",
    "from keras.preprocessing.image import img_to_array\n",
    "from sklearn.model_selection import train_test_split\n",
    "from keras.utils.np_utils import to_categorical\n",
    "import matplotlib.pyplot as plt\n",
    "import cv2"
   ]
  },
  {
   "cell_type": "code",
   "execution_count": 2,
   "metadata": {},
   "outputs": [
    {
     "data": {
      "text/html": [
       "<div>\n",
       "<style scoped>\n",
       "    .dataframe tbody tr th:only-of-type {\n",
       "        vertical-align: middle;\n",
       "    }\n",
       "\n",
       "    .dataframe tbody tr th {\n",
       "        vertical-align: top;\n",
       "    }\n",
       "\n",
       "    .dataframe thead th {\n",
       "        text-align: right;\n",
       "    }\n",
       "</style>\n",
       "<table border=\"1\" class=\"dataframe\">\n",
       "  <thead>\n",
       "    <tr style=\"text-align: right;\">\n",
       "      <th></th>\n",
       "      <th>age</th>\n",
       "      <th>gender</th>\n",
       "      <th>pixels</th>\n",
       "    </tr>\n",
       "  </thead>\n",
       "  <tbody>\n",
       "    <tr>\n",
       "      <th>0</th>\n",
       "      <td>100</td>\n",
       "      <td>0</td>\n",
       "      <td>168 167 158 164 157 142 134 136 139 149 155 15...</td>\n",
       "    </tr>\n",
       "    <tr>\n",
       "      <th>1</th>\n",
       "      <td>100</td>\n",
       "      <td>0</td>\n",
       "      <td>133 135 136 135 134 135 134 130 121 112 109 10...</td>\n",
       "    </tr>\n",
       "    <tr>\n",
       "      <th>2</th>\n",
       "      <td>100</td>\n",
       "      <td>1</td>\n",
       "      <td>192 195 194 191 154 136 134 133 142 153 138 13...</td>\n",
       "    </tr>\n",
       "    <tr>\n",
       "      <th>3</th>\n",
       "      <td>100</td>\n",
       "      <td>1</td>\n",
       "      <td>109 109 109 109 109 109 109 109 109 109 109 10...</td>\n",
       "    </tr>\n",
       "    <tr>\n",
       "      <th>4</th>\n",
       "      <td>100</td>\n",
       "      <td>1</td>\n",
       "      <td>104 105 105 105 105 109 116 125 137 149 152 14...</td>\n",
       "    </tr>\n",
       "  </tbody>\n",
       "</table>\n",
       "</div>"
      ],
      "text/plain": [
       "   age  gender                                             pixels\n",
       "0  100       0  168 167 158 164 157 142 134 136 139 149 155 15...\n",
       "1  100       0  133 135 136 135 134 135 134 130 121 112 109 10...\n",
       "2  100       1  192 195 194 191 154 136 134 133 142 153 138 13...\n",
       "3  100       1  109 109 109 109 109 109 109 109 109 109 109 10...\n",
       "4  100       1  104 105 105 105 105 109 116 125 137 149 152 14..."
      ]
     },
     "execution_count": 2,
     "metadata": {},
     "output_type": "execute_result"
    }
   ],
   "source": [
    "data=pd.read_csv(\"dataset/dataset_dim_contrast.csv\")\n",
    "# data = pd.concat(map(pd.read_csv,['dataset/dataset2.csv','dataset/dataset3.csv']))\n",
    "data.head()"
   ]
  },
  {
   "cell_type": "code",
   "execution_count": 3,
   "metadata": {},
   "outputs": [
    {
     "data": {
      "text/html": [
       "<div>\n",
       "<style scoped>\n",
       "    .dataframe tbody tr th:only-of-type {\n",
       "        vertical-align: middle;\n",
       "    }\n",
       "\n",
       "    .dataframe tbody tr th {\n",
       "        vertical-align: top;\n",
       "    }\n",
       "\n",
       "    .dataframe thead th {\n",
       "        text-align: right;\n",
       "    }\n",
       "</style>\n",
       "<table border=\"1\" class=\"dataframe\">\n",
       "  <thead>\n",
       "    <tr style=\"text-align: right;\">\n",
       "      <th></th>\n",
       "      <th>age</th>\n",
       "      <th>gender</th>\n",
       "      <th>pixels</th>\n",
       "    </tr>\n",
       "  </thead>\n",
       "  <tbody>\n",
       "    <tr>\n",
       "      <th>0</th>\n",
       "      <td>100</td>\n",
       "      <td>0</td>\n",
       "      <td>[168.0, 167.0, 158.0, 164.0, 157.0, 142.0, 134...</td>\n",
       "    </tr>\n",
       "    <tr>\n",
       "      <th>1</th>\n",
       "      <td>100</td>\n",
       "      <td>0</td>\n",
       "      <td>[133.0, 135.0, 136.0, 135.0, 134.0, 135.0, 134...</td>\n",
       "    </tr>\n",
       "    <tr>\n",
       "      <th>2</th>\n",
       "      <td>100</td>\n",
       "      <td>1</td>\n",
       "      <td>[192.0, 195.0, 194.0, 191.0, 154.0, 136.0, 134...</td>\n",
       "    </tr>\n",
       "    <tr>\n",
       "      <th>3</th>\n",
       "      <td>100</td>\n",
       "      <td>1</td>\n",
       "      <td>[109.0, 109.0, 109.0, 109.0, 109.0, 109.0, 109...</td>\n",
       "    </tr>\n",
       "    <tr>\n",
       "      <th>4</th>\n",
       "      <td>100</td>\n",
       "      <td>1</td>\n",
       "      <td>[104.0, 105.0, 105.0, 105.0, 105.0, 109.0, 116...</td>\n",
       "    </tr>\n",
       "  </tbody>\n",
       "</table>\n",
       "</div>"
      ],
      "text/plain": [
       "   age  gender                                             pixels\n",
       "0  100       0  [168.0, 167.0, 158.0, 164.0, 157.0, 142.0, 134...\n",
       "1  100       0  [133.0, 135.0, 136.0, 135.0, 134.0, 135.0, 134...\n",
       "2  100       1  [192.0, 195.0, 194.0, 191.0, 154.0, 136.0, 134...\n",
       "3  100       1  [109.0, 109.0, 109.0, 109.0, 109.0, 109.0, 109...\n",
       "4  100       1  [104.0, 105.0, 105.0, 105.0, 105.0, 109.0, 116..."
      ]
     },
     "execution_count": 3,
     "metadata": {},
     "output_type": "execute_result"
    }
   ],
   "source": [
    "#convert pixels into numpy array\n",
    "data['pixels']=data['pixels'].apply(lambda x: np.array(x.split(), dtype=\"float32\"))\n",
    "data.head()"
   ]
  },
  {
   "cell_type": "code",
   "execution_count": 4,
   "metadata": {},
   "outputs": [
    {
     "name": "stdout",
     "output_type": "stream",
     "text": [
      "Total rows: 23103\n",
      "Total columns: 3\n"
     ]
    }
   ],
   "source": [
    "print('Total rows: {}'.format(len(data)))\n",
    "print('Total columns: {}'.format(len(data.columns)))"
   ]
  },
  {
   "cell_type": "code",
   "execution_count": 4,
   "metadata": {},
   "outputs": [
    {
     "data": {
      "text/html": [
       "<div>\n",
       "<style scoped>\n",
       "    .dataframe tbody tr th:only-of-type {\n",
       "        vertical-align: middle;\n",
       "    }\n",
       "\n",
       "    .dataframe tbody tr th {\n",
       "        vertical-align: top;\n",
       "    }\n",
       "\n",
       "    .dataframe thead th {\n",
       "        text-align: right;\n",
       "    }\n",
       "</style>\n",
       "<table border=\"1\" class=\"dataframe\">\n",
       "  <thead>\n",
       "    <tr style=\"text-align: right;\">\n",
       "      <th></th>\n",
       "      <th>age</th>\n",
       "      <th>gender</th>\n",
       "      <th>pixels</th>\n",
       "    </tr>\n",
       "  </thead>\n",
       "  <tbody>\n",
       "    <tr>\n",
       "      <th>0</th>\n",
       "      <td>100</td>\n",
       "      <td>0</td>\n",
       "      <td>[0.65882355, 0.654902, 0.61960787, 0.6431373, ...</td>\n",
       "    </tr>\n",
       "    <tr>\n",
       "      <th>1</th>\n",
       "      <td>100</td>\n",
       "      <td>0</td>\n",
       "      <td>[0.52156866, 0.5294118, 0.53333336, 0.5294118,...</td>\n",
       "    </tr>\n",
       "    <tr>\n",
       "      <th>2</th>\n",
       "      <td>100</td>\n",
       "      <td>1</td>\n",
       "      <td>[0.7529412, 0.7647059, 0.7607843, 0.7490196, 0...</td>\n",
       "    </tr>\n",
       "    <tr>\n",
       "      <th>3</th>\n",
       "      <td>100</td>\n",
       "      <td>1</td>\n",
       "      <td>[0.42745098, 0.42745098, 0.42745098, 0.4274509...</td>\n",
       "    </tr>\n",
       "    <tr>\n",
       "      <th>4</th>\n",
       "      <td>100</td>\n",
       "      <td>1</td>\n",
       "      <td>[0.40784314, 0.4117647, 0.4117647, 0.4117647, ...</td>\n",
       "    </tr>\n",
       "  </tbody>\n",
       "</table>\n",
       "</div>"
      ],
      "text/plain": [
       "   age  gender                                             pixels\n",
       "0  100       0  [0.65882355, 0.654902, 0.61960787, 0.6431373, ...\n",
       "1  100       0  [0.52156866, 0.5294118, 0.53333336, 0.5294118,...\n",
       "2  100       1  [0.7529412, 0.7647059, 0.7607843, 0.7490196, 0...\n",
       "3  100       1  [0.42745098, 0.42745098, 0.42745098, 0.4274509...\n",
       "4  100       1  [0.40784314, 0.4117647, 0.4117647, 0.4117647, ..."
      ]
     },
     "execution_count": 4,
     "metadata": {},
     "output_type": "execute_result"
    }
   ],
   "source": [
    "# normalizing pixels data\n",
    "data['pixels'] = data['pixels'].apply(lambda x: x/255)\n",
    "data.head()"
   ]
  },
  {
   "cell_type": "code",
   "execution_count": 5,
   "metadata": {},
   "outputs": [],
   "source": [
    "def age_grouper(x):\n",
    "    if x>=0 and x < 10:\n",
    "        return 0\n",
    "    elif x>=10 and x < 20:\n",
    "        return 1\n",
    "    elif x>=20 and x < 35:\n",
    "        return 2\n",
    "    elif x>=35 and x < 50:\n",
    "        return 3\n",
    "    elif x>=50 and x < 60:\n",
    "        return 4\n",
    "    else:\n",
    "        return 5\n"
   ]
  },
  {
   "cell_type": "code",
   "execution_count": 6,
   "metadata": {},
   "outputs": [],
   "source": [
    "# convert age to group, (age can be any number)\n",
    "data['age_group'] = data['age'].apply(age_grouper)\n",
    "# data.tail()"
   ]
  },
  {
   "cell_type": "code",
   "execution_count": 7,
   "metadata": {},
   "outputs": [
    {
     "data": {
      "text/plain": [
       "array([5, 1, 0, 2, 3, 4], dtype=int64)"
      ]
     },
     "execution_count": 7,
     "metadata": {},
     "output_type": "execute_result"
    }
   ],
   "source": [
    "data.age_group.unique()"
   ]
  },
  {
   "cell_type": "code",
   "execution_count": 7,
   "metadata": {},
   "outputs": [],
   "source": [
    "X = np.array(data['pixels'].tolist())\n",
    "\n",
    "## Converting pixels from 1D to 2D\n",
    "X = X.reshape(X.shape[0],128,128,1)\n",
    "\n",
    "# show image\n",
    "# plt.figure(figsize=(8,8))\n",
    "# for i in range(1500,1505):\n",
    "#     plt.subplot(5,5,(i%25)+1)\n",
    "#     plt.grid(False)\n",
    "#     plt.imshow(data['pixels'].iloc[i].reshape(128,128))\n",
    "#     plt.xlabel(\n",
    "#         \"Age:\"+str(data['age'].iloc[i])+\n",
    "#         \"  Gender:\"+ str(data['gender'].iloc[i])\n",
    "#     )\n",
    "# plt.show()"
   ]
  },
  {
   "cell_type": "markdown",
   "metadata": {},
   "source": [
    "# Model for Age Prediction"
   ]
  },
  {
   "cell_type": "code",
   "execution_count": 8,
   "metadata": {},
   "outputs": [
    {
     "data": {
      "text/plain": [
       "(18482,)"
      ]
     },
     "execution_count": 8,
     "metadata": {},
     "output_type": "execute_result"
    }
   ],
   "source": [
    "#Split data into train/test\n",
    "y = data['age_group']\n",
    "\n",
    "X_train, X_test, y_train, y_test = train_test_split ( X, y, test_size=0.20, stratify=y)\n",
    "# convert to category/classes of 10 ages\n",
    "# y_train.shape\n",
    "# X_train.shape\n",
    "# try with and without these lines.\n",
    "# y_train = to_categorical(y_train,num_classes=10)\n",
    "# y_test = to_categorical(y_test,num_classes=10)\n",
    "y_train.shape\n"
   ]
  },
  {
   "cell_type": "markdown",
   "metadata": {},
   "source": [
    "# note"
   ]
  },
  {
   "cell_type": "code",
   "execution_count": 16,
   "metadata": {},
   "outputs": [
    {
     "name": "stdout",
     "output_type": "stream",
     "text": [
      "23103\n",
      "(23103, 128, 128, 1)\n",
      "(128, 128, 1)\n",
      "(128, 1)\n",
      "(1,)\n"
     ]
    }
   ],
   "source": [
    "print(X.shape[0])\n",
    "print(X.shape[0:])\n",
    "print(X.shape[1:])\n",
    "print(X.shape[2:])\n",
    "print(X.shape[3:])"
   ]
  },
  {
   "cell_type": "code",
   "execution_count": 13,
   "metadata": {},
   "outputs": [],
   "source": [
    "# X_train.shape[0:]\n",
    "# y_test.shape"
   ]
  },
  {
   "cell_type": "code",
   "execution_count": 10,
   "metadata": {},
   "outputs": [],
   "source": [
    "model = Sequential()\n",
    "\n",
    "model.add(Conv2D(input_shape=(X.shape[1:]),filters=16,kernel_size=(3,3),padding=\"same\", activation=\"relu\"))\n",
    "model.add(MaxPooling2D(pool_size=(2,2),strides=(2,2)))\n",
    "\n",
    "model.add(Conv2D(filters=32, kernel_size=(3,3), padding=\"same\", activation=\"relu\"))\n",
    "model.add(MaxPooling2D(pool_size=(2,2),strides=(2,2)))\n",
    "\n",
    "model.add(Conv2D(filters=64, kernel_size=(3,3), padding=\"same\", activation=\"relu\"))\n",
    "model.add(MaxPooling2D(pool_size=(2,2),strides=(2,2)))\n",
    "\n",
    "model.add(Flatten())\n",
    "model.add(Dense(units=128,activation=\"relu\"))\n",
    "model.add(Dense(units=64,activation=\"relu\"))\n",
    "model.add(Dense(units=6, activation=\"sigmoid\"))"
   ]
  },
  {
   "cell_type": "code",
   "execution_count": 9,
   "id": "219070cc",
   "metadata": {},
   "outputs": [],
   "source": [
    "import keras\n"
   ]
  },
  {
   "cell_type": "code",
   "execution_count": 10,
   "id": "dfb50e7c",
   "metadata": {},
   "outputs": [],
   "source": [
    "model = keras.models.load_model('AgeModel/age128-model-test-3.h5')"
   ]
  },
  {
   "cell_type": "code",
   "execution_count": 11,
   "id": "8f10c27d",
   "metadata": {},
   "outputs": [
    {
     "name": "stdout",
     "output_type": "stream",
     "text": [
      "Model: \"sequential_2\"\n",
      "_________________________________________________________________\n",
      "Layer (type)                 Output Shape              Param #   \n",
      "=================================================================\n",
      "conv2d_1 (Conv2D)            (None, 128, 128, 16)      160       \n",
      "_________________________________________________________________\n",
      "max_pooling2d (MaxPooling2D) (None, 64, 64, 16)        0         \n",
      "_________________________________________________________________\n",
      "conv2d_2 (Conv2D)            (None, 64, 64, 32)        4640      \n",
      "_________________________________________________________________\n",
      "max_pooling2d_1 (MaxPooling2 (None, 32, 32, 32)        0         \n",
      "_________________________________________________________________\n",
      "conv2d_3 (Conv2D)            (None, 32, 32, 64)        18496     \n",
      "_________________________________________________________________\n",
      "max_pooling2d_2 (MaxPooling2 (None, 16, 16, 64)        0         \n",
      "_________________________________________________________________\n",
      "flatten (Flatten)            (None, 16384)             0         \n",
      "_________________________________________________________________\n",
      "dense (Dense)                (None, 128)               2097280   \n",
      "_________________________________________________________________\n",
      "dense_1 (Dense)              (None, 64)                8256      \n",
      "_________________________________________________________________\n",
      "dense_2 (Dense)              (None, 6)                 390       \n",
      "=================================================================\n",
      "Total params: 2,129,222\n",
      "Trainable params: 2,129,222\n",
      "Non-trainable params: 0\n",
      "_________________________________________________________________\n"
     ]
    }
   ],
   "source": [
    "from tensorflow.keras.optimizers import SGD\n",
    "opt = SGD(learning_rate=0.0001, decay=1e-6,momentum=0.1,nesterov=True)\n",
    "model.compile(optimizer=opt,loss='sparse_categorical_crossentropy',metrics=['accuracy'])\n",
    "\n",
    "model.summary()"
   ]
  },
  {
   "cell_type": "markdown",
   "metadata": {},
   "source": [
    "# Own Model"
   ]
  },
  {
   "cell_type": "code",
   "execution_count": 35,
   "metadata": {},
   "outputs": [],
   "source": [
    "model1 = Sequential()\n",
    "\n",
    "model1.add(Conv2D(64, (3,3),padding=\"same\",kernel_regularizer=l2(0.001),input_shape=(X.shape[1:])))\n",
    "model1.add(Activation(\"relu\"))\n",
    "# model1.add(BatchNormalization(axis=1))\n",
    "model1.add(BatchNormalization(axis=1))\n",
    "model1.add(MaxPooling2D(pool_size=(2,2)))\n",
    "model1.add(Dropout(0.2))\n",
    "\n",
    "model1.add(Conv2D(128, (3,3),padding=\"same\"))\n",
    "model1.add(Activation(\"relu\"))\n",
    "model1.add(MaxPooling2D(pool_size=(2,2)))\n",
    "\n",
    "model1.add(Conv2D(256, (3,3),padding=\"same\"))\n",
    "model1.add(Activation(\"relu\"))\n",
    "model1.add(MaxPooling2D(pool_size=(2,2)))\n",
    "\n",
    "\n",
    "model1.add(Flatten())\n",
    "model1.add(Dense(64))\n",
    "model1.add(Activation(\"relu\"))\n",
    "model1.add(Dropout(0.2))\n",
    "\n",
    "model1.add(Dense(6))\n",
    "model1.add(Activation('sigmoid'))\n",
    "\n",
    "\n",
    "model1.compile(optimizer='adam',loss='sparse_categorical_crossentropy',metrics=['accuracy'])"
   ]
  },
  {
   "cell_type": "code",
   "execution_count": 130,
   "metadata": {},
   "outputs": [],
   "source": [
    "# model1 = Sequential()\n",
    "\n",
    "# model1.add(Conv2D(32,kernel_size=(3,3),activation='relu',input_shape=(X.shape[1:])))\n",
    "# model1.add(BatchNormalization())\n",
    "# model1.add(MaxPooling2D(pool_size=(2,2),strides=(2,2)))\n",
    "# model1.add(Dropout(0.2))\n",
    "\n",
    "# model1.add(Conv2D(64,kernel_size=(3,3),activation='relu'))\n",
    "# model1.add(MaxPooling2D(pool_size=(2,2),strides=(2,2)))\n",
    "# # before fully connected neural network , we must flaten the image/data.\n",
    "\n",
    "# model1.add(Conv2D(32,kernel_size=(3,3),activation='relu'))\n",
    "# model1.add(MaxPooling2D(pool_size=(2,2),strides=(2,2)))\n",
    "\n",
    "# model1.add(Flatten())\n",
    "\n",
    "# # fully connected neural networks\n",
    "# # 1024 -> neurons\n",
    "# model1.add(Dense(64,activation='relu'))\n",
    "# model1.add(Dropout(0.2))\n",
    "# model1.add(Dense(32,activation='relu'))\n",
    "# model1.add(Dropout(0.1))\n",
    "\n",
    "# model1.add(Dense(6,activation='sigmoid'))\n",
    "\n",
    "# model1.compile(optimizer='sgd',loss='sparse_categorical_crossentropy',metrics=['accuracy'])\n",
    "# # mean_squared_error\n",
    "# # if you have 1D integer encoded target, you can use sparse_categorical_crossentropy as loss function\n",
    "# # if you have one-hot encoded your target in order to have 2D shape (n_samples, n_class), you can use categorical_crossentropy"
   ]
  },
  {
   "cell_type": "code",
   "execution_count": 155,
   "metadata": {},
   "outputs": [],
   "source": [
    "model = Sequential()\n",
    "\n",
    "model.add(Conv2D(64,kernel_size=(3,3),activation='relu',input_shape=(X.shape[1:])))\n",
    "model.add(BatchNormalization())\n",
    "# model2.add(MaxPooling2D(pool_size=(2,2)))\n",
    "model.add(MaxPooling2D(pool_size=(2,2),strides=(2,2)))\n",
    "model.add(Dropout(0.1))\n",
    "\n",
    "model.add(Conv2D(128, (3, 3), activation='relu'))\n",
    "model.add(MaxPooling2D((2, 2),strides=(2,2)))\n",
    "\n",
    "model.add(Conv2D(256, (3, 3), activation='relu'))\n",
    "model.add(MaxPooling2D((2, 2),strides=(2,2)))\n",
    "# model2.add(BatchNormalization())\n",
    "\n",
    "model.add(Flatten())\n",
    "\n",
    "model.add(Dense(64, activation='relu'))\n",
    "model.add(Dropout(0.1))\n",
    "model.add(Dense(6, activation='sigmoid'))\n",
    "\n",
    "model2.compile(optimizer='sgd',loss='sparse_categorical_crossentropy',metrics=['accuracy'])"
   ]
  },
  {
   "cell_type": "code",
   "execution_count": null,
   "id": "0ba278a7",
   "metadata": {},
   "outputs": [],
   "source": [
    "from sklearn.utils import compute_class_weight\n",
    "classWeight = compute_class_weight('balanced', np.unique(y_train), y_train) \n",
    "classWeight = dict(enumerate(classWeight))\n",
    "history = model.fit(X_train, y_train, batch_size = 16, epochs = 5, verbose = 2, validation_data = (X_test, y_test), class_weight=classWeight)"
   ]
  },
  {
   "cell_type": "code",
   "execution_count": 12,
   "metadata": {},
   "outputs": [
    {
     "name": "stdout",
     "output_type": "stream",
     "text": [
      "Epoch 1/20\n",
      "2311/2311 [==============================] - 382s 163ms/step - loss: 0.6838 - accuracy: 0.7412 - val_loss: 0.6645 - val_accuracy: 0.7327\n",
      "Epoch 2/20\n",
      "2311/2311 [==============================] - 361s 156ms/step - loss: 0.6272 - accuracy: 0.7657 - val_loss: 0.6121 - val_accuracy: 0.7747\n",
      "Epoch 3/20\n",
      "2311/2311 [==============================] - 355s 154ms/step - loss: 0.6077 - accuracy: 0.7737 - val_loss: 0.6043 - val_accuracy: 0.7736\n",
      "Epoch 4/20\n",
      "2311/2311 [==============================] - 353s 153ms/step - loss: 0.5928 - accuracy: 0.7769 - val_loss: 0.6034 - val_accuracy: 0.7702\n",
      "Epoch 5/20\n",
      "2311/2311 [==============================] - 353s 153ms/step - loss: 0.5802 - accuracy: 0.7825 - val_loss: 0.6024 - val_accuracy: 0.7795\n",
      "Epoch 6/20\n",
      "2311/2311 [==============================] - 353s 153ms/step - loss: 0.5694 - accuracy: 0.7831 - val_loss: 0.5984 - val_accuracy: 0.7663\n",
      "Epoch 7/20\n",
      "2311/2311 [==============================] - 355s 153ms/step - loss: 0.5600 - accuracy: 0.7895 - val_loss: 0.6021 - val_accuracy: 0.7743\n",
      "Epoch 8/20\n",
      "2311/2311 [==============================] - 353s 153ms/step - loss: 0.5511 - accuracy: 0.7936 - val_loss: 0.5816 - val_accuracy: 0.7829\n",
      "Epoch 9/20\n",
      "2311/2311 [==============================] - 352s 153ms/step - loss: 0.5423 - accuracy: 0.7968 - val_loss: 0.5886 - val_accuracy: 0.7778\n",
      "Epoch 10/20\n",
      "2311/2311 [==============================] - 352s 152ms/step - loss: 0.5344 - accuracy: 0.8016 - val_loss: 0.5813 - val_accuracy: 0.7765\n",
      "Epoch 11/20\n",
      "2311/2311 [==============================] - 352s 152ms/step - loss: 0.5274 - accuracy: 0.8009 - val_loss: 0.5755 - val_accuracy: 0.7821\n",
      "Epoch 12/20\n",
      "2311/2311 [==============================] - 355s 154ms/step - loss: 0.5195 - accuracy: 0.8046 - val_loss: 0.5763 - val_accuracy: 0.7829\n",
      "Epoch 13/20\n",
      "2311/2311 [==============================] - 355s 153ms/step - loss: 0.5123 - accuracy: 0.8069 - val_loss: 0.5794 - val_accuracy: 0.7845\n",
      "Epoch 14/20\n",
      "2311/2311 [==============================] - 352s 152ms/step - loss: 0.5053 - accuracy: 0.8115 - val_loss: 0.5831 - val_accuracy: 0.7739\n",
      "Epoch 15/20\n",
      "2311/2311 [==============================] - 352s 152ms/step - loss: 0.4976 - accuracy: 0.8139 - val_loss: 0.5831 - val_accuracy: 0.7732\n",
      "Epoch 16/20\n",
      "2311/2311 [==============================] - 352s 152ms/step - loss: 0.4902 - accuracy: 0.8160 - val_loss: 0.5748 - val_accuracy: 0.7767\n",
      "Epoch 17/20\n",
      "2311/2311 [==============================] - 353s 153ms/step - loss: 0.4851 - accuracy: 0.8184 - val_loss: 0.6015 - val_accuracy: 0.7624\n",
      "Epoch 18/20\n",
      "2311/2311 [==============================] - 352s 152ms/step - loss: 0.4806 - accuracy: 0.8204 - val_loss: 0.6579 - val_accuracy: 0.7472\n",
      "Epoch 19/20\n",
      "2311/2311 [==============================] - 362s 156ms/step - loss: 0.4716 - accuracy: 0.8233 - val_loss: 0.6211 - val_accuracy: 0.7498\n",
      "Epoch 20/20\n",
      "2311/2311 [==============================] - 367s 159ms/step - loss: 0.4657 - accuracy: 0.8267 - val_loss: 0.5797 - val_accuracy: 0.7754\n"
     ]
    }
   ],
   "source": [
    "# model.compile(optimizer, loss)\n",
    "# ,validation_data=(X_test,y_test), batch_size=1024\n",
    "history = model.fit(X_train, y_train, epochs=20, validation_data=(X_test,y_test), batch_size=8)\n",
    "# batch_size=1024"
   ]
  },
  {
   "cell_type": "code",
   "execution_count": 14,
   "metadata": {},
   "outputs": [
    {
     "name": "stdout",
     "output_type": "stream",
     "text": [
      "145/145 [==============================] - 22s 149ms/step - loss: 0.5797 - accuracy: 0.7754\n"
     ]
    },
    {
     "data": {
      "text/plain": [
       "[0.5797184109687805, 0.7753732800483704]"
      ]
     },
     "execution_count": 14,
     "metadata": {},
     "output_type": "execute_result"
    }
   ],
   "source": [
    "model.evaluate(X_test,y_test)"
   ]
  },
  {
   "cell_type": "code",
   "execution_count": 13,
   "metadata": {},
   "outputs": [],
   "source": [
    "# save model\n",
    "model.save('AgeModel/age128-model-test-4.h5')"
   ]
  },
  {
   "cell_type": "code",
   "execution_count": 15,
   "metadata": {},
   "outputs": [
    {
     "data": {
      "text/plain": [
       "dict_keys(['loss', 'accuracy', 'val_loss', 'val_accuracy'])"
      ]
     },
     "execution_count": 15,
     "metadata": {},
     "output_type": "execute_result"
    }
   ],
   "source": [
    "history.history.keys()"
   ]
  },
  {
   "cell_type": "code",
   "execution_count": 16,
   "metadata": {},
   "outputs": [
    {
     "data": {
      "image/png": "[encoded data removed]",
      "text/plain": [
       "<Figure size 432x288 with 1 Axes>"
      ]
     },
     "metadata": {
      "needs_background": "light"
     },
     "output_type": "display_data"
    }
   ],
   "source": [
    "plt.plot(history.history['accuracy'])\n",
    "plt.plot(history.history['val_accuracy'])\n",
    "plt.title('model accuracy')\n",
    "plt.ylabel('accuracy')\n",
    "plt.xlabel('epoch')\n",
    "plt.legend(['train','test'],loc='upper left')\n",
    "plt.show()"
   ]
  },
  {
   "cell_type": "code",
   "execution_count": 17,
   "metadata": {},
   "outputs": [
    {
     "data": {
      "image/png": "[encoded data removed]",
      "text/plain": [
       "<Figure size 432x288 with 1 Axes>"
      ]
     },
     "metadata": {
      "needs_background": "light"
     },
     "output_type": "display_data"
    }
   ],
   "source": [
    "plt.plot(history.history['loss'])\n",
    "plt.plot(history.history['val_loss'])\n",
    "plt.title('model loss')\n",
    "plt.ylabel('loss')\n",
    "plt.xlabel('epoch')\n",
    "plt.legend(['train','test'],loc='upper left')\n",
    "plt.show()"
   ]
  },
  {
   "cell_type": "code",
   "execution_count": 26,
   "metadata": {},
   "outputs": [],
   "source": [
    "# Load model\n",
    "from keras.preprocessing.image import img_to_array\n",
    "import matplotlib.pyplot as plt\n",
    "from tensorflow import keras\n",
    "import numpy as np\n",
    "import cv2\n",
    "# model = keras.models.load_model('AgeModel/age128_acc_64_val_acc_59.h5')"
   ]
  },
  {
   "cell_type": "code",
   "execution_count": 43,
   "metadata": {},
   "outputs": [
    {
     "data": {
      "image/png": "[encoded data removed]",
      "text/plain": [
       "<Figure size 432x288 with 1 Axes>"
      ]
     },
     "metadata": {
      "needs_background": "light"
     },
     "output_type": "display_data"
    },
    {
     "name": "stdout",
     "output_type": "stream",
     "text": [
      "[[0.0313732  0.652263   0.9886463  0.9289917  0.51380366 0.02321783]]\n",
      "index no =  2\n",
      "age group:  20-35\n"
     ]
    }
   ],
   "source": [
    "ii = 3462 # (  8 haleki 60 > aauxa)\n",
    "\n",
    "plt.imshow(X_test[ii])\n",
    "plt.xlabel(\"age group:\"+str(y_test.to_list()[ii]))\n",
    "plt.show()\n",
    "# Age predict\n",
    "image_pixels = img_to_array(X_test[ii])\n",
    "image_pixels = np.expand_dims(image_pixels,axis=0)\n",
    "aged = model.predict(image_pixels)\n",
    "print(aged)\n",
    "aged = np.argmax(aged)\n",
    "print('index no = ',aged)\n",
    "age_group = ['0-10','10-20','20-35','35-50','50-60','>60']\n",
    "print('age group: ',age_group[aged])"
   ]
  },
  {
   "cell_type": "code",
   "execution_count": null,
   "metadata": {},
   "outputs": [],
   "source": [
    "sample_image = cv2.imread('sample_male.png')\n",
    "sample_image = cv2.cvtColor(sample_image,cv2.COLOR_BGR2GRAY)\n",
    "faces = cv2.CascadeClassifier('haarcascade_frontalface_default.xml').detectMultiScale(sample_image,1.2,4)\n",
    "\n",
    "for (x,y,w,h) in faces:\n",
    "    cv2.rectangle(sample_image,(x,y),(x+w,y+h),(0,0,255),2)\n",
    "    roi_gray = sample_image[y:y+w,x:x+h]\n",
    "    roi_gray = cv2.resize(roi_gray,(48,48))\n",
    "    image_pixels = img_to_array(roi_gray)\n",
    "    image_pixels = np.expand_dims(image_pixels,axis=0)\n",
    "    image_pixels /=255\n",
    "   \n",
    "    predictions = model.predict(image_pixels)\n",
    "    print(predictions)\n",
    "    predictions = np.argmax([predictions])\n",
    "    print(predictions,'-index')\n",
    "    # age_group = ['0-10','10-20','20-30','30-40','40-50','50-60','60-70','70-80','80-90','90-100','>110']\n",
    "    # age_group = ['0-5','5-10','10-15','15-20','20-25','25-30','30-35','35-40','40-45','>60']\n",
    "    age_group = ['0-10','10-20','20-35','35-50','50-60','>60']\n",
    "    print('age group: ',age_group[predictions])\n",
    "    plt.imshow(roi_gray)"
   ]
  },
  {
   "cell_type": "code",
   "execution_count": null,
   "metadata": {},
   "outputs": [],
   "source": []
  }
 ],
 "metadata": {
  "interpreter": {
   "hash": "63fd5069d213b44bf678585dea6b12cceca9941eaf7f819626cde1f2670de90d"
  },
  "kernelspec": {
   "display_name": "Python 3.9.7 64-bit",
   "name": "python3"
  },
  "language_info": {
   "codemirror_mode": {
    "name": "ipython",
    "version": 3
   },
   "file_extension": ".py",
   "mimetype": "text/x-python",
   "name": "python",
   "nbconvert_exporter": "python",
   "pygments_lexer": "ipython3",
   "version": "3.9.7"
  }
 },
 "nbformat": 4,
 "nbformat_minor": 5
}
