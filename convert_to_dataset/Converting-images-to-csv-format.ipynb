{
 "cells": [
  {
   "cell_type": "code",
   "execution_count": 36,
   "source": [
    "from PIL import Image\r\n",
    "import pandas as pd\r\n",
    "import os, os.path,time\r\n",
    "import csv\r\n",
    "import matplotlib.pyplot as plt\r\n",
    "import numpy as np"
   ],
   "outputs": [],
   "metadata": {}
  },
  {
   "cell_type": "code",
   "execution_count": 37,
   "source": [
    "Dimension = 64"
   ],
   "outputs": [],
   "metadata": {}
  },
  {
   "cell_type": "code",
   "execution_count": 38,
   "source": [
    "fileList = []\r\n",
    "def createFileList(myDir, format='.jpg'):\r\n",
    "    \r\n",
    "    print(myDir)\r\n",
    "    for root, dirs, files in os.walk(myDir, topdown=False):\r\n",
    "        for name in files:\r\n",
    "            if name.endswith(format):\r\n",
    "                fullName = os.path.join(root, name)\r\n",
    "                fileList.append(fullName)\r\n",
    "    return fileList"
   ],
   "outputs": [],
   "metadata": {}
  },
  {
   "cell_type": "markdown",
   "source": [
    "#load the original image from the folder \"testofimagetocsv\"\n"
   ],
   "metadata": {}
  },
  {
   "cell_type": "code",
   "execution_count": 39,
   "source": [
    "myFileList = createFileList('D:/age-and-gender-detection/testing')\r\n",
    "print(myFileList)"
   ],
   "outputs": [
    {
     "output_type": "stream",
     "name": "stdout",
     "text": [
      "D:/age-and-gender-detection/testing\n",
      "['D:/age-and-gender-detection/testing\\\\25_1_first.jpg', 'D:/age-and-gender-detection/testing\\\\26_1_first.jpg', 'D:/age-and-gender-detection/testing\\\\30_1_first.jpg']\n"
     ]
    }
   ],
   "metadata": {
    "scrolled": true
   }
  },
  {
   "cell_type": "code",
   "execution_count": 40,
   "source": [
    "def split_file_name(filename):\r\n",
    "    split_data = filename.split('_')\r\n",
    "    # split_data2 = split_data[2].split('.')\r\n",
    "    #same name hos matlab xina\r\n",
    "    return (split_data)"
   ],
   "outputs": [],
   "metadata": {}
  },
  {
   "cell_type": "code",
   "execution_count": 41,
   "source": [
    "new_dict = {\r\n",
    "    'age':[],\r\n",
    "    'gender':[],\r\n",
    "    'image_name':[],\r\n",
    "    'pixels':[]\r\n",
    "    }\r\n",
    "\r\n",
    "df = pd.DataFrame(new_dict)\r\n",
    "for en,file in enumerate(myFileList):\r\n",
    "    img_file = Image.open(file)\r\n",
    "    img_file = img_file.resize((Dimension,Dimension))\r\n",
    "    width, height = img_file.size\r\n",
    "     \r\n",
    "    print(en)\r\n",
    "    # print('width,height',width,height) \r\n",
    "    #ans is 200 200\r\n",
    "\r\n",
    "    # file_name = img_file.filename\r\n",
    "    # print('file name :',file_name)\r\n",
    "    \r\n",
    "    head, tail = os.path.split(file)\r\n",
    "    print(tail)\r\n",
    "    split_data = split_file_name(tail) \r\n",
    "    print(split_data)\r\n",
    "\r\n",
    "    format=img_file.format\r\n",
    "    mode=img_file.mode\r\n",
    "\r\n",
    "    #converting into gray scale\r\n",
    "    #here L is single channel mode which is generally for converting into greyscale\r\n",
    "    img_grey = img_file.convert('L')\r\n",
    "    \r\n",
    "    #converting into numpyarray\r\n",
    "    #value=np.asarray(img_grey)\r\n",
    "    value=np.asarray(img_grey.getdata(),dtype=np.int).reshape((img_grey.size[1],img_grey.size[0]))\r\n",
    "    # print('value:',type(value),value)    \r\n",
    "    \r\n",
    "    #pandas feature 2d to 1d \r\n",
    "    value=value.flatten()\r\n",
    "    # print(type(value))\r\n",
    "    # print(value.shape)\r\n",
    "    tostr = lambda x: [str(y) for y in x]\r\n",
    "    \r\n",
    "    name_array = ' '.join(tostr(value))\r\n",
    "    # print(name_array)\r\n",
    "    # ,age,gender,image_name,pixel\r\n",
    "    # print(new_data)\r\n",
    "    df.loc[en] = [str(split_data[0]),str(split_data[1]),str(split_data[2]),name_array]\r\n",
    "df.to_csv('../dataset/dataset1.csv',index=False)    "
   ],
   "outputs": [
    {
     "output_type": "stream",
     "name": "stdout",
     "text": [
      "0\n",
      "25_1_first.jpg\n",
      "['25', '1', 'first.jpg']\n",
      "1\n",
      "26_1_first.jpg\n",
      "['26', '1', 'first.jpg']\n",
      "2\n",
      "30_1_first.jpg\n",
      "['30', '1', 'first.jpg']\n"
     ]
    }
   ],
   "metadata": {}
  },
  {
   "cell_type": "code",
   "execution_count": 42,
   "source": [
    "df = pd.read_csv('dataset.csv')\r\n",
    "df.head()"
   ],
   "outputs": [
    {
     "output_type": "execute_result",
     "data": {
      "text/html": [
       "<div>\n",
       "<style scoped>\n",
       "    .dataframe tbody tr th:only-of-type {\n",
       "        vertical-align: middle;\n",
       "    }\n",
       "\n",
       "    .dataframe tbody tr th {\n",
       "        vertical-align: top;\n",
       "    }\n",
       "\n",
       "    .dataframe thead th {\n",
       "        text-align: right;\n",
       "    }\n",
       "</style>\n",
       "<table border=\"1\" class=\"dataframe\">\n",
       "  <thead>\n",
       "    <tr style=\"text-align: right;\">\n",
       "      <th></th>\n",
       "      <th>age</th>\n",
       "      <th>gender</th>\n",
       "      <th>image_name</th>\n",
       "      <th>pixels</th>\n",
       "    </tr>\n",
       "  </thead>\n",
       "  <tbody>\n",
       "    <tr>\n",
       "      <th>0</th>\n",
       "      <td>25</td>\n",
       "      <td>1</td>\n",
       "      <td>first.jpg</td>\n",
       "      <td>127 143 150 142 129 137 142 106 43 20 20 15 7 ...</td>\n",
       "    </tr>\n",
       "    <tr>\n",
       "      <th>1</th>\n",
       "      <td>26</td>\n",
       "      <td>1</td>\n",
       "      <td>first.jpg</td>\n",
       "      <td>63 68 73 78 82 82 80 88 98 105 120 132 140 146...</td>\n",
       "    </tr>\n",
       "    <tr>\n",
       "      <th>2</th>\n",
       "      <td>30</td>\n",
       "      <td>1</td>\n",
       "      <td>first.jpg</td>\n",
       "      <td>95 113 130 133 128 128 101 81 71 56 48 51 50 4...</td>\n",
       "    </tr>\n",
       "  </tbody>\n",
       "</table>\n",
       "</div>"
      ],
      "text/plain": [
       "   age  gender image_name                                             pixels\n",
       "0   25       1  first.jpg  127 143 150 142 129 137 142 106 43 20 20 15 7 ...\n",
       "1   26       1  first.jpg  63 68 73 78 82 82 80 88 98 105 120 132 140 146...\n",
       "2   30       1  first.jpg  95 113 130 133 128 128 101 81 71 56 48 51 50 4..."
      ]
     },
     "metadata": {},
     "execution_count": 42
    }
   ],
   "metadata": {}
  },
  {
   "cell_type": "markdown",
   "source": [
    "# Checking GreyScale or not"
   ],
   "metadata": {}
  },
  {
   "cell_type": "code",
   "execution_count": 43,
   "source": [
    "# data=pd.read_csv(\"../dataset/age_gender.csv\")\r\n",
    "data=pd.read_csv(\"../convert_to_dataset/dataset.csv\")\r\n",
    "data.head()"
   ],
   "outputs": [
    {
     "output_type": "execute_result",
     "data": {
      "text/html": [
       "<div>\n",
       "<style scoped>\n",
       "    .dataframe tbody tr th:only-of-type {\n",
       "        vertical-align: middle;\n",
       "    }\n",
       "\n",
       "    .dataframe tbody tr th {\n",
       "        vertical-align: top;\n",
       "    }\n",
       "\n",
       "    .dataframe thead th {\n",
       "        text-align: right;\n",
       "    }\n",
       "</style>\n",
       "<table border=\"1\" class=\"dataframe\">\n",
       "  <thead>\n",
       "    <tr style=\"text-align: right;\">\n",
       "      <th></th>\n",
       "      <th>age</th>\n",
       "      <th>gender</th>\n",
       "      <th>image_name</th>\n",
       "      <th>pixels</th>\n",
       "    </tr>\n",
       "  </thead>\n",
       "  <tbody>\n",
       "    <tr>\n",
       "      <th>0</th>\n",
       "      <td>25</td>\n",
       "      <td>1</td>\n",
       "      <td>first.jpg</td>\n",
       "      <td>127 143 150 142 129 137 142 106 43 20 20 15 7 ...</td>\n",
       "    </tr>\n",
       "    <tr>\n",
       "      <th>1</th>\n",
       "      <td>26</td>\n",
       "      <td>1</td>\n",
       "      <td>first.jpg</td>\n",
       "      <td>63 68 73 78 82 82 80 88 98 105 120 132 140 146...</td>\n",
       "    </tr>\n",
       "    <tr>\n",
       "      <th>2</th>\n",
       "      <td>30</td>\n",
       "      <td>1</td>\n",
       "      <td>first.jpg</td>\n",
       "      <td>95 113 130 133 128 128 101 81 71 56 48 51 50 4...</td>\n",
       "    </tr>\n",
       "  </tbody>\n",
       "</table>\n",
       "</div>"
      ],
      "text/plain": [
       "   age  gender image_name                                             pixels\n",
       "0   25       1  first.jpg  127 143 150 142 129 137 142 106 43 20 20 15 7 ...\n",
       "1   26       1  first.jpg  63 68 73 78 82 82 80 88 98 105 120 132 140 146...\n",
       "2   30       1  first.jpg  95 113 130 133 128 128 101 81 71 56 48 51 50 4..."
      ]
     },
     "metadata": {},
     "execution_count": 43
    }
   ],
   "metadata": {}
  },
  {
   "cell_type": "code",
   "execution_count": 44,
   "source": [
    "#convert pixels into numpy array\r\n",
    "data['pixels']=data['pixels'].apply(lambda x: np.array(x.split(), dtype=\"float32\"))\r\n",
    "data.head()"
   ],
   "outputs": [
    {
     "output_type": "execute_result",
     "data": {
      "text/html": [
       "<div>\n",
       "<style scoped>\n",
       "    .dataframe tbody tr th:only-of-type {\n",
       "        vertical-align: middle;\n",
       "    }\n",
       "\n",
       "    .dataframe tbody tr th {\n",
       "        vertical-align: top;\n",
       "    }\n",
       "\n",
       "    .dataframe thead th {\n",
       "        text-align: right;\n",
       "    }\n",
       "</style>\n",
       "<table border=\"1\" class=\"dataframe\">\n",
       "  <thead>\n",
       "    <tr style=\"text-align: right;\">\n",
       "      <th></th>\n",
       "      <th>age</th>\n",
       "      <th>gender</th>\n",
       "      <th>image_name</th>\n",
       "      <th>pixels</th>\n",
       "    </tr>\n",
       "  </thead>\n",
       "  <tbody>\n",
       "    <tr>\n",
       "      <th>0</th>\n",
       "      <td>25</td>\n",
       "      <td>1</td>\n",
       "      <td>first.jpg</td>\n",
       "      <td>[127.0, 143.0, 150.0, 142.0, 129.0, 137.0, 142...</td>\n",
       "    </tr>\n",
       "    <tr>\n",
       "      <th>1</th>\n",
       "      <td>26</td>\n",
       "      <td>1</td>\n",
       "      <td>first.jpg</td>\n",
       "      <td>[63.0, 68.0, 73.0, 78.0, 82.0, 82.0, 80.0, 88....</td>\n",
       "    </tr>\n",
       "    <tr>\n",
       "      <th>2</th>\n",
       "      <td>30</td>\n",
       "      <td>1</td>\n",
       "      <td>first.jpg</td>\n",
       "      <td>[95.0, 113.0, 130.0, 133.0, 128.0, 128.0, 101....</td>\n",
       "    </tr>\n",
       "  </tbody>\n",
       "</table>\n",
       "</div>"
      ],
      "text/plain": [
       "   age  gender image_name                                             pixels\n",
       "0   25       1  first.jpg  [127.0, 143.0, 150.0, 142.0, 129.0, 137.0, 142...\n",
       "1   26       1  first.jpg  [63.0, 68.0, 73.0, 78.0, 82.0, 82.0, 80.0, 88....\n",
       "2   30       1  first.jpg  [95.0, 113.0, 130.0, 133.0, 128.0, 128.0, 101...."
      ]
     },
     "metadata": {},
     "execution_count": 44
    }
   ],
   "metadata": {}
  },
  {
   "cell_type": "code",
   "execution_count": 45,
   "source": [
    "X = np.array(data['pixels'].tolist())\r\n",
    "print(X)"
   ],
   "outputs": [
    {
     "output_type": "stream",
     "name": "stdout",
     "text": [
      "[[127. 143. 150. ... 120. 105. 104.]\n",
      " [ 63.  68.  73. ...  58.  64.  64.]\n",
      " [ 95. 113. 130. ...  55.  87.  96.]]\n"
     ]
    }
   ],
   "metadata": {}
  },
  {
   "cell_type": "code",
   "execution_count": 46,
   "source": [
    "data = np.reshape(X[0], (Dimension, Dimension))\r\n",
    "data = Image.fromarray(data)\r\n",
    "imgg = plt.imshow(data)\r\n",
    "plt.show(imgg)\r\n",
    "# # saving the final output \r\n",
    "# # as a PNG file\r\n",
    "# data.save('greyOrnot.png')"
   ],
   "outputs": [
    {
     "output_type": "display_data",
     "data": {
      "image/png": "[encoded data removed]",
      "text/plain": [
       "<Figure size 432x288 with 1 Axes>"
      ]
     },
     "metadata": {
      "needs_background": "light"
     }
    }
   ],
   "metadata": {}
  },
  {
   "cell_type": "code",
   "execution_count": null,
   "source": [],
   "outputs": [],
   "metadata": {}
  }
 ],
 "metadata": {
  "interpreter": {
   "hash": "63fd5069d213b44bf678585dea6b12cceca9941eaf7f819626cde1f2670de90d"
  },
  "kernelspec": {
   "name": "python3",
   "display_name": "Python 3.9.7 64-bit"
  },
  "language_info": {
   "codemirror_mode": {
    "name": "ipython",
    "version": 3
   },
   "file_extension": ".py",
   "mimetype": "text/x-python",
   "name": "python",
   "nbconvert_exporter": "python",
   "pygments_lexer": "ipython3",
   "version": "3.9.7"
  }
 },
 "nbformat": 4,
 "nbformat_minor": 5
}