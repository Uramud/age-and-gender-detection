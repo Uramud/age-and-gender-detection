{
 "cells": [
  {
   "cell_type": "code",
   "execution_count": 1,
   "source": [
    "from PIL import Image\r\n",
    "import pandas as pd\r\n",
    "import os, os.path,time\r\n",
    "import csv\r\n",
    "import matplotlib.pyplot as plt\r\n",
    "import numpy as np"
   ],
   "outputs": [],
   "metadata": {}
  },
  {
   "cell_type": "code",
   "execution_count": 2,
   "source": [
    "def createFileList(myDir, format='.jpg'):\r\n",
    "    fileList = []\r\n",
    "    print(myDir)\r\n",
    "    for root, dirs, files in os.walk(myDir, topdown=False):\r\n",
    "        for name in files:\r\n",
    "            if name.endswith(format):\r\n",
    "                fullName = os.path.join(root, name)\r\n",
    "                fileList.append(fullName)\r\n",
    "    return fileList"
   ],
   "outputs": [],
   "metadata": {}
  },
  {
   "cell_type": "markdown",
   "source": [
    "#load the original image from the folder \"testofimagetocsv\"\r\n"
   ],
   "metadata": {}
  },
  {
   "cell_type": "code",
   "execution_count": 3,
   "source": [
    "myFileList = createFileList('D:/ageandgender/testofimagetocsv')\r\n",
    "myFileList"
   ],
   "outputs": [
    {
     "output_type": "stream",
     "name": "stdout",
     "text": [
      "D:/ageandgender/testofimagetocsv\n"
     ]
    },
    {
     "output_type": "execute_result",
     "data": {
      "text/plain": [
       "[]"
      ]
     },
     "metadata": {},
     "execution_count": 3
    }
   ],
   "metadata": {
    "scrolled": true
   }
  },
  {
   "cell_type": "code",
   "execution_count": 9,
   "source": [
    "new_dict = {\r\n",
    "    'sn':[],\r\n",
    "    'age':[],\r\n",
    "    'gender':[],\r\n",
    "    'image_name':[],\r\n",
    "    'pixel':[]\r\n",
    "    }\r\n",
    "df = pd.DataFrame(new_dict)\r\n",
    "for en,file in enumerate(myFileList):\r\n",
    "    #     print(file)\r\n",
    "    img_file = Image.open(file)\r\n",
    "    width, height = img_file.size\r\n",
    "    \r\n",
    "    # print('width,height',width,height) \r\n",
    "    #ans is 200 200\r\n",
    "\r\n",
    "    format=img_file.format\r\n",
    "    mode=img_file.mode\r\n",
    "\r\n",
    "    #converting into gray scale\r\n",
    "    #here L is single channel mode which is generally for converting into greyscale\r\n",
    "    img_grey = img_file.convert('L')\r\n",
    "    \r\n",
    "    #converting into numpyarray\r\n",
    "    #value=np.asarray(img_grey)\r\n",
    "    value=np.asarray(img_grey.getdata(),dtype=np.int).reshape((img_grey.size[1],img_grey.size[0]))\r\n",
    "    # print('value:',type(value),value)    \r\n",
    "    \r\n",
    "    #pandas feature 2d to 1d \r\n",
    "    value=value.flatten()\r\n",
    "    # print(type(value))\r\n",
    "    # print(value.shape)\r\n",
    "    tostr = lambda x: [str(y) for y in x]\r\n",
    "    \r\n",
    "    name_array = ' '.join(tostr(value))\r\n",
    "    # print(name_array)\r\n",
    "    # ,age,gender,image_name,pixel\r\n",
    "    # print(new_data)\r\n",
    "    df.loc[en] = [1,12,0,'apple.jpg',name_array]\r\n",
    "df.to_csv('dataset.csv',index=False)  \r\n",
    "\r\n"
   ],
   "outputs": [],
   "metadata": {}
  },
  {
   "cell_type": "code",
   "execution_count": 6,
   "source": [
    "# # note\r\n",
    "# print(img_grey)"
   ],
   "outputs": [],
   "metadata": {}
  },
  {
   "cell_type": "code",
   "execution_count": 10,
   "source": [
    "df = pd.read_csv('dataset.csv')\r\n",
    "df.head()"
   ],
   "outputs": [
    {
     "output_type": "execute_result",
     "data": {
      "text/html": [
       "<div>\n",
       "<style scoped>\n",
       "    .dataframe tbody tr th:only-of-type {\n",
       "        vertical-align: middle;\n",
       "    }\n",
       "\n",
       "    .dataframe tbody tr th {\n",
       "        vertical-align: top;\n",
       "    }\n",
       "\n",
       "    .dataframe thead th {\n",
       "        text-align: right;\n",
       "    }\n",
       "</style>\n",
       "<table border=\"1\" class=\"dataframe\">\n",
       "  <thead>\n",
       "    <tr style=\"text-align: right;\">\n",
       "      <th></th>\n",
       "      <th>sn</th>\n",
       "      <th>age</th>\n",
       "      <th>gender</th>\n",
       "      <th>image_name</th>\n",
       "      <th>pixel</th>\n",
       "    </tr>\n",
       "  </thead>\n",
       "  <tbody>\n",
       "    <tr>\n",
       "      <th>0</th>\n",
       "      <td>1</td>\n",
       "      <td>10</td>\n",
       "      <td>0</td>\n",
       "      <td>test.jpg</td>\n",
       "      <td>[34, 656, 34, 34, 34, 34, 34]</td>\n",
       "    </tr>\n",
       "  </tbody>\n",
       "</table>\n",
       "</div>"
      ],
      "text/plain": [
       "   sn  age  gender image_name                          pixel\n",
       "0   1   10       0   test.jpg  [34, 656, 34, 34, 34, 34, 34]"
      ]
     },
     "metadata": {},
     "execution_count": 10
    }
   ],
   "metadata": {}
  },
  {
   "cell_type": "code",
   "execution_count": null,
   "source": [],
   "outputs": [],
   "metadata": {}
  },
  {
   "cell_type": "code",
   "execution_count": 32,
   "source": [],
   "outputs": [],
   "metadata": {}
  }
 ],
 "metadata": {
  "kernelspec": {
   "name": "python3",
   "display_name": "Python 3.9.7 64-bit"
  },
  "language_info": {
   "codemirror_mode": {
    "name": "ipython",
    "version": 3
   },
   "file_extension": ".py",
   "mimetype": "text/x-python",
   "name": "python",
   "nbconvert_exporter": "python",
   "pygments_lexer": "ipython3",
   "version": "3.9.7"
  },
  "interpreter": {
   "hash": "63fd5069d213b44bf678585dea6b12cceca9941eaf7f819626cde1f2670de90d"
  }
 },
 "nbformat": 4,
 "nbformat_minor": 5
}