{
 "cells": [
  {
   "cell_type": "code",
   "execution_count": 89,
   "source": [
    "from PIL import Image\r\n",
    "import pandas as pd\r\n",
    "import os, os.path,time\r\n",
    "import csv\r\n",
    "import matplotlib.pyplot as plt\r\n",
    "import numpy as np"
   ],
   "outputs": [],
   "metadata": {}
  },
  {
   "cell_type": "code",
   "execution_count": 90,
   "source": [
    "def createFileList(myDir, format='.jpg'):\r\n",
    "    fileList = []\r\n",
    "    print(myDir)\r\n",
    "    for root, dirs, files in os.walk(myDir, topdown=False):\r\n",
    "        for name in files:\r\n",
    "            if name.endswith(format):\r\n",
    "                fullName = os.path.join(root, name)\r\n",
    "                fileList.append(fullName)\r\n",
    "    return fileList"
   ],
   "outputs": [],
   "metadata": {}
  },
  {
   "cell_type": "markdown",
   "source": [
    "#load the original image from the folder \"testofimagetocsv\"\n"
   ],
   "metadata": {}
  },
  {
   "cell_type": "code",
   "execution_count": 91,
   "source": [
    "myFileList = createFileList('D:/ageandgender/testofimagetocsv')\r\n",
    "myFileList"
   ],
   "outputs": [
    {
     "output_type": "stream",
     "name": "stdout",
     "text": [
      "D:/ageandgender/testofimagetocsv\n"
     ]
    },
    {
     "output_type": "execute_result",
     "data": {
      "text/plain": [
       "['D:/ageandgender/testofimagetocsv\\\\18_1_0_20170109214557098.jpg.chip.jpg',\n",
       " 'D:/ageandgender/testofimagetocsv\\\\1_0_0_20161219140623097.jpg.chip.jpg',\n",
       " 'D:/ageandgender/testofimagetocsv\\\\hello.jpg']"
      ]
     },
     "metadata": {},
     "execution_count": 91
    }
   ],
   "metadata": {
    "scrolled": true
   }
  },
  {
   "cell_type": "code",
   "execution_count": 92,
   "source": [
    "new_dict = {\r\n",
    "    'sn':[1],\r\n",
    "    'age':[10],\r\n",
    "    'gender':[0],\r\n",
    "    'image_name':['test.jpg'],\r\n",
    "    'pixel':[[34,656,34,34,34,34,34]]\r\n",
    "    }\r\n",
    "df = pd.DataFrame(new_dict)\r\n",
    "for en,file in enumerate(myFileList):\r\n",
    "    #     print(file)\r\n",
    "    img_file = Image.open(file)\r\n",
    "    width, height = img_file.size\r\n",
    "    # print('width,height',width,height)\r\n",
    "    format=img_file.format\r\n",
    "    mode=img_file.mode\r\n",
    "\r\n",
    "    #converting into gray scale\r\n",
    "    img_grey = img_file.convert('L')\r\n",
    "    \r\n",
    "    #converting into numpyarray\r\n",
    "    #value=np.asarray(img_grey)\r\n",
    "    value=np.asarray(img_grey.getdata(),dtype=np.int).reshape((img_grey.size[1],img_grey.size[0]))\r\n",
    "    # print('value:',type(value),value)    \r\n",
    "    \r\n",
    "    #pandas feature 2d to 1d \r\n",
    "    value=value.flatten()\r\n",
    "    # print(type(value))\r\n",
    "    # print(value.shape)\r\n",
    "    tostr = lambda x: [str(y) for y in x]\r\n",
    "    \r\n",
    "    name_array = ' '.join(tostr(value))\r\n",
    "    # print(name_array)\r\n",
    "    # ,age,gender,image_name,pixel\r\n",
    "    # print(new_data)\r\n",
    "    df.loc[en] = [1,12,0,'apple.jpg',name_array]\r\n",
    "df.to_csv('dataset.csv',index=False)    "
   ],
   "outputs": [],
   "metadata": {}
  },
  {
   "cell_type": "code",
   "execution_count": 93,
   "source": [
    "df = pd.read_csv('dataset.csv')\r\n",
    "df.head()"
   ],
   "outputs": [
    {
     "output_type": "execute_result",
     "data": {
      "text/plain": [
       "   sn  age  gender image_name  \\\n",
       "0   1   12       0  apple.jpg   \n",
       "1   1   12       0  apple.jpg   \n",
       "2   1   12       0  apple.jpg   \n",
       "\n",
       "                                               pixel  \n",
       "0  92 89 84 80 79 77 75 73 75 72 67 62 58 56 57 5...  \n",
       "1  122 124 126 129 133 136 138 140 147 149 152 15...  \n",
       "2  92 89 84 80 79 77 75 73 75 72 67 62 58 56 57 5...  "
      ],
      "text/html": [
       "<div>\n",
       "<style scoped>\n",
       "    .dataframe tbody tr th:only-of-type {\n",
       "        vertical-align: middle;\n",
       "    }\n",
       "\n",
       "    .dataframe tbody tr th {\n",
       "        vertical-align: top;\n",
       "    }\n",
       "\n",
       "    .dataframe thead th {\n",
       "        text-align: right;\n",
       "    }\n",
       "</style>\n",
       "<table border=\"1\" class=\"dataframe\">\n",
       "  <thead>\n",
       "    <tr style=\"text-align: right;\">\n",
       "      <th></th>\n",
       "      <th>sn</th>\n",
       "      <th>age</th>\n",
       "      <th>gender</th>\n",
       "      <th>image_name</th>\n",
       "      <th>pixel</th>\n",
       "    </tr>\n",
       "  </thead>\n",
       "  <tbody>\n",
       "    <tr>\n",
       "      <th>0</th>\n",
       "      <td>1</td>\n",
       "      <td>12</td>\n",
       "      <td>0</td>\n",
       "      <td>apple.jpg</td>\n",
       "      <td>92 89 84 80 79 77 75 73 75 72 67 62 58 56 57 5...</td>\n",
       "    </tr>\n",
       "    <tr>\n",
       "      <th>1</th>\n",
       "      <td>1</td>\n",
       "      <td>12</td>\n",
       "      <td>0</td>\n",
       "      <td>apple.jpg</td>\n",
       "      <td>122 124 126 129 133 136 138 140 147 149 152 15...</td>\n",
       "    </tr>\n",
       "    <tr>\n",
       "      <th>2</th>\n",
       "      <td>1</td>\n",
       "      <td>12</td>\n",
       "      <td>0</td>\n",
       "      <td>apple.jpg</td>\n",
       "      <td>92 89 84 80 79 77 75 73 75 72 67 62 58 56 57 5...</td>\n",
       "    </tr>\n",
       "  </tbody>\n",
       "</table>\n",
       "</div>"
      ]
     },
     "metadata": {},
     "execution_count": 93
    }
   ],
   "metadata": {}
  },
  {
   "cell_type": "code",
   "execution_count": null,
   "source": [],
   "outputs": [],
   "metadata": {}
  },
  {
   "cell_type": "code",
   "execution_count": 32,
   "source": [],
   "outputs": [],
   "metadata": {}
  }
 ],
 "metadata": {
  "kernelspec": {
   "name": "python3",
   "display_name": "Python 3.7.9 64-bit ('myenv': conda)"
  },
  "language_info": {
   "codemirror_mode": {
    "name": "ipython",
    "version": 3
   },
   "file_extension": ".py",
   "mimetype": "text/x-python",
   "name": "python",
   "nbconvert_exporter": "python",
   "pygments_lexer": "ipython3",
   "version": "3.7.9"
  },
  "interpreter": {
   "hash": "1f584d1f2099a3b6b1aabed6fa6c4f9531bcc1f97f929a8d4f3fbf52265911e6"
  }
 },
 "nbformat": 4,
 "nbformat_minor": 5
}