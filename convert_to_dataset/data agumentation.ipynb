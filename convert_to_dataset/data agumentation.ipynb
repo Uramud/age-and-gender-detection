{
 "cells": [
  {
   "cell_type": "code",
   "execution_count": 93,
   "source": [
    "import csv\r\n",
    "import pandas as pd\r\n",
    "import os, os.path,time\r\n",
    "import matplotlib.pyplot as plt\r\n",
    "import numpy as np\r\n",
    "from numpy import expand_dims\r\n",
    "import cv2\r\n",
    "from PIL import Image\r\n",
    "from keras.preprocessing.image import ImageDataGenerator\r\n"
   ],
   "outputs": [],
   "metadata": {}
  },
  {
   "cell_type": "code",
   "execution_count": 94,
   "source": [
    "data=pd.read_csv(\"dataset.csv\")\r\n",
    "data.head()"
   ],
   "outputs": [
    {
     "output_type": "execute_result",
     "data": {
      "text/html": [
       "<div>\n",
       "<style scoped>\n",
       "    .dataframe tbody tr th:only-of-type {\n",
       "        vertical-align: middle;\n",
       "    }\n",
       "\n",
       "    .dataframe tbody tr th {\n",
       "        vertical-align: top;\n",
       "    }\n",
       "\n",
       "    .dataframe thead th {\n",
       "        text-align: right;\n",
       "    }\n",
       "</style>\n",
       "<table border=\"1\" class=\"dataframe\">\n",
       "  <thead>\n",
       "    <tr style=\"text-align: right;\">\n",
       "      <th></th>\n",
       "      <th>age</th>\n",
       "      <th>gender</th>\n",
       "      <th>image_name</th>\n",
       "      <th>pixels</th>\n",
       "    </tr>\n",
       "  </thead>\n",
       "  <tbody>\n",
       "    <tr>\n",
       "      <th>0</th>\n",
       "      <td>25</td>\n",
       "      <td>1</td>\n",
       "      <td>first.jpg</td>\n",
       "      <td>99 28 128 201 206 201 186 139 84 71 28 118 214...</td>\n",
       "    </tr>\n",
       "    <tr>\n",
       "      <th>1</th>\n",
       "      <td>26</td>\n",
       "      <td>1</td>\n",
       "      <td>first.jpg</td>\n",
       "      <td>91 142 172 187 195 194 189 178 111 53 112 157 ...</td>\n",
       "    </tr>\n",
       "    <tr>\n",
       "      <th>2</th>\n",
       "      <td>30</td>\n",
       "      <td>1</td>\n",
       "      <td>first.jpg</td>\n",
       "      <td>106 53 81 100 132 159 149 141 118 70 48 82 110...</td>\n",
       "    </tr>\n",
       "  </tbody>\n",
       "</table>\n",
       "</div>"
      ],
      "text/plain": [
       "   age  gender image_name                                             pixels\n",
       "0   25       1  first.jpg  99 28 128 201 206 201 186 139 84 71 28 118 214...\n",
       "1   26       1  first.jpg  91 142 172 187 195 194 189 178 111 53 112 157 ...\n",
       "2   30       1  first.jpg  106 53 81 100 132 159 149 141 118 70 48 82 110..."
      ]
     },
     "metadata": {},
     "execution_count": 94
    }
   ],
   "metadata": {}
  },
  {
   "cell_type": "code",
   "execution_count": 95,
   "source": [
    "#convert pixels into numpy array\r\n",
    "data['pixels']=data['pixels'].apply(lambda x: np.array(x.split(), dtype=\"float32\"))\r\n",
    "data.head()"
   ],
   "outputs": [
    {
     "output_type": "execute_result",
     "data": {
      "text/html": [
       "<div>\n",
       "<style scoped>\n",
       "    .dataframe tbody tr th:only-of-type {\n",
       "        vertical-align: middle;\n",
       "    }\n",
       "\n",
       "    .dataframe tbody tr th {\n",
       "        vertical-align: top;\n",
       "    }\n",
       "\n",
       "    .dataframe thead th {\n",
       "        text-align: right;\n",
       "    }\n",
       "</style>\n",
       "<table border=\"1\" class=\"dataframe\">\n",
       "  <thead>\n",
       "    <tr style=\"text-align: right;\">\n",
       "      <th></th>\n",
       "      <th>age</th>\n",
       "      <th>gender</th>\n",
       "      <th>image_name</th>\n",
       "      <th>pixels</th>\n",
       "    </tr>\n",
       "  </thead>\n",
       "  <tbody>\n",
       "    <tr>\n",
       "      <th>0</th>\n",
       "      <td>25</td>\n",
       "      <td>1</td>\n",
       "      <td>first.jpg</td>\n",
       "      <td>[99.0, 28.0, 128.0, 201.0, 206.0, 201.0, 186.0...</td>\n",
       "    </tr>\n",
       "    <tr>\n",
       "      <th>1</th>\n",
       "      <td>26</td>\n",
       "      <td>1</td>\n",
       "      <td>first.jpg</td>\n",
       "      <td>[91.0, 142.0, 172.0, 187.0, 195.0, 194.0, 189....</td>\n",
       "    </tr>\n",
       "    <tr>\n",
       "      <th>2</th>\n",
       "      <td>30</td>\n",
       "      <td>1</td>\n",
       "      <td>first.jpg</td>\n",
       "      <td>[106.0, 53.0, 81.0, 100.0, 132.0, 159.0, 149.0...</td>\n",
       "    </tr>\n",
       "  </tbody>\n",
       "</table>\n",
       "</div>"
      ],
      "text/plain": [
       "   age  gender image_name                                             pixels\n",
       "0   25       1  first.jpg  [99.0, 28.0, 128.0, 201.0, 206.0, 201.0, 186.0...\n",
       "1   26       1  first.jpg  [91.0, 142.0, 172.0, 187.0, 195.0, 194.0, 189....\n",
       "2   30       1  first.jpg  [106.0, 53.0, 81.0, 100.0, 132.0, 159.0, 149.0..."
      ]
     },
     "metadata": {},
     "execution_count": 95
    }
   ],
   "metadata": {}
  },
  {
   "cell_type": "markdown",
   "source": [
    "# Checking dimension and length of data"
   ],
   "metadata": {}
  },
  {
   "cell_type": "code",
   "execution_count": 96,
   "source": [
    "# arr = []\r\n",
    "# for i in range(len(data)):\r\n",
    "#     arr.append((data['pixels'][i]).shape)\r\n",
    "#     print(f\"Dimension of {i} image :\",arr[i])\r\n",
    "\r\n",
    "for i in range(len(data)):\r\n",
    "    print(f\"Dimension of {i} image :\",(data['pixels'][i]).shape)\r\n",
    "# print(arr[:1])\r\n",
    "print(\"numbers of data in a dataset : \",len(data))"
   ],
   "outputs": [
    {
     "output_type": "stream",
     "name": "stdout",
     "text": [
      "Dimension of 0 image : (100,)\n",
      "Dimension of 1 image : (100,)\n",
      "Dimension of 2 image : (100,)\n",
      "numbers of data in a dataset :  3\n"
     ]
    }
   ],
   "metadata": {}
  },
  {
   "cell_type": "code",
   "execution_count": 107,
   "source": [
    "X = []\r\n",
    "for i in range(len(data)):\r\n",
    "    print(data['pixels'][i].dtype)\r\n",
    "    print(data['pixels'][i].shape)\r\n",
    "    X.append(np.array(data['pixels'].tolist()))\r\n"
   ],
   "outputs": [
    {
     "output_type": "stream",
     "name": "stdout",
     "text": [
      "float32\n",
      "(100,)\n",
      "float32\n",
      "(100,)\n",
      "float32\n",
      "(100,)\n",
      "[array([[ 99.,  28., 128., 201., 206., 201., 186., 139.,  84.,  71.,  28.,\n",
      "        118., 214., 211., 217., 214., 208., 202., 151.,  53.,  64., 187.,\n",
      "        207., 200., 178., 177., 198., 202., 170.,  53.,  79.,  82., 164.,\n",
      "        176.,  89.,  93., 118., 165., 187., 117.,  97., 131., 186., 196.,\n",
      "        159., 129., 124., 170., 196., 155., 192., 203., 202., 193., 194.,\n",
      "        206., 204., 201., 187., 149., 150., 170., 135., 157., 182., 185.,\n",
      "        183., 173., 168., 143.,  65., 166., 144., 154., 162., 162., 168.,\n",
      "        169., 167., 105.,  23., 134., 168., 158., 178., 181., 176., 158.,\n",
      "        112.,  87.,  29.,  65., 177., 188., 186., 161., 113.,  85.,  97.,\n",
      "        101.],\n",
      "       [ 91., 142., 172., 187., 195., 194., 189., 178., 111.,  53., 112.,\n",
      "        157., 176., 193., 207., 213., 208., 200., 158.,  64., 132., 157.,\n",
      "        157., 174., 162., 175., 215., 190., 133.,  84., 155., 158., 161.,\n",
      "        133., 136., 157., 204., 134., 120.,  76., 145., 169., 181., 160.,\n",
      "        170., 180., 187., 157., 162., 102., 133., 147., 180., 202., 206.,\n",
      "        200., 171., 186., 187., 131., 143., 147., 165., 195., 210., 200.,\n",
      "        181., 179., 182., 108., 126., 169., 184., 197., 198., 171., 164.,\n",
      "        155., 164.,  73., 130., 133., 172., 190., 201., 196., 191., 186.,\n",
      "        121.,  53., 143.,  84., 103., 145., 179., 199., 207., 192.,  86.,\n",
      "         56.],\n",
      "       [106.,  53.,  81., 100., 132., 159., 149., 141., 118.,  70.,  48.,\n",
      "         82., 110., 140., 173., 186., 194., 201., 198., 116.,  82., 123.,\n",
      "        130., 164., 183., 190., 195., 204., 211., 155., 117., 125., 114.,\n",
      "        116., 142., 185., 194., 161., 145., 125., 142., 158., 145., 148.,\n",
      "        160., 180., 195., 135., 144.,  99., 132., 172., 188., 179., 176.,\n",
      "        182., 202., 197., 199., 131.,  92.,  97., 168., 182., 171., 179.,\n",
      "        201., 200., 164.,  84.,  51.,  67., 116., 154., 164., 173., 192.,\n",
      "        191.,  64.,  72.,  44.,  54.,  91., 132., 158., 173., 183.,  86.,\n",
      "         32.,  88.,  54.,  54.,  86., 131., 171., 172.,  80.,  23.,  55.,\n",
      "         82.]], dtype=float32), array([[ 99.,  28., 128., 201., 206., 201., 186., 139.,  84.,  71.,  28.,\n",
      "        118., 214., 211., 217., 214., 208., 202., 151.,  53.,  64., 187.,\n",
      "        207., 200., 178., 177., 198., 202., 170.,  53.,  79.,  82., 164.,\n",
      "        176.,  89.,  93., 118., 165., 187., 117.,  97., 131., 186., 196.,\n",
      "        159., 129., 124., 170., 196., 155., 192., 203., 202., 193., 194.,\n",
      "        206., 204., 201., 187., 149., 150., 170., 135., 157., 182., 185.,\n",
      "        183., 173., 168., 143.,  65., 166., 144., 154., 162., 162., 168.,\n",
      "        169., 167., 105.,  23., 134., 168., 158., 178., 181., 176., 158.,\n",
      "        112.,  87.,  29.,  65., 177., 188., 186., 161., 113.,  85.,  97.,\n",
      "        101.],\n",
      "       [ 91., 142., 172., 187., 195., 194., 189., 178., 111.,  53., 112.,\n",
      "        157., 176., 193., 207., 213., 208., 200., 158.,  64., 132., 157.,\n",
      "        157., 174., 162., 175., 215., 190., 133.,  84., 155., 158., 161.,\n",
      "        133., 136., 157., 204., 134., 120.,  76., 145., 169., 181., 160.,\n",
      "        170., 180., 187., 157., 162., 102., 133., 147., 180., 202., 206.,\n",
      "        200., 171., 186., 187., 131., 143., 147., 165., 195., 210., 200.,\n",
      "        181., 179., 182., 108., 126., 169., 184., 197., 198., 171., 164.,\n",
      "        155., 164.,  73., 130., 133., 172., 190., 201., 196., 191., 186.,\n",
      "        121.,  53., 143.,  84., 103., 145., 179., 199., 207., 192.,  86.,\n",
      "         56.],\n",
      "       [106.,  53.,  81., 100., 132., 159., 149., 141., 118.,  70.,  48.,\n",
      "         82., 110., 140., 173., 186., 194., 201., 198., 116.,  82., 123.,\n",
      "        130., 164., 183., 190., 195., 204., 211., 155., 117., 125., 114.,\n",
      "        116., 142., 185., 194., 161., 145., 125., 142., 158., 145., 148.,\n",
      "        160., 180., 195., 135., 144.,  99., 132., 172., 188., 179., 176.,\n",
      "        182., 202., 197., 199., 131.,  92.,  97., 168., 182., 171., 179.,\n",
      "        201., 200., 164.,  84.,  51.,  67., 116., 154., 164., 173., 192.,\n",
      "        191.,  64.,  72.,  44.,  54.,  91., 132., 158., 173., 183.,  86.,\n",
      "         32.,  88.,  54.,  54.,  86., 131., 171., 172.,  80.,  23.,  55.,\n",
      "         82.]], dtype=float32), array([[ 99.,  28., 128., 201., 206., 201., 186., 139.,  84.,  71.,  28.,\n",
      "        118., 214., 211., 217., 214., 208., 202., 151.,  53.,  64., 187.,\n",
      "        207., 200., 178., 177., 198., 202., 170.,  53.,  79.,  82., 164.,\n",
      "        176.,  89.,  93., 118., 165., 187., 117.,  97., 131., 186., 196.,\n",
      "        159., 129., 124., 170., 196., 155., 192., 203., 202., 193., 194.,\n",
      "        206., 204., 201., 187., 149., 150., 170., 135., 157., 182., 185.,\n",
      "        183., 173., 168., 143.,  65., 166., 144., 154., 162., 162., 168.,\n",
      "        169., 167., 105.,  23., 134., 168., 158., 178., 181., 176., 158.,\n",
      "        112.,  87.,  29.,  65., 177., 188., 186., 161., 113.,  85.,  97.,\n",
      "        101.],\n",
      "       [ 91., 142., 172., 187., 195., 194., 189., 178., 111.,  53., 112.,\n",
      "        157., 176., 193., 207., 213., 208., 200., 158.,  64., 132., 157.,\n",
      "        157., 174., 162., 175., 215., 190., 133.,  84., 155., 158., 161.,\n",
      "        133., 136., 157., 204., 134., 120.,  76., 145., 169., 181., 160.,\n",
      "        170., 180., 187., 157., 162., 102., 133., 147., 180., 202., 206.,\n",
      "        200., 171., 186., 187., 131., 143., 147., 165., 195., 210., 200.,\n",
      "        181., 179., 182., 108., 126., 169., 184., 197., 198., 171., 164.,\n",
      "        155., 164.,  73., 130., 133., 172., 190., 201., 196., 191., 186.,\n",
      "        121.,  53., 143.,  84., 103., 145., 179., 199., 207., 192.,  86.,\n",
      "         56.],\n",
      "       [106.,  53.,  81., 100., 132., 159., 149., 141., 118.,  70.,  48.,\n",
      "         82., 110., 140., 173., 186., 194., 201., 198., 116.,  82., 123.,\n",
      "        130., 164., 183., 190., 195., 204., 211., 155., 117., 125., 114.,\n",
      "        116., 142., 185., 194., 161., 145., 125., 142., 158., 145., 148.,\n",
      "        160., 180., 195., 135., 144.,  99., 132., 172., 188., 179., 176.,\n",
      "        182., 202., 197., 199., 131.,  92.,  97., 168., 182., 171., 179.,\n",
      "        201., 200., 164.,  84.,  51.,  67., 116., 154., 164., 173., 192.,\n",
      "        191.,  64.,  72.,  44.,  54.,  91., 132., 158., 173., 183.,  86.,\n",
      "         32.,  88.,  54.,  54.,  86., 131., 171., 172.,  80.,  23.,  55.,\n",
      "         82.]], dtype=float32)]\n"
     ]
    }
   ],
   "metadata": {}
  },
  {
   "cell_type": "code",
   "execution_count": null,
   "source": [],
   "outputs": [],
   "metadata": {}
  },
  {
   "cell_type": "markdown",
   "source": [
    "# creating new csv file for data agumentation"
   ],
   "metadata": {}
  },
  {
   "cell_type": "code",
   "execution_count": 97,
   "source": [
    "new_dict = {\r\n",
    "    'age':[],\r\n",
    "    'gender':[],\r\n",
    "    'image_name':[],\r\n",
    "    'pixels':[]\r\n",
    "    }\r\n",
    "df = pd.DataFrame(new_dict)\r\n",
    "for en,file in enumerate(data):\r\n",
    "    print((file))\r\n",
    "df.to_csv('dataset2.csv',index=False)   "
   ],
   "outputs": [
    {
     "output_type": "stream",
     "name": "stdout",
     "text": [
      "age\n",
      "gender\n",
      "image_name\n",
      "pixels\n"
     ]
    }
   ],
   "metadata": {}
  },
  {
   "cell_type": "code",
   "execution_count": 100,
   "source": [
    "dataImage = data['pixels'][0]\r\n",
    "imageNew = expand_dims(dataImage, 0)\r\n",
    "imageDataGen = ImageDataGenerator(horizontal_flip=True)\r\n",
    "iterator = imageDataGen.flow(imageNew, batch_size=1)"
   ],
   "outputs": [
    {
     "output_type": "error",
     "ename": "ValueError",
     "evalue": "('Input data in `NumpyArrayIterator` should have rank 4. You passed an array with shape', (1, 100))",
     "traceback": [
      "\u001b[1;31m---------------------------------------------------------------------------\u001b[0m",
      "\u001b[1;31mValueError\u001b[0m                                Traceback (most recent call last)",
      "\u001b[1;32m~\\AppData\\Local\\Temp/ipykernel_5340/1429204249.py\u001b[0m in \u001b[0;36m<module>\u001b[1;34m\u001b[0m\n\u001b[0;32m      2\u001b[0m \u001b[0mimageNew\u001b[0m \u001b[1;33m=\u001b[0m \u001b[0mexpand_dims\u001b[0m\u001b[1;33m(\u001b[0m\u001b[0mdataImage\u001b[0m\u001b[1;33m,\u001b[0m \u001b[1;36m0\u001b[0m\u001b[1;33m)\u001b[0m\u001b[1;33m\u001b[0m\u001b[1;33m\u001b[0m\u001b[0m\n\u001b[0;32m      3\u001b[0m \u001b[0mimageDataGen\u001b[0m \u001b[1;33m=\u001b[0m \u001b[0mImageDataGenerator\u001b[0m\u001b[1;33m(\u001b[0m\u001b[0mhorizontal_flip\u001b[0m\u001b[1;33m=\u001b[0m\u001b[1;32mTrue\u001b[0m\u001b[1;33m)\u001b[0m\u001b[1;33m\u001b[0m\u001b[1;33m\u001b[0m\u001b[0m\n\u001b[1;32m----> 4\u001b[1;33m \u001b[0miterator\u001b[0m \u001b[1;33m=\u001b[0m \u001b[0mimageDataGen\u001b[0m\u001b[1;33m.\u001b[0m\u001b[0mflow\u001b[0m\u001b[1;33m(\u001b[0m\u001b[0mimageNew\u001b[0m\u001b[1;33m,\u001b[0m \u001b[0mbatch_size\u001b[0m\u001b[1;33m=\u001b[0m\u001b[1;36m1\u001b[0m\u001b[1;33m)\u001b[0m\u001b[1;33m\u001b[0m\u001b[1;33m\u001b[0m\u001b[0m\n\u001b[0m",
      "\u001b[1;32mC:\\Python39\\lib\\site-packages\\keras\\preprocessing\\image.py\u001b[0m in \u001b[0;36mflow\u001b[1;34m(self, x, y, batch_size, shuffle, sample_weight, seed, save_to_dir, save_prefix, save_format, subset)\u001b[0m\n\u001b[0;32m    882\u001b[0m \u001b[1;33m\u001b[0m\u001b[0m\n\u001b[0;32m    883\u001b[0m     \"\"\"\n\u001b[1;32m--> 884\u001b[1;33m     return NumpyArrayIterator(\n\u001b[0m\u001b[0;32m    885\u001b[0m         \u001b[0mx\u001b[0m\u001b[1;33m,\u001b[0m\u001b[1;33m\u001b[0m\u001b[1;33m\u001b[0m\u001b[0m\n\u001b[0;32m    886\u001b[0m         \u001b[0my\u001b[0m\u001b[1;33m,\u001b[0m\u001b[1;33m\u001b[0m\u001b[1;33m\u001b[0m\u001b[0m\n",
      "\u001b[1;32mC:\\Python39\\lib\\site-packages\\keras\\preprocessing\\image.py\u001b[0m in \u001b[0;36m__init__\u001b[1;34m(self, x, y, image_data_generator, batch_size, shuffle, sample_weight, seed, data_format, save_to_dir, save_prefix, save_format, subset, dtype)\u001b[0m\n\u001b[0;32m    461\u001b[0m         \u001b[0mdtype\u001b[0m \u001b[1;33m=\u001b[0m \u001b[0mbackend\u001b[0m\u001b[1;33m.\u001b[0m\u001b[0mfloatx\u001b[0m\u001b[1;33m(\u001b[0m\u001b[1;33m)\u001b[0m\u001b[1;33m\u001b[0m\u001b[1;33m\u001b[0m\u001b[0m\n\u001b[0;32m    462\u001b[0m       \u001b[0mkwargs\u001b[0m\u001b[1;33m[\u001b[0m\u001b[1;34m'dtype'\u001b[0m\u001b[1;33m]\u001b[0m \u001b[1;33m=\u001b[0m \u001b[0mdtype\u001b[0m\u001b[1;33m\u001b[0m\u001b[1;33m\u001b[0m\u001b[0m\n\u001b[1;32m--> 463\u001b[1;33m     super(NumpyArrayIterator, self).__init__(\n\u001b[0m\u001b[0;32m    464\u001b[0m         \u001b[0mx\u001b[0m\u001b[1;33m,\u001b[0m \u001b[0my\u001b[0m\u001b[1;33m,\u001b[0m \u001b[0mimage_data_generator\u001b[0m\u001b[1;33m,\u001b[0m\u001b[1;33m\u001b[0m\u001b[1;33m\u001b[0m\u001b[0m\n\u001b[0;32m    465\u001b[0m         \u001b[0mbatch_size\u001b[0m\u001b[1;33m=\u001b[0m\u001b[0mbatch_size\u001b[0m\u001b[1;33m,\u001b[0m\u001b[1;33m\u001b[0m\u001b[1;33m\u001b[0m\u001b[0m\n",
      "\u001b[1;32mC:\\Python39\\lib\\site-packages\\keras_preprocessing\\image\\numpy_array_iterator.py\u001b[0m in \u001b[0;36m__init__\u001b[1;34m(self, x, y, image_data_generator, batch_size, shuffle, sample_weight, seed, data_format, save_to_dir, save_prefix, save_format, subset, dtype)\u001b[0m\n\u001b[0;32m    122\u001b[0m         \u001b[0mself\u001b[0m\u001b[1;33m.\u001b[0m\u001b[0mx_misc\u001b[0m \u001b[1;33m=\u001b[0m \u001b[0mx_misc\u001b[0m\u001b[1;33m\u001b[0m\u001b[1;33m\u001b[0m\u001b[0m\n\u001b[0;32m    123\u001b[0m         \u001b[1;32mif\u001b[0m \u001b[0mself\u001b[0m\u001b[1;33m.\u001b[0m\u001b[0mx\u001b[0m\u001b[1;33m.\u001b[0m\u001b[0mndim\u001b[0m \u001b[1;33m!=\u001b[0m \u001b[1;36m4\u001b[0m\u001b[1;33m:\u001b[0m\u001b[1;33m\u001b[0m\u001b[1;33m\u001b[0m\u001b[0m\n\u001b[1;32m--> 124\u001b[1;33m             raise ValueError('Input data in `NumpyArrayIterator` '\n\u001b[0m\u001b[0;32m    125\u001b[0m                              \u001b[1;34m'should have rank 4. You passed an array '\u001b[0m\u001b[1;33m\u001b[0m\u001b[1;33m\u001b[0m\u001b[0m\n\u001b[0;32m    126\u001b[0m                              'with shape', self.x.shape)\n",
      "\u001b[1;31mValueError\u001b[0m: ('Input data in `NumpyArrayIterator` should have rank 4. You passed an array with shape', (1, 100))"
     ]
    }
   ],
   "metadata": {}
  },
  {
   "cell_type": "code",
   "execution_count": 24,
   "source": [
    "new_dict = {\r\n",
    "    'sn':[],\r\n",
    "    'age':[],\r\n",
    "    'gender':[],\r\n",
    "    'image_name':[],\r\n",
    "    'pixel':[]\r\n",
    "    }\r\n",
    "df = pd.DataFrame(new_dict)\r\n",
    "for en,file in enumerate(load_images_from_folder()):\r\n",
    "    print(file)\r\n",
    "    img_file = Image.open(file)\r\n",
    "    width, height = img_file.size\r\n",
    "    \r\n",
    "    # print('width,height',width,height) \r\n",
    "    #ans is 200 200\r\n",
    "\r\n",
    "    format=img_file.format\r\n",
    "    mode=img_file.mode\r\n",
    "\r\n",
    "    #converting into gray scale\r\n",
    "    #here L is single channel mode which is generally for converting into greyscale\r\n",
    "    img_grey = img_file.convert('L')\r\n",
    "    \r\n",
    "    #converting into numpyarray\r\n",
    "    #value=np.asarray(img_grey)\r\n",
    "    value=np.asarray(img_grey.getdata(),dtype=np.int).reshape((img_grey.size[1],img_grey.size[0]))\r\n",
    "    # print('value:',type(value),value)    \r\n",
    "    \r\n",
    "    #pandas feature 2d to 1d \r\n",
    "    value=value.flatten()\r\n",
    "    # print(type(value))\r\n",
    "    # print(value.shape)\r\n",
    "    tostr = lambda x: [str(y) for y in x]\r\n",
    "    \r\n",
    "    name_array = ' '.join(tostr(value))\r\n",
    "    # print(name_array)\r\n",
    "    # ,age,gender,image_name,pixel\r\n",
    "    # print(new_data)\r\n",
    "    df.loc[en] = [1,12,0,'apple.jpg',name_array]\r\n",
    "df.to_csv('dataset.csv',index=False)"
   ],
   "outputs": [],
   "metadata": {}
  },
  {
   "cell_type": "code",
   "execution_count": 12,
   "source": [],
   "outputs": [],
   "metadata": {}
  },
  {
   "cell_type": "code",
   "execution_count": 6,
   "source": [],
   "outputs": [
    {
     "output_type": "execute_result",
     "data": {
      "text/html": [
       "<div>\n",
       "<style scoped>\n",
       "    .dataframe tbody tr th:only-of-type {\n",
       "        vertical-align: middle;\n",
       "    }\n",
       "\n",
       "    .dataframe tbody tr th {\n",
       "        vertical-align: top;\n",
       "    }\n",
       "\n",
       "    .dataframe thead th {\n",
       "        text-align: right;\n",
       "    }\n",
       "</style>\n",
       "<table border=\"1\" class=\"dataframe\">\n",
       "  <thead>\n",
       "    <tr style=\"text-align: right;\">\n",
       "      <th></th>\n",
       "      <th>sn</th>\n",
       "      <th>age</th>\n",
       "      <th>gender</th>\n",
       "      <th>image_name</th>\n",
       "      <th>pixel</th>\n",
       "    </tr>\n",
       "  </thead>\n",
       "  <tbody>\n",
       "  </tbody>\n",
       "</table>\n",
       "</div>"
      ],
      "text/plain": [
       "Empty DataFrame\n",
       "Columns: [sn, age, gender, image_name, pixel]\n",
       "Index: []"
      ]
     },
     "metadata": {},
     "execution_count": 6
    }
   ],
   "metadata": {}
  },
  {
   "cell_type": "code",
   "execution_count": null,
   "source": [],
   "outputs": [],
   "metadata": {}
  },
  {
   "cell_type": "code",
   "execution_count": 32,
   "source": [],
   "outputs": [],
   "metadata": {}
  }
 ],
 "metadata": {
  "kernelspec": {
   "name": "python3",
   "display_name": "Python 3.9.7 64-bit"
  },
  "language_info": {
   "codemirror_mode": {
    "name": "ipython",
    "version": 3
   },
   "file_extension": ".py",
   "mimetype": "text/x-python",
   "name": "python",
   "nbconvert_exporter": "python",
   "pygments_lexer": "ipython3",
   "version": "3.9.7"
  },
  "interpreter": {
   "hash": "63fd5069d213b44bf678585dea6b12cceca9941eaf7f819626cde1f2670de90d"
  }
 },
 "nbformat": 4,
 "nbformat_minor": 5
}