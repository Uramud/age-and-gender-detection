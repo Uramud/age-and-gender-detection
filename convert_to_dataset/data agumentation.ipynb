{
 "cells": [
  {
   "cell_type": "code",
   "execution_count": 1,
   "id": "fd131e61",
   "metadata": {},
   "outputs": [],
   "source": [
    "from PIL import Image, ImageEnhance\n",
    "import pandas as pd\n",
    "import os, os.path,time\n",
    "import csv\n",
    "import numpy as np\n",
    "import matplotlib.pyplot as plt"
   ]
  },
  {
   "cell_type": "code",
   "execution_count": 2,
   "id": "0f58d42c",
   "metadata": {},
   "outputs": [],
   "source": [
    "Dimension = 128"
   ]
  },
  {
   "cell_type": "code",
   "execution_count": 3,
   "id": "19a141a5",
   "metadata": {},
   "outputs": [],
   "source": [
    "fileList = []\n",
    "def createFileList(myDir, format='.jpg'):\n",
    "    \n",
    "    print(myDir)\n",
    "    for root, dirs, files in os.walk(myDir, topdown=False):\n",
    "        for name in files:\n",
    "            if name.endswith(format):\n",
    "                fullName = os.path.join(root, name)\n",
    "                fileList.append(fullName)\n",
    "    return fileList"
   ]
  },
  {
   "cell_type": "code",
   "execution_count": 4,
   "id": "d77600ad",
   "metadata": {},
   "outputs": [
    {
     "name": "stdout",
     "output_type": "stream",
     "text": [
      "D:/age-and-gender-detection/dataset_Face\n"
     ]
    }
   ],
   "source": [
    "myFileList = createFileList('D:/age-and-gender-detection/dataset_Face')"
   ]
  },
  {
   "cell_type": "code",
   "execution_count": 5,
   "id": "e2300abf",
   "metadata": {},
   "outputs": [],
   "source": [
    "def split_file_name(filename):\n",
    "    split_data = filename.split('_')\n",
    "    # split_data2 = split_data[2].split('.')\n",
    "    return (split_data)"
   ]
  },
  {
   "cell_type": "code",
   "execution_count": 6,
   "id": "e2e057ff",
   "metadata": {},
   "outputs": [],
   "source": [
    "factor = 2  #increase Contrast\n",
    "new_dict = {\n",
    "    'age':[],\n",
    "    'gender':[],\n",
    "    'pixels':[]\n",
    "    }\n",
    "\n",
    "df = pd.DataFrame(new_dict)\n",
    "for en,file in enumerate(myFileList):\n",
    "    img_file = Image.open(file)\n",
    "    enhancer = ImageEnhance.Contrast(img_file)\n",
    "    img_output = enhancer.enhance(factor)\n",
    "    img_file = img_output.resize((Dimension,Dimension))\n",
    "    width, height = img_file.size\n",
    "     \n",
    "    # print(type(en))\n",
    "   \n",
    "    head, tail = os.path.split(file)\n",
    "    # print(tail)\n",
    "    split_data = split_file_name(tail) \n",
    "    # print(split_data)\n",
    "\n",
    "    format=img_file.format\n",
    "    mode=img_file.mode\n",
    "\n",
    "    img_grey = img_file.convert('L')\n",
    "    \n",
    "    value=np.asarray(img_grey.getdata(),dtype=np.int).reshape((img_grey.size[1],img_grey.size[0]))\n",
    " \n",
    "    value=value.flatten()\n",
    "    tostr = lambda x: [str(y) for y in x]\n",
    "    \n",
    "    name_array = ' '.join(tostr(value))\n",
    " \n",
    "    df.loc[en] = [str(split_data[0]),str(split_data[1]),name_array]\n",
    "df.to_csv('../dataset/dataset_bright_contrast.csv',index=False)"
   ]
  },
  {
   "cell_type": "markdown",
   "id": "d4d1bc97",
   "metadata": {},
   "source": [
    "#read dataset_bright_contrast"
   ]
  }
 ],
 "metadata": {
  "interpreter": {
   "hash": "63fd5069d213b44bf678585dea6b12cceca9941eaf7f819626cde1f2670de90d"
  },
  "kernelspec": {
   "display_name": "Python 3.9.7 64-bit",
   "name": "python3"
  },
  "language_info": {
   "codemirror_mode": {
    "name": "ipython",
    "version": 3
   },
   "file_extension": ".py",
   "mimetype": "text/x-python",
   "name": "python",
   "nbconvert_exporter": "python",
   "pygments_lexer": "ipython3",
   "version": "3.9.7"
  }
 },
 "nbformat": 4,
 "nbformat_minor": 5
}
