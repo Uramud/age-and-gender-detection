{
 "cells": [
  {
   "cell_type": "code",
   "execution_count": 29,
   "source": [
    "from PIL import Image\r\n",
    "import pandas as pd\r\n",
    "import os, os.path,time\r\n",
    "import csv\r\n",
    "import matplotlib.pyplot as plt\r\n",
    "import numpy as np"
   ],
   "outputs": [],
   "metadata": {}
  },
  {
   "cell_type": "code",
   "execution_count": 40,
   "source": [
    "Dimension = 64"
   ],
   "outputs": [],
   "metadata": {}
  },
  {
   "cell_type": "code",
   "execution_count": 41,
   "source": [
    "fileList = []\r\n",
    "def createFileList(myDir, format='.jpg'):\r\n",
    "    \r\n",
    "    print(myDir)\r\n",
    "    for root, dirs, files in os.walk(myDir, topdown=False):\r\n",
    "        for name in files:\r\n",
    "            if name.endswith(format):\r\n",
    "                fullName = os.path.join(root, name)\r\n",
    "                fileList.append(fullName)\r\n",
    "    return fileList"
   ],
   "outputs": [],
   "metadata": {}
  },
  {
   "cell_type": "code",
   "execution_count": 42,
   "source": [
    "myFileList = createFileList('D:/age-and-gender-detection/testing')\r\n",
    "print(myFileList)"
   ],
   "outputs": [
    {
     "output_type": "stream",
     "name": "stdout",
     "text": [
      "D:/age-and-gender-detection/testing\n",
      "['D:/age-and-gender-detection/testing\\\\25_1_first.jpg', 'D:/age-and-gender-detection/testing\\\\26_1_first.jpg', 'D:/age-and-gender-detection/testing\\\\30_1_first.jpg']\n"
     ]
    }
   ],
   "metadata": {}
  },
  {
   "cell_type": "code",
   "execution_count": 43,
   "source": [
    "def split_file_name(filename):\r\n",
    "    split_data = filename.split('_')\r\n",
    "    split_data2 = split_data[2].split('.')\r\n",
    "    return (split_data)"
   ],
   "outputs": [],
   "metadata": {}
  },
  {
   "cell_type": "code",
   "execution_count": 44,
   "source": [
    "new_dict = {\r\n",
    "    'age':[],\r\n",
    "    'gender':[],\r\n",
    "    'image_name':[],\r\n",
    "    'pixels':[]\r\n",
    "    }\r\n",
    "\r\n",
    "df = pd.DataFrame(new_dict)\r\n",
    "for en,file in enumerate(myFileList):\r\n",
    "    img_file = Image.open(file)\r\n",
    "    img_file = img_file.transpose(Image.FLIP_LEFT_RIGHT)\r\n",
    "    img_file = img_file.resize((Dimension,Dimension))\r\n",
    "    width, height = img_file.size\r\n",
    "     \r\n",
    "    print(type(en))\r\n",
    "   \r\n",
    "    head, tail = os.path.split(file)\r\n",
    "    print(tail)\r\n",
    "    split_data = split_file_name(tail) \r\n",
    "    print(split_data)\r\n",
    "\r\n",
    "    format=img_file.format\r\n",
    "    mode=img_file.mode\r\n",
    "\r\n",
    "    img_grey = img_file.convert('L')\r\n",
    "    \r\n",
    "    value=np.asarray(img_grey.getdata(),dtype=np.int).reshape((img_grey.size[1],img_grey.size[0]))\r\n",
    " \r\n",
    "    value=value.flatten()\r\n",
    "    tostr = lambda x: [str(y) for y in x]\r\n",
    "    \r\n",
    "    name_array = ' '.join(tostr(value))\r\n",
    " \r\n",
    "    df.loc[en] = [str(split_data[0]),str(split_data[1]),str(split_data[2]),name_array]\r\n",
    "df.to_csv('../dataset/dataset2.csv',index=False)    "
   ],
   "outputs": [
    {
     "output_type": "stream",
     "name": "stdout",
     "text": [
      "<class 'int'>\n",
      "25_1_first.jpg\n",
      "['25', '1', 'first.jpg']\n",
      "<class 'int'>\n",
      "26_1_first.jpg\n",
      "['26', '1', 'first.jpg']\n",
      "<class 'int'>\n",
      "30_1_first.jpg\n",
      "['30', '1', 'first.jpg']\n"
     ]
    }
   ],
   "metadata": {}
  },
  {
   "cell_type": "markdown",
   "source": [
    "# checking  image is fliped or not?\r\n",
    " "
   ],
   "metadata": {}
  },
  {
   "cell_type": "code",
   "execution_count": 45,
   "source": [
    "# data=pd.read_csv(\"../dataset/age_gender.csv\")\r\n",
    "data=pd.read_csv(\"../dataset/dataset2.csv\")\r\n",
    "data.head()"
   ],
   "outputs": [
    {
     "output_type": "execute_result",
     "data": {
      "text/html": [
       "<div>\n",
       "<style scoped>\n",
       "    .dataframe tbody tr th:only-of-type {\n",
       "        vertical-align: middle;\n",
       "    }\n",
       "\n",
       "    .dataframe tbody tr th {\n",
       "        vertical-align: top;\n",
       "    }\n",
       "\n",
       "    .dataframe thead th {\n",
       "        text-align: right;\n",
       "    }\n",
       "</style>\n",
       "<table border=\"1\" class=\"dataframe\">\n",
       "  <thead>\n",
       "    <tr style=\"text-align: right;\">\n",
       "      <th></th>\n",
       "      <th>age</th>\n",
       "      <th>gender</th>\n",
       "      <th>image_name</th>\n",
       "      <th>pixels</th>\n",
       "    </tr>\n",
       "  </thead>\n",
       "  <tbody>\n",
       "    <tr>\n",
       "      <th>0</th>\n",
       "      <td>25</td>\n",
       "      <td>1</td>\n",
       "      <td>first.jpg</td>\n",
       "      <td>125 122 106 94 93 92 97 97 98 93 86 80 88 95 1...</td>\n",
       "    </tr>\n",
       "    <tr>\n",
       "      <th>1</th>\n",
       "      <td>26</td>\n",
       "      <td>1</td>\n",
       "      <td>first.jpg</td>\n",
       "      <td>107 66 48 58 48 37 42 44 47 65 91 120 133 148 ...</td>\n",
       "    </tr>\n",
       "    <tr>\n",
       "      <th>2</th>\n",
       "      <td>30</td>\n",
       "      <td>1</td>\n",
       "      <td>first.jpg</td>\n",
       "      <td>67 64 64 66 68 72 72 65 61 61 60 65 70 73 79 8...</td>\n",
       "    </tr>\n",
       "  </tbody>\n",
       "</table>\n",
       "</div>"
      ],
      "text/plain": [
       "   age  gender image_name                                             pixels\n",
       "0   25       1  first.jpg  125 122 106 94 93 92 97 97 98 93 86 80 88 95 1...\n",
       "1   26       1  first.jpg  107 66 48 58 48 37 42 44 47 65 91 120 133 148 ...\n",
       "2   30       1  first.jpg  67 64 64 66 68 72 72 65 61 61 60 65 70 73 79 8..."
      ]
     },
     "metadata": {},
     "execution_count": 45
    }
   ],
   "metadata": {}
  },
  {
   "cell_type": "code",
   "execution_count": 46,
   "source": [
    "#convert pixels into numpy array\r\n",
    "data['pixels']=data['pixels'].apply(lambda x: np.array(x.split(), dtype=\"float32\"))\r\n",
    "data.head()"
   ],
   "outputs": [
    {
     "output_type": "execute_result",
     "data": {
      "text/html": [
       "<div>\n",
       "<style scoped>\n",
       "    .dataframe tbody tr th:only-of-type {\n",
       "        vertical-align: middle;\n",
       "    }\n",
       "\n",
       "    .dataframe tbody tr th {\n",
       "        vertical-align: top;\n",
       "    }\n",
       "\n",
       "    .dataframe thead th {\n",
       "        text-align: right;\n",
       "    }\n",
       "</style>\n",
       "<table border=\"1\" class=\"dataframe\">\n",
       "  <thead>\n",
       "    <tr style=\"text-align: right;\">\n",
       "      <th></th>\n",
       "      <th>age</th>\n",
       "      <th>gender</th>\n",
       "      <th>image_name</th>\n",
       "      <th>pixels</th>\n",
       "    </tr>\n",
       "  </thead>\n",
       "  <tbody>\n",
       "    <tr>\n",
       "      <th>0</th>\n",
       "      <td>25</td>\n",
       "      <td>1</td>\n",
       "      <td>first.jpg</td>\n",
       "      <td>[125.0, 122.0, 106.0, 94.0, 93.0, 92.0, 97.0, ...</td>\n",
       "    </tr>\n",
       "    <tr>\n",
       "      <th>1</th>\n",
       "      <td>26</td>\n",
       "      <td>1</td>\n",
       "      <td>first.jpg</td>\n",
       "      <td>[107.0, 66.0, 48.0, 58.0, 48.0, 37.0, 42.0, 44...</td>\n",
       "    </tr>\n",
       "    <tr>\n",
       "      <th>2</th>\n",
       "      <td>30</td>\n",
       "      <td>1</td>\n",
       "      <td>first.jpg</td>\n",
       "      <td>[67.0, 64.0, 64.0, 66.0, 68.0, 72.0, 72.0, 65....</td>\n",
       "    </tr>\n",
       "  </tbody>\n",
       "</table>\n",
       "</div>"
      ],
      "text/plain": [
       "   age  gender image_name                                             pixels\n",
       "0   25       1  first.jpg  [125.0, 122.0, 106.0, 94.0, 93.0, 92.0, 97.0, ...\n",
       "1   26       1  first.jpg  [107.0, 66.0, 48.0, 58.0, 48.0, 37.0, 42.0, 44...\n",
       "2   30       1  first.jpg  [67.0, 64.0, 64.0, 66.0, 68.0, 72.0, 72.0, 65...."
      ]
     },
     "metadata": {},
     "execution_count": 46
    }
   ],
   "metadata": {}
  },
  {
   "cell_type": "code",
   "execution_count": 47,
   "source": [
    "X = np.array(data['pixels'].tolist())\r\n",
    "print(X)"
   ],
   "outputs": [
    {
     "output_type": "stream",
     "name": "stdout",
     "text": [
      "[[125. 122. 106. ...  31.  28.  25.]\n",
      " [107.  66.  48. ... 137. 169. 224.]\n",
      " [ 67.  64.  64. ...  58.  71.  72.]]\n"
     ]
    }
   ],
   "metadata": {}
  },
  {
   "cell_type": "code",
   "execution_count": 48,
   "source": [
    "data = np.reshape(X[0], (Dimension, Dimension))\r\n",
    "data = Image.fromarray(data)\r\n",
    "imgg = plt.imshow(data)\r\n",
    "plt.show(imgg)"
   ],
   "outputs": [
    {
     "output_type": "display_data",
     "data": {
      "image/png": "[encoded data removed]",
      "text/plain": [
       "<Figure size 432x288 with 1 Axes>"
      ]
     },
     "metadata": {
      "needs_background": "light"
     }
    }
   ],
   "metadata": {}
  }
 ],
 "metadata": {
  "kernelspec": {
   "name": "python3",
   "display_name": "Python 3.9.7 64-bit"
  },
  "language_info": {
   "codemirror_mode": {
    "name": "ipython",
    "version": 3
   },
   "file_extension": ".py",
   "mimetype": "text/x-python",
   "name": "python",
   "nbconvert_exporter": "python",
   "pygments_lexer": "ipython3",
   "version": "3.9.7"
  },
  "interpreter": {
   "hash": "63fd5069d213b44bf678585dea6b12cceca9941eaf7f819626cde1f2670de90d"
  }
 },
 "nbformat": 4,
 "nbformat_minor": 5
}