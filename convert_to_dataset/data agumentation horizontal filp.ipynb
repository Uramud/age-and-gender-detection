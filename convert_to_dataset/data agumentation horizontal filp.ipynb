{
 "cells": [
  {
   "cell_type": "code",
   "execution_count": 1,
   "source": [
    "from PIL import Image\r\n",
    "import pandas as pd\r\n",
    "import os, os.path,time\r\n",
    "import csv\r\n",
    "import matplotlib.pyplot as plt\r\n",
    "import numpy as np"
   ],
   "outputs": [],
   "metadata": {}
  },
  {
   "cell_type": "code",
   "execution_count": 2,
   "source": [
    "Dimension = 64"
   ],
   "outputs": [],
   "metadata": {}
  },
  {
   "cell_type": "code",
   "execution_count": 3,
   "source": [
    "fileList = []\r\n",
    "def createFileList(myDir, format='.jpg'):\r\n",
    "    \r\n",
    "    print(myDir)\r\n",
    "    for root, dirs, files in os.walk(myDir, topdown=False):\r\n",
    "        for name in files:\r\n",
    "            if name.endswith(format):\r\n",
    "                fullName = os.path.join(root, name)\r\n",
    "                fileList.append(fullName)\r\n",
    "    return fileList"
   ],
   "outputs": [],
   "metadata": {}
  },
  {
   "cell_type": "code",
   "execution_count": 5,
   "source": [
    "myFileList = createFileList('D:/age-and-gender-detection/dataset_Face')\r\n",
    "# print(myFileList)"
   ],
   "outputs": [
    {
     "output_type": "stream",
     "name": "stdout",
     "text": [
      "D:/age-and-gender-detection/dataset_Face\n"
     ]
    }
   ],
   "metadata": {}
  },
  {
   "cell_type": "code",
   "execution_count": 6,
   "source": [
    "def split_file_name(filename):\r\n",
    "    split_data = filename.split('_')\r\n",
    "    # split_data2 = split_data[2].split('.')\r\n",
    "    return (split_data)"
   ],
   "outputs": [],
   "metadata": {}
  },
  {
   "cell_type": "code",
   "execution_count": 8,
   "source": [
    "new_dict = {\r\n",
    "    'age':[],\r\n",
    "    'gender':[],\r\n",
    "    'pixels':[]\r\n",
    "    }\r\n",
    "\r\n",
    "df = pd.DataFrame(new_dict)\r\n",
    "for en,file in enumerate(myFileList):\r\n",
    "    img_file = Image.open(file)\r\n",
    "    img_file = img_file.transpose(Image.FLIP_LEFT_RIGHT)\r\n",
    "    img_file = img_file.resize((Dimension,Dimension))\r\n",
    "    width, height = img_file.size\r\n",
    "     \r\n",
    "    # print(type(en))\r\n",
    "   \r\n",
    "    head, tail = os.path.split(file)\r\n",
    "    # print(tail)\r\n",
    "    split_data = split_file_name(tail) \r\n",
    "    # print(split_data)\r\n",
    "\r\n",
    "    format=img_file.format\r\n",
    "    mode=img_file.mode\r\n",
    "\r\n",
    "    img_grey = img_file.convert('L')\r\n",
    "    \r\n",
    "    value=np.asarray(img_grey.getdata(),dtype=np.int).reshape((img_grey.size[1],img_grey.size[0]))\r\n",
    " \r\n",
    "    value=value.flatten()\r\n",
    "    tostr = lambda x: [str(y) for y in x]\r\n",
    "    \r\n",
    "    name_array = ' '.join(tostr(value))\r\n",
    " \r\n",
    "    df.loc[en] = [str(split_data[0]),str(split_data[1]),name_array]\r\n",
    "df.to_csv('../dataset/dataset2.csv',index=False)    "
   ],
   "outputs": [],
   "metadata": {}
  },
  {
   "cell_type": "markdown",
   "source": [
    "# checking  image is fliped or not?\r\n",
    " "
   ],
   "metadata": {}
  },
  {
   "cell_type": "code",
   "execution_count": 9,
   "source": [
    "# data=pd.read_csv(\"../dataset/age_gender.csv\")\r\n",
    "data=pd.read_csv(\"../dataset/dataset2.csv\")\r\n",
    "data.head()"
   ],
   "outputs": [
    {
     "output_type": "execute_result",
     "data": {
      "text/html": [
       "<div>\n",
       "<style scoped>\n",
       "    .dataframe tbody tr th:only-of-type {\n",
       "        vertical-align: middle;\n",
       "    }\n",
       "\n",
       "    .dataframe tbody tr th {\n",
       "        vertical-align: top;\n",
       "    }\n",
       "\n",
       "    .dataframe thead th {\n",
       "        text-align: right;\n",
       "    }\n",
       "</style>\n",
       "<table border=\"1\" class=\"dataframe\">\n",
       "  <thead>\n",
       "    <tr style=\"text-align: right;\">\n",
       "      <th></th>\n",
       "      <th>age</th>\n",
       "      <th>gender</th>\n",
       "      <th>pixels</th>\n",
       "    </tr>\n",
       "  </thead>\n",
       "  <tbody>\n",
       "    <tr>\n",
       "      <th>0</th>\n",
       "      <td>100</td>\n",
       "      <td>0</td>\n",
       "      <td>96 96 99 100 112 139 142 130 144 146 147 142 1...</td>\n",
       "    </tr>\n",
       "    <tr>\n",
       "      <th>1</th>\n",
       "      <td>100</td>\n",
       "      <td>0</td>\n",
       "      <td>157 156 158 161 163 163 167 192 202 191 197 20...</td>\n",
       "    </tr>\n",
       "    <tr>\n",
       "      <th>2</th>\n",
       "      <td>100</td>\n",
       "      <td>1</td>\n",
       "      <td>230 194 40 28 37 28 12 66 129 107 123 122 127 ...</td>\n",
       "    </tr>\n",
       "    <tr>\n",
       "      <th>3</th>\n",
       "      <td>100</td>\n",
       "      <td>1</td>\n",
       "      <td>156 175 171 151 138 141 140 146 137 141 140 13...</td>\n",
       "    </tr>\n",
       "    <tr>\n",
       "      <th>4</th>\n",
       "      <td>100</td>\n",
       "      <td>1</td>\n",
       "      <td>212 177 172 162 172 182 173 162 160 164 153 12...</td>\n",
       "    </tr>\n",
       "  </tbody>\n",
       "</table>\n",
       "</div>"
      ],
      "text/plain": [
       "   age  gender                                             pixels\n",
       "0  100       0  96 96 99 100 112 139 142 130 144 146 147 142 1...\n",
       "1  100       0  157 156 158 161 163 163 167 192 202 191 197 20...\n",
       "2  100       1  230 194 40 28 37 28 12 66 129 107 123 122 127 ...\n",
       "3  100       1  156 175 171 151 138 141 140 146 137 141 140 13...\n",
       "4  100       1  212 177 172 162 172 182 173 162 160 164 153 12..."
      ]
     },
     "metadata": {},
     "execution_count": 9
    }
   ],
   "metadata": {}
  },
  {
   "cell_type": "code",
   "execution_count": 10,
   "source": [
    "#convert pixels into numpy array\r\n",
    "data['pixels']=data['pixels'].apply(lambda x: np.array(x.split(), dtype=\"float32\"))\r\n",
    "data.head()"
   ],
   "outputs": [
    {
     "output_type": "execute_result",
     "data": {
      "text/html": [
       "<div>\n",
       "<style scoped>\n",
       "    .dataframe tbody tr th:only-of-type {\n",
       "        vertical-align: middle;\n",
       "    }\n",
       "\n",
       "    .dataframe tbody tr th {\n",
       "        vertical-align: top;\n",
       "    }\n",
       "\n",
       "    .dataframe thead th {\n",
       "        text-align: right;\n",
       "    }\n",
       "</style>\n",
       "<table border=\"1\" class=\"dataframe\">\n",
       "  <thead>\n",
       "    <tr style=\"text-align: right;\">\n",
       "      <th></th>\n",
       "      <th>age</th>\n",
       "      <th>gender</th>\n",
       "      <th>pixels</th>\n",
       "    </tr>\n",
       "  </thead>\n",
       "  <tbody>\n",
       "    <tr>\n",
       "      <th>0</th>\n",
       "      <td>100</td>\n",
       "      <td>0</td>\n",
       "      <td>[96.0, 96.0, 99.0, 100.0, 112.0, 139.0, 142.0,...</td>\n",
       "    </tr>\n",
       "    <tr>\n",
       "      <th>1</th>\n",
       "      <td>100</td>\n",
       "      <td>0</td>\n",
       "      <td>[157.0, 156.0, 158.0, 161.0, 163.0, 163.0, 167...</td>\n",
       "    </tr>\n",
       "    <tr>\n",
       "      <th>2</th>\n",
       "      <td>100</td>\n",
       "      <td>1</td>\n",
       "      <td>[230.0, 194.0, 40.0, 28.0, 37.0, 28.0, 12.0, 6...</td>\n",
       "    </tr>\n",
       "    <tr>\n",
       "      <th>3</th>\n",
       "      <td>100</td>\n",
       "      <td>1</td>\n",
       "      <td>[156.0, 175.0, 171.0, 151.0, 138.0, 141.0, 140...</td>\n",
       "    </tr>\n",
       "    <tr>\n",
       "      <th>4</th>\n",
       "      <td>100</td>\n",
       "      <td>1</td>\n",
       "      <td>[212.0, 177.0, 172.0, 162.0, 172.0, 182.0, 173...</td>\n",
       "    </tr>\n",
       "  </tbody>\n",
       "</table>\n",
       "</div>"
      ],
      "text/plain": [
       "   age  gender                                             pixels\n",
       "0  100       0  [96.0, 96.0, 99.0, 100.0, 112.0, 139.0, 142.0,...\n",
       "1  100       0  [157.0, 156.0, 158.0, 161.0, 163.0, 163.0, 167...\n",
       "2  100       1  [230.0, 194.0, 40.0, 28.0, 37.0, 28.0, 12.0, 6...\n",
       "3  100       1  [156.0, 175.0, 171.0, 151.0, 138.0, 141.0, 140...\n",
       "4  100       1  [212.0, 177.0, 172.0, 162.0, 172.0, 182.0, 173..."
      ]
     },
     "metadata": {},
     "execution_count": 10
    }
   ],
   "metadata": {}
  },
  {
   "cell_type": "code",
   "execution_count": 11,
   "source": [
    "X = np.array(data['pixels'].tolist())\r\n",
    "print(X)"
   ],
   "outputs": [
    {
     "output_type": "stream",
     "name": "stdout",
     "text": [
      "[[ 96.  96.  99. ... 230. 232. 235.]\n",
      " [157. 156. 158. ... 161. 166. 172.]\n",
      " [230. 194.  40. ...  61.  58.  47.]\n",
      " ...\n",
      " [222. 222. 215. ... 141. 125. 222.]\n",
      " [ 40.  17.  15. ...  28.  24.  22.]\n",
      " [250. 252. 252. ...  95.  69.  20.]]\n"
     ]
    }
   ],
   "metadata": {}
  },
  {
   "cell_type": "code",
   "execution_count": 12,
   "source": [
    "data = np.reshape(X[0], (Dimension, Dimension))\r\n",
    "data = Image.fromarray(data)\r\n",
    "imgg = plt.imshow(data)\r\n",
    "plt.show(imgg)"
   ],
   "outputs": [
    {
     "output_type": "display_data",
     "data": {
      "image/png": "[encoded data removed]",
      "text/plain": [
       "<Figure size 432x288 with 1 Axes>"
      ]
     },
     "metadata": {
      "needs_background": "light"
     }
    }
   ],
   "metadata": {}
  },
  {
   "cell_type": "code",
   "execution_count": null,
   "source": [],
   "outputs": [],
   "metadata": {}
  }
 ],
 "metadata": {
  "kernelspec": {
   "name": "python3",
   "display_name": "Python 3.9.7 64-bit"
  },
  "language_info": {
   "codemirror_mode": {
    "name": "ipython",
    "version": 3
   },
   "file_extension": ".py",
   "mimetype": "text/x-python",
   "name": "python",
   "nbconvert_exporter": "python",
   "pygments_lexer": "ipython3",
   "version": "3.9.7"
  },
  "interpreter": {
   "hash": "63fd5069d213b44bf678585dea6b12cceca9941eaf7f819626cde1f2670de90d"
  }
 },
 "nbformat": 4,
 "nbformat_minor": 5
}